{
  "nbformat": 4,
  "nbformat_minor": 0,
  "metadata": {
    "kernelspec": {
      "display_name": "Python 3",
      "language": "python",
      "name": "python3"
    },
    "language_info": {
      "codemirror_mode": {
        "name": "ipython",
        "version": 3
      },
      "file_extension": ".py",
      "mimetype": "text/x-python",
      "name": "python",
      "nbconvert_exporter": "python",
      "pygments_lexer": "ipython3",
      "version": "3.8.5"
    },
    "colab": {
      "name": "Seminar_01_NLP.ipynb",
      "provenance": [],
      "collapsed_sections": [],
      "toc_visible": true
    }
  },
  "cells": [
    {
      "cell_type": "markdown",
      "metadata": {
        "id": "ZvJKUUlNllnv"
      },
      "source": [
        "# Семинар 1 – Предобработка текста"
      ]
    },
    {
      "cell_type": "code",
      "metadata": {
        "colab": {
          "base_uri": "https://localhost:8080/"
        },
        "id": "i4DSJfdh0DzL",
        "outputId": "6e944f6b-79c6-4d84-d6a3-90ddbfc77f66"
      },
      "source": [
        "!pip install nltk"
      ],
      "execution_count": null,
      "outputs": [
        {
          "output_type": "stream",
          "text": [
            "Requirement already satisfied: nltk in /usr/local/lib/python3.6/dist-packages (3.2.5)\n",
            "Requirement already satisfied: six in /usr/local/lib/python3.6/dist-packages (from nltk) (1.15.0)\n"
          ],
          "name": "stdout"
        }
      ]
    },
    {
      "cell_type": "code",
      "metadata": {
        "id": "uD0krM4r0DzN"
      },
      "source": [
        "from __future__ import print_function\n",
        "import numpy as np\n",
        "import random\n",
        "import sys\n",
        "import io\n",
        "import os\n",
        "import re"
      ],
      "execution_count": null,
      "outputs": []
    },
    {
      "cell_type": "markdown",
      "metadata": {
        "id": "ugnQIr010DzO"
      },
      "source": [
        "# 1 Стемминг"
      ]
    },
    {
      "cell_type": "code",
      "metadata": {
        "colab": {
          "base_uri": "https://localhost:8080/"
        },
        "id": "-bejrQ2l0DzQ",
        "outputId": "e883b3c4-8448-48d4-a709-e6d64e2bef46"
      },
      "source": [
        "import nltk\n",
        "from nltk.stem import PorterStemmer\n",
        "from nltk.corpus import wordnet\n",
        "nltk.download('wordnet')\n",
        "nltk.download('punkt')\n",
        "nltk.download('averaged_perceptron_tagger')"
      ],
      "execution_count": null,
      "outputs": [
        {
          "output_type": "stream",
          "text": [
            "[nltk_data] Downloading package wordnet to /root/nltk_data...\n",
            "[nltk_data]   Package wordnet is already up-to-date!\n",
            "[nltk_data] Downloading package punkt to /root/nltk_data...\n",
            "[nltk_data]   Package punkt is already up-to-date!\n",
            "[nltk_data] Downloading package averaged_perceptron_tagger to\n",
            "[nltk_data]     /root/nltk_data...\n",
            "[nltk_data]   Package averaged_perceptron_tagger is already up-to-\n",
            "[nltk_data]       date!\n"
          ],
          "name": "stdout"
        },
        {
          "output_type": "execute_result",
          "data": {
            "text/plain": [
              "True"
            ]
          },
          "metadata": {
            "tags": []
          },
          "execution_count": 99
        }
      ]
    },
    {
      "cell_type": "code",
      "metadata": {
        "colab": {
          "base_uri": "https://localhost:8080/"
        },
        "id": "PeixON-M0DzO",
        "outputId": "cad28abf-a939-4497-b9a8-bb3654309e25"
      },
      "source": [
        "words= [\"learn\", \"learning\", \"learned\", \"learns\"]\n",
        "ps =  PorterStemmer()\n"
      ],
      "execution_count": null,
      "outputs": [
        {
          "output_type": "stream",
          "text": [
            "learn\n",
            "learn\n",
            "learn\n",
            "learn\n"
          ],
          "name": "stdout"
        }
      ]
    },
    {
      "cell_type": "code",
      "metadata": {
        "colab": {
          "base_uri": "https://localhost:8080/"
        },
        "id": "6NYm1hdI0DzP",
        "outputId": "a65f9b53-632a-4684-844e-9dd83df9b7c8"
      },
      "source": [
        "sentence=\"Dear students, You should try very hard to master machine learning!\"\n",
        "words = nltk.word_tokenize(sentence)\n",
        "ps = PorterStemmer()\n",
        "word_list = []\n",
        "\n",
        "\n",
        "print(\"Список слов из предложения:\\n\", word_list)"
      ],
      "execution_count": null,
      "outputs": [
        {
          "output_type": "stream",
          "text": [
            "Список слов из предложения:\n",
            " ['dear', 'student', ',', 'you', 'should', 'tri', 'veri', 'hard', 'to', 'master', 'machin', 'learn', '!']\n"
          ],
          "name": "stdout"
        }
      ]
    },
    {
      "cell_type": "markdown",
      "metadata": {
        "id": "M897x-iK0DzP"
      },
      "source": [
        "# 2 Лематтизация"
      ]
    },
    {
      "cell_type": "code",
      "metadata": {
        "id": "9bQc4whinQJC"
      },
      "source": [
        "from nltk.stem import WordNetLemmatizer "
      ],
      "execution_count": null,
      "outputs": []
    },
    {
      "cell_type": "code",
      "metadata": {
        "colab": {
          "base_uri": "https://localhost:8080/"
        },
        "id": "L5BJFjnQ0DzQ",
        "outputId": "f4aadb45-ddf3-4238-93d0-3c91b32aca31"
      },
      "source": [
        "# Init the Wordnet Lemmatizer\n",
        "lemmatizer = WordNetLemmatizer()\n",
        "# Lemmatize Single Word\n",
        "print(lemmatizer.lemmatize(\"classes\"))\n",
        "print(lemmatizer.lemmatize(\"women\"))\n",
        "print(lemmatizer.lemmatize(\"crying\"))"
      ],
      "execution_count": null,
      "outputs": [
        {
          "output_type": "stream",
          "text": [
            "class\n",
            "woman\n",
            "cry\n"
          ],
          "name": "stdout"
        }
      ]
    },
    {
      "cell_type": "code",
      "metadata": {
        "colab": {
          "base_uri": "https://localhost:8080/"
        },
        "id": "UQcV0pBv0DzR",
        "outputId": "37f0a13c-6f5f-4f80-e6d8-1384627c3a2d"
      },
      "source": [
        "# Напишем какое-нибудь предложение\n",
        "sentence = \"Bad students were expelled from the institute\"\n",
        "\n",
        "# Сделаем его токенизацию, то есть разобьем на слова\n",
        "word_list = nltk.word_tokenize(sentence)\n",
        "print(\"Список слов из предложения:\\n\", word_list)\n",
        "\n",
        "# Сделаем леммитизацию каждого слова\n",
        "lemmatized_output = #Ваш код здесь\n",
        "print(\"Предложение из лемматизированных слов:\\n\", lemmatized_output)"
      ],
      "execution_count": null,
      "outputs": [
        {
          "output_type": "stream",
          "text": [
            "Список слов из предложения:\n",
            " ['Bad', 'students', 'were', 'expelled', 'from', 'the', 'institute']\n",
            "Предложение из лемматизированных слов:\n",
            " Bad student were expelled from the institute\n"
          ],
          "name": "stdout"
        }
      ]
    },
    {
      "cell_type": "code",
      "metadata": {
        "colab": {
          "base_uri": "https://localhost:8080/"
        },
        "id": "akXmQtSf0DzR",
        "outputId": "63136a18-3a0d-4865-e671-39edf67dc140"
      },
      "source": [
        "# Иногда одно и то же слово может иметь несколько лемм в зависимости от значения/части речи/контекста\n",
        "print(lemmatizer.lemmatize(\"stripes\", 'v'))  \n",
        "print(lemmatizer.lemmatize(\"stripes\", 'n')) "
      ],
      "execution_count": null,
      "outputs": [
        {
          "output_type": "stream",
          "text": [
            "strip\n",
            "stripe\n"
          ],
          "name": "stdout"
        }
      ]
    },
    {
      "cell_type": "code",
      "metadata": {
        "id": "OKDQAcqj0DzS",
        "colab": {
          "base_uri": "https://localhost:8080/"
        },
        "outputId": "d8b35e27-e07e-42b2-e9ca-af431c6c1a80"
      },
      "source": [
        "print(nltk.pos_tag(['women']))\n",
        "print(nltk.pos_tag(nltk.word_tokenize(sentence)))"
      ],
      "execution_count": null,
      "outputs": [
        {
          "output_type": "stream",
          "text": [
            "[('women', 'NNS')]\n",
            "[('Bad', 'JJ'), ('students', 'NNS'), ('were', 'VBD'), ('expelled', 'VBN'), ('from', 'IN'), ('the', 'DT'), ('institute', 'NN')]\n"
          ],
          "name": "stdout"
        }
      ]
    },
    {
      "cell_type": "code",
      "metadata": {
        "colab": {
          "base_uri": "https://localhost:8080/"
        },
        "id": "Af-LdxLW0DzS",
        "outputId": "e888be8f-4ece-47ff-f92a-5a6b26debde2"
      },
      "source": [
        "# Lemmatize with POS Tag\n",
        "def get_wordnet_pos(word):\n",
        "    \"\"\"Map POS tag to first character lemmatize() accepts\"\"\"\n",
        "    tag = nltk.pos_tag([word])[0][1][0].upper()\n",
        "    tag_dict = {\"J\": wordnet.ADJ,\n",
        "                \"N\": wordnet.NOUN,\n",
        "                \"V\": wordnet.VERB,\n",
        "                \"R\": wordnet.ADV}\n",
        "    return tag_dict.get(tag, wordnet.NOUN)\n",
        "\n",
        "# 1. Init Lemmatizer\n",
        "lemmatizer = WordNetLemmatizer()\n",
        "\n",
        "# 2. Lemmatize Single Word with the appropriate POS tag\n",
        "word = 'women'\n",
        "print\n",
        "\n",
        "# 3. Lemmatize a Sentence with the appropriate POS tag\n",
        "print"
      ],
      "execution_count": null,
      "outputs": [
        {
          "output_type": "stream",
          "text": [
            "woman\n",
            "['Bad', 'student', 'be', 'expel', 'from', 'the', 'institute']\n"
          ],
          "name": "stdout"
        }
      ]
    },
    {
      "cell_type": "markdown",
      "metadata": {
        "id": "_zmE1ftq0DzS"
      },
      "source": [
        "# 4 Bag of words"
      ]
    },
    {
      "cell_type": "markdown",
      "metadata": {
        "id": "8yQmvZdMzs8C"
      },
      "source": [
        "## 4.1 Via python"
      ]
    },
    {
      "cell_type": "code",
      "metadata": {
        "id": "vZ0sWCd1oQL5"
      },
      "source": [
        "def vectorize(tokens):\n",
        "  # Ваш код здесь\n",
        "    return vector"
      ],
      "execution_count": null,
      "outputs": []
    },
    {
      "cell_type": "code",
      "metadata": {
        "id": "re_EYZMfoRps"
      },
      "source": [
        "def unique(sequence):\n",
        "  # Ваш код здесь"
      ],
      "execution_count": null,
      "outputs": []
    },
    {
      "cell_type": "code",
      "metadata": {
        "colab": {
          "base_uri": "https://localhost:8080/"
        },
        "id": "-_T93Dgl7gVX",
        "outputId": "691732ef-0a6d-49e0-cfb9-9e180c416009"
      },
      "source": [
        "#create a list of stopwords.You can import stopwords from nltk too\n",
        "stopwords=[\"to\",\"is\",\"a\"]\n",
        "\n",
        "#list of special characters.You can use regular expressions too\n",
        "special_char=[\",\",\":\",\" \",\";\",\".\",\"?\"]\n",
        "\n",
        "#Write the sentences in the corpus,in our case, just two \n",
        "string1=\"Welcome to Great Learning , Now start learning\"\n",
        "string2=\"Learning is a good practice\"\n",
        "\n",
        "#convert them to lower case\n",
        "# Ваш код здесь\n",
        "\n",
        "#split the sentences into tokens\n",
        "# Ваш код здесь\n",
        "print(tokens1)\n",
        "print(tokens2)"
      ],
      "execution_count": null,
      "outputs": [
        {
          "output_type": "stream",
          "text": [
            "['welcome', 'to', 'great', 'learning', ',', 'now', 'start', 'learning']\n",
            "['learning', 'is', 'a', 'good', 'practice']\n"
          ],
          "name": "stdout"
        }
      ]
    },
    {
      "cell_type": "code",
      "metadata": {
        "colab": {
          "base_uri": "https://localhost:8080/"
        },
        "id": "_OjnTYJY7gaj",
        "outputId": "42681b0f-ccca-4390-f816-f3adfd5d5fbe"
      },
      "source": [
        "#create a vocabulary list\n",
        "# Ваш код здесь\n",
        "print(vocab)"
      ],
      "execution_count": null,
      "outputs": [
        {
          "output_type": "stream",
          "text": [
            "['welcome', 'to', 'great', 'learning', ',', 'now', 'start', 'is', 'a', 'good', 'practice']\n"
          ],
          "name": "stdout"
        }
      ]
    },
    {
      "cell_type": "code",
      "metadata": {
        "colab": {
          "base_uri": "https://localhost:8080/"
        },
        "id": "tKpT8ZM47krL",
        "outputId": "f2dbc5a9-c83f-405e-ffd8-5989a88161ec"
      },
      "source": [
        "#filter the vocabulary list\n",
        "# Ваш код здесь\n",
        "print(filtered_vocab)"
      ],
      "execution_count": null,
      "outputs": [
        {
          "output_type": "stream",
          "text": [
            "['welcome', 'great', 'learning', 'now', 'start', 'good', 'practice']\n"
          ],
          "name": "stdout"
        }
      ]
    },
    {
      "cell_type": "code",
      "metadata": {
        "id": "DqxDa5i10DzT",
        "colab": {
          "base_uri": "https://localhost:8080/"
        },
        "outputId": "0d9a5768-9bed-431a-dfbe-f9fb787ab654"
      },
      "source": [
        "#convert sentences into vectors\n",
        "vector1=vectorize(tokens1)\n",
        "print(vector1)\n",
        "vector2=vectorize(tokens2)\n",
        "print(vector2)"
      ],
      "execution_count": null,
      "outputs": [
        {
          "output_type": "stream",
          "text": [
            "[1, 1, 2, 1, 1, 0, 0]\n",
            "[0, 0, 1, 0, 0, 1, 1]\n"
          ],
          "name": "stdout"
        }
      ]
    },
    {
      "cell_type": "markdown",
      "metadata": {
        "id": "dJkijEN0zzQa"
      },
      "source": [
        "## 4.2 Via sklearn"
      ]
    },
    {
      "cell_type": "code",
      "metadata": {
        "id": "w8_xs-Wd0DzT",
        "colab": {
          "base_uri": "https://localhost:8080/"
        },
        "outputId": "a331753a-fcee-49e5-fd39-4477f6b681ef"
      },
      "source": [
        "import pandas as pd\n",
        "from sklearn.feature_extraction.text import CountVectorizer, TfidfVectorizer\n",
        " \n",
        "sentence_1=\"Welcome to Great Learning , Now start learning\"\n",
        "sentence_2=\"Learning is a good practice\"\n",
        " \n",
        " \n",
        " \n",
        "CountVec = \n",
        "#transform\n",
        "Count_data = \n",
        " \n",
        "#create dataframe\n",
        "cv_dataframe=pd.DataFrame(Count_data.toarray(),columns=CountVec.get_feature_names())\n",
        "print(cv_dataframe)"
      ],
      "execution_count": null,
      "outputs": [
        {
          "output_type": "stream",
          "text": [
            "   good  great  learning  practice  start  welcome\n",
            "0     0      1         2         0      1        1\n",
            "1     1      0         1         1      0        0\n"
          ],
          "name": "stdout"
        }
      ]
    },
    {
      "cell_type": "markdown",
      "metadata": {
        "id": "FvIgMKQ_-0gs"
      },
      "source": [
        "# 5 N-grams"
      ]
    },
    {
      "cell_type": "code",
      "metadata": {
        "colab": {
          "base_uri": "https://localhost:8080/"
        },
        "id": "G5ZpN6wr-x7R",
        "outputId": "e53b64cd-af94-458e-ace2-ef8d40200700"
      },
      "source": [
        "import pandas as pd\n",
        "from sklearn.feature_extraction.text import CountVectorizer, TfidfVectorizer\n",
        " \n",
        "sentence_1=\"This is a good job.I will not miss it for anything\"\n",
        "sentence_2=\"This is not good at all\"\n",
        " \n",
        " \n",
        " \n",
        "CountVec = CountVectorizer(ngram_range=(1,1))\n",
        "#transform\n",
        "Count_data = CountVec.fit_transform([sentence_1,sentence_2])\n",
        " \n",
        "#create dataframe\n",
        "cv_dataframe=pd.DataFrame(Count_data.toarray(),columns=CountVec.get_feature_names())\n",
        "print(cv_dataframe)"
      ],
      "execution_count": null,
      "outputs": [
        {
          "output_type": "stream",
          "text": [
            "   all  anything  at  for  good  is  it  job  miss  not  this  will\n",
            "0    0         1   0    1     1   1   1    1     1    1     1     1\n",
            "1    1         0   1    0     1   1   0    0     0    1     1     0\n"
          ],
          "name": "stdout"
        }
      ]
    },
    {
      "cell_type": "markdown",
      "metadata": {
        "id": "0UcGOjhCyySP"
      },
      "source": [
        "# 6 TF-IDF"
      ]
    },
    {
      "cell_type": "markdown",
      "metadata": {
        "id": "1BJ64wQ6_6nR"
      },
      "source": [
        "$TF(i,j)= \\frac{n(i,j)}{\\sum{ n(i,j)}}$\n",
        "\n",
        "$IDF=1+\\log(N/dN)$\n",
        "\n",
        "$TF-IDF=TF*IDF$"
      ]
    },
    {
      "cell_type": "code",
      "metadata": {
        "id": "4UbtxWD10DzT",
        "colab": {
          "base_uri": "https://localhost:8080/"
        },
        "outputId": "c2346f96-ef79-477e-af28-f41742ee9aec"
      },
      "source": [
        "import pandas as pd\n",
        "from sklearn.feature_extraction.text import CountVectorizer, TfidfVectorizer\n",
        " \n",
        "sentence_1=\"This is a good job.I will not miss it for anything\"\n",
        "sentence_2=\"This is not good at all\"\n",
        " \n",
        "#define tf-idf\n",
        "tf_idf_vec = TfidfVectorizer(use_idf=True, \n",
        "                        smooth_idf=False,  \n",
        "                        ngram_range=(1,1))\n",
        "#transform\n",
        "tf_idf_data = tf_idf_vec.fit_transform([sentence_1,sentence_2])\n",
        " \n",
        "#create dataframe\n",
        "tf_idf_dataframe=pd.DataFrame(tf_idf_data.toarray(),columns=tf_idf_vec.get_feature_names())\n",
        "print(tf_idf_dataframe)"
      ],
      "execution_count": null,
      "outputs": [
        {
          "output_type": "stream",
          "text": [
            "        all  anything        at  ...       not      this      will\n",
            "0  0.000000  0.367724  0.000000  ...  0.217184  0.217184  0.367724\n",
            "1  0.542701  0.000000  0.542701  ...  0.320528  0.320528  0.000000\n",
            "\n",
            "[2 rows x 12 columns]\n"
          ],
          "name": "stdout"
        }
      ]
    },
    {
      "cell_type": "markdown",
      "metadata": {
        "id": "t_1T5LEgH2lL"
      },
      "source": [
        "# 7 Word2vec"
      ]
    },
    {
      "cell_type": "markdown",
      "metadata": {
        "id": "DikHsCQpH2lL"
      },
      "source": [
        "Установим полезную утилиту Python для парсинга веб-страниц. Она поможет нам достать статью Векипедии, с которой мы будем работать."
      ]
    },
    {
      "cell_type": "code",
      "metadata": {
        "id": "mu5x1nF9H2lM",
        "colab": {
          "base_uri": "https://localhost:8080/"
        },
        "outputId": "dcf5fad5-72e9-404b-bfcb-9cde1c8d1bc9"
      },
      "source": [
        "!pip install beautifulsoup4"
      ],
      "execution_count": null,
      "outputs": [
        {
          "output_type": "stream",
          "text": [
            "Requirement already satisfied: beautifulsoup4 in /usr/local/lib/python3.6/dist-packages (4.6.3)\n"
          ],
          "name": "stdout"
        }
      ]
    },
    {
      "cell_type": "markdown",
      "metadata": {
        "id": "1ZbMOUaRH2lM"
      },
      "source": [
        "И еще установим библиотеку для синтаксического анализа HTML страниц."
      ]
    },
    {
      "cell_type": "code",
      "metadata": {
        "id": "Oooq0-JeH2lM",
        "colab": {
          "base_uri": "https://localhost:8080/"
        },
        "outputId": "c91ccf7d-794c-4cd5-cf3f-644f70973725"
      },
      "source": [
        "!pip install lxml"
      ],
      "execution_count": null,
      "outputs": [
        {
          "output_type": "stream",
          "text": [
            "Requirement already satisfied: lxml in /usr/local/lib/python3.6/dist-packages (4.2.6)\n"
          ],
          "name": "stdout"
        }
      ]
    },
    {
      "cell_type": "code",
      "metadata": {
        "id": "Erq1W2f-H2lM",
        "colab": {
          "base_uri": "https://localhost:8080/"
        },
        "outputId": "fc478024-b966-4a30-ffd1-67ad659fc303"
      },
      "source": [
        "import bs4 as bs\n",
        "import urllib.request\n",
        "import re\n",
        "import nltk\n",
        "nltk.download('stopwords')"
      ],
      "execution_count": null,
      "outputs": [
        {
          "output_type": "stream",
          "text": [
            "[nltk_data] Downloading package stopwords to /root/nltk_data...\n",
            "[nltk_data]   Package stopwords is already up-to-date!\n"
          ],
          "name": "stdout"
        },
        {
          "output_type": "execute_result",
          "data": {
            "text/plain": [
              "True"
            ]
          },
          "metadata": {
            "tags": []
          },
          "execution_count": 120
        }
      ]
    },
    {
      "cell_type": "markdown",
      "metadata": {
        "id": "hMF6_mmQH2lM"
      },
      "source": [
        "Статья, с которой будем работать, конечно, про искусственный интеллект:) "
      ]
    },
    {
      "cell_type": "code",
      "metadata": {
        "id": "MQGApu7yH2lN"
      },
      "source": [
        "# Загрузим статью по ссылке\n",
        "scrapped_data = urllib.request.urlopen('https://en.wikipedia.org/wiki/Artificial_intelligence')\n",
        "\n",
        "# Сдесь статья еще в куче с HTML кодами\n",
        "article = scrapped_data.read()\n",
        "\n",
        "# А теперь статья приняла нормальный вид\n",
        "parsed_article = bs.BeautifulSoup(article,'lxml')\n",
        "\n",
        "# Википедия хранит текстовое содержимое статьи внутри p-тегов. Вытащим текст\n",
        "paragraphs = parsed_article.find_all('p')\n",
        "article_text = \"\"\n",
        "for p in paragraphs:\n",
        "    article_text += p.text"
      ],
      "execution_count": null,
      "outputs": []
    },
    {
      "cell_type": "markdown",
      "metadata": {
        "id": "Baae6F3uH2lN"
      },
      "source": [
        "Убедимся, что текст без HTML кодов."
      ]
    },
    {
      "cell_type": "code",
      "metadata": {
        "id": "AztMw8FjH2lN",
        "colab": {
          "base_uri": "https://localhost:8080/",
          "height": 53
        },
        "outputId": "cd5b3dd5-098c-40ec-b23d-345b238227e8"
      },
      "source": [
        "article_text[0:300]"
      ],
      "execution_count": null,
      "outputs": [
        {
          "output_type": "execute_result",
          "data": {
            "application/vnd.google.colaboratory.intrinsic+json": {
              "type": "string"
            },
            "text/plain": [
              "\"\\n\\nArtificial intelligence (AI) is intelligence demonstrated by machines, unlike the natural intelligence displayed by humans and animals, which involves consciousness and emotionality. The distinction between the former and the latter categories is often revealed by the acronym chosen. 'Strong' AI i\""
            ]
          },
          "metadata": {
            "tags": []
          },
          "execution_count": 122
        }
      ]
    },
    {
      "cell_type": "markdown",
      "metadata": {
        "id": "LazygxJdH2lN"
      },
      "source": [
        "Супер!\n",
        "\n",
        "Дальше сделаем предобработку текста:"
      ]
    },
    {
      "cell_type": "code",
      "metadata": {
        "id": "X23MFSiFH2lN"
      },
      "source": [
        "# Удаляем прописные буквы\n",
        "processed_article = \n",
        "\n",
        "# Удаляем все цифры, специальные символы\n",
        "processed_article = re.sub('[^a-zA-Z]', ' ', processed_article)\n",
        "\n",
        "# Удаляем лишние пробелы из текста\n",
        "processed_article = re.sub(r'\\s+', ' ', processed_article)\n",
        "\n",
        "# Делим статью на предложения\n",
        "# Хоть оно и получается одно, но это нужно, чтобы word_tokenize воспринимал слова как слова, а не буквы как слова\n",
        "all_sentences = nltk.sent_tokenize(processed_article)\n",
        "\n",
        "# Теперь разделим на слова\n",
        "all_words = [nltk.word_tokenize(sent) for sent in all_sentences]\n",
        "\n",
        "# Удаляем слова, недающие никакой информации (предлоги, артикли и тд)\n",
        "from nltk.corpus import stopwords\n"
      ],
      "execution_count": null,
      "outputs": []
    },
    {
      "cell_type": "markdown",
      "metadata": {
        "id": "6dww_bmXH2lO"
      },
      "source": [
        "Посмотрим первые несколько слов нашего \"чистого\" списка."
      ]
    },
    {
      "cell_type": "code",
      "metadata": {
        "id": "2TIs0kWyH2lO",
        "colab": {
          "base_uri": "https://localhost:8080/"
        },
        "outputId": "9fa38f84-440e-4ea2-8575-7ff7aff0bcfc"
      },
      "source": [
        "all_words[0][0:5]"
      ],
      "execution_count": null,
      "outputs": [
        {
          "output_type": "execute_result",
          "data": {
            "text/plain": [
              "['artificial', 'intelligence', 'ai', 'intelligence', 'demonstrated']"
            ]
          },
          "metadata": {
            "tags": []
          },
          "execution_count": 124
        }
      ]
    },
    {
      "cell_type": "markdown",
      "metadata": {
        "id": "qB1ew-36H2lO"
      },
      "source": [
        "Теперь нужно установить библиотеку обработки естественного языка.С её помощью можно обрабатывать тексты, работать с векторными моделями слов, такими как Word2Vec (в нашем случае, на самом деле у нее гораздо больше возможностей)."
      ]
    },
    {
      "cell_type": "code",
      "metadata": {
        "id": "xvoCYYuUH2lO",
        "colab": {
          "base_uri": "https://localhost:8080/"
        },
        "outputId": "d1541002-aefd-4320-fe4e-d6aa363dcb68"
      },
      "source": [
        "!pip install gensim"
      ],
      "execution_count": null,
      "outputs": [
        {
          "output_type": "stream",
          "text": [
            "Requirement already satisfied: gensim in /usr/local/lib/python3.6/dist-packages (3.6.0)\n",
            "Requirement already satisfied: numpy>=1.11.3 in /usr/local/lib/python3.6/dist-packages (from gensim) (1.19.5)\n",
            "Requirement already satisfied: smart-open>=1.2.1 in /usr/local/lib/python3.6/dist-packages (from gensim) (4.1.2)\n",
            "Requirement already satisfied: scipy>=0.18.1 in /usr/local/lib/python3.6/dist-packages (from gensim) (1.4.1)\n",
            "Requirement already satisfied: six>=1.5.0 in /usr/local/lib/python3.6/dist-packages (from gensim) (1.15.0)\n"
          ],
          "name": "stdout"
        }
      ]
    },
    {
      "cell_type": "code",
      "metadata": {
        "id": "Cu6LBPuCH2lO"
      },
      "source": [
        "from gensim.models import Word2Vec"
      ],
      "execution_count": null,
      "outputs": []
    },
    {
      "cell_type": "markdown",
      "metadata": {
        "id": "dJpLA2RTH2lP"
      },
      "source": [
        "Создадим модель Word2Vec с использованием статьи в Википедии, которую мы скопировали."
      ]
    },
    {
      "cell_type": "markdown",
      "metadata": {
        "id": "v0PiAc6JH2lP"
      },
      "source": [
        "min_count=2 показывает, что в модель Word2Vec будут входить только те слова, которые встречаются в корпусе как минимум 2 раза."
      ]
    },
    {
      "cell_type": "code",
      "metadata": {
        "id": "OtRqlF2aH2lP"
      },
      "source": [
        "word2vec = Word2Vec(all_words, min_count=2)"
      ],
      "execution_count": null,
      "outputs": []
    },
    {
      "cell_type": "markdown",
      "metadata": {
        "id": "5pCcbkABH2lP"
      },
      "source": [
        "Посмотри уникальные слова, которые в статье встреачются как минимум дважды."
      ]
    },
    {
      "cell_type": "markdown",
      "metadata": {
        "id": "GsBO4V5YH2lP"
      },
      "source": [
        "Небольшое пояснение:\n",
        "\n",
        "Вы можете увидеть радом со словом что-то подобное(<gensim.models.keyedvectors.Vocab object at 0x00000282FDC67100>). Структура KeyedVectors представляет собой отображение между ключами и векторным представлением слова. Каждый вектор идентифицируется своим ключом поиска, чаще всего коротким строковым токеном. Это выглядит как {str => 1D numpy array}."
      ]
    },
    {
      "cell_type": "code",
      "metadata": {
        "scrolled": true,
        "id": "aN6yfSLvH2lP",
        "colab": {
          "base_uri": "https://localhost:8080/"
        },
        "outputId": "31920149-395c-4f7d-f2ad-e00d8e5ac1d9"
      },
      "source": [
        "# model.wv - свойство модели, в котором хранятся отдельные ключевые векторы\n",
        "vocab = word2vec.wv.vocab\n",
        "print(vocab)"
      ],
      "execution_count": null,
      "outputs": [
        {
          "output_type": "stream",
          "text": [
            "{'artificial': <gensim.models.keyedvectors.Vocab object at 0x7f5769cfcb00>, 'intelligence': <gensim.models.keyedvectors.Vocab object at 0x7f5769cfcc50>, 'ai': <gensim.models.keyedvectors.Vocab object at 0x7f575f41b198>, 'machines': <gensim.models.keyedvectors.Vocab object at 0x7f575f41b630>, 'unlike': <gensim.models.keyedvectors.Vocab object at 0x7f575f41b4e0>, 'natural': <gensim.models.keyedvectors.Vocab object at 0x7f570332fa58>, 'displayed': <gensim.models.keyedvectors.Vocab object at 0x7f570332fbe0>, 'humans': <gensim.models.keyedvectors.Vocab object at 0x7f570332fcf8>, 'animals': <gensim.models.keyedvectors.Vocab object at 0x7f570332fd68>, 'involves': <gensim.models.keyedvectors.Vocab object at 0x7f570332feb8>, 'consciousness': <gensim.models.keyedvectors.Vocab object at 0x7f570332ff28>, 'categories': <gensim.models.keyedvectors.Vocab object at 0x7f570332ffd0>, 'often': <gensim.models.keyedvectors.Vocab object at 0x7f570332ff60>, 'strong': <gensim.models.keyedvectors.Vocab object at 0x7f570332ff98>, 'usually': <gensim.models.keyedvectors.Vocab object at 0x7f570332fef0>, 'agi': <gensim.models.keyedvectors.Vocab object at 0x7f570332fdd8>, 'general': <gensim.models.keyedvectors.Vocab object at 0x7f570332fe48>, 'called': <gensim.models.keyedvectors.Vocab object at 0x7f570332fe80>, 'biological': <gensim.models.keyedvectors.Vocab object at 0x7f570332fe10>, 'leading': <gensim.models.keyedvectors.Vocab object at 0x7f570332fda0>, 'field': <gensim.models.keyedvectors.Vocab object at 0x7f570332fd30>, 'study': <gensim.models.keyedvectors.Vocab object at 0x7f570332fc18>, 'intelligent': <gensim.models.keyedvectors.Vocab object at 0x7f570332fc88>, 'agents': <gensim.models.keyedvectors.Vocab object at 0x7f570332fcc0>, 'device': <gensim.models.keyedvectors.Vocab object at 0x7f570332fc50>, 'perceives': <gensim.models.keyedvectors.Vocab object at 0x7f570332fac8>, 'environment': <gensim.models.keyedvectors.Vocab object at 0x7f570332fb38>, 'takes': <gensim.models.keyedvectors.Vocab object at 0x7f570332fba8>, 'actions': <gensim.models.keyedvectors.Vocab object at 0x7f570332fb70>, 'maximize': <gensim.models.keyedvectors.Vocab object at 0x7f570332fb00>, 'chance': <gensim.models.keyedvectors.Vocab object at 0x7f570332fa90>, 'successfully': <gensim.models.keyedvectors.Vocab object at 0x7f57a009ecc0>, 'achieving': <gensim.models.keyedvectors.Vocab object at 0x7f57b8649ac8>, 'goals': <gensim.models.keyedvectors.Vocab object at 0x7f576a4e3940>, 'term': <gensim.models.keyedvectors.Vocab object at 0x7f5703f1b208>, 'used': <gensim.models.keyedvectors.Vocab object at 0x7f57a008e5f8>, 'describe': <gensim.models.keyedvectors.Vocab object at 0x7f57a008e2b0>, 'computers': <gensim.models.keyedvectors.Vocab object at 0x7f57a008e278>, 'mimic': <gensim.models.keyedvectors.Vocab object at 0x7f57a008e390>, 'cognitive': <gensim.models.keyedvectors.Vocab object at 0x7f57a008e3c8>, 'functions': <gensim.models.keyedvectors.Vocab object at 0x7f57a008e240>, 'human': <gensim.models.keyedvectors.Vocab object at 0x7f57a008e0f0>, 'mind': <gensim.models.keyedvectors.Vocab object at 0x7f57a008e668>, 'learning': <gensim.models.keyedvectors.Vocab object at 0x7f57a008e4a8>, 'problem': <gensim.models.keyedvectors.Vocab object at 0x7f57a008e358>, 'solving': <gensim.models.keyedvectors.Vocab object at 0x7f57a008e588>, 'become': <gensim.models.keyedvectors.Vocab object at 0x7f57a008e400>, 'increasingly': <gensim.models.keyedvectors.Vocab object at 0x7f57a008eb70>, 'capable': <gensim.models.keyedvectors.Vocab object at 0x7f57a008e630>, 'tasks': <gensim.models.keyedvectors.Vocab object at 0x7f5703339128>, 'considered': <gensim.models.keyedvectors.Vocab object at 0x7f57033391d0>, 'require': <gensim.models.keyedvectors.Vocab object at 0x7f5703339748>, 'definition': <gensim.models.keyedvectors.Vocab object at 0x7f5703339668>, 'phenomenon': <gensim.models.keyedvectors.Vocab object at 0x7f5703339518>, 'known': <gensim.models.keyedvectors.Vocab object at 0x7f5703339588>, 'effect': <gensim.models.keyedvectors.Vocab object at 0x7f5703339630>, 'instance': <gensim.models.keyedvectors.Vocab object at 0x7f5703339278>, 'character': <gensim.models.keyedvectors.Vocab object at 0x7f57033399e8>, 'recognition': <gensim.models.keyedvectors.Vocab object at 0x7f57033399b0>, 'frequently': <gensim.models.keyedvectors.Vocab object at 0x7f5703339978>, 'things': <gensim.models.keyedvectors.Vocab object at 0x7f5703339860>, 'routine': <gensim.models.keyedvectors.Vocab object at 0x7f5703339780>, 'technology': <gensim.models.keyedvectors.Vocab object at 0x7f5703339320>, 'modern': <gensim.models.keyedvectors.Vocab object at 0x7f5703339240>, 'machine': <gensim.models.keyedvectors.Vocab object at 0x7f5703339048>, 'capabilities': <gensim.models.keyedvectors.Vocab object at 0x7f5703339358>, 'generally': <gensim.models.keyedvectors.Vocab object at 0x7f5703339a90>, 'include': <gensim.models.keyedvectors.Vocab object at 0x7f57033396a0>, 'understanding': <gensim.models.keyedvectors.Vocab object at 0x7f57033390f0>, 'speech': <gensim.models.keyedvectors.Vocab object at 0x7f5703339438>, 'competing': <gensim.models.keyedvectors.Vocab object at 0x7f5703339390>, 'level': <gensim.models.keyedvectors.Vocab object at 0x7f5703339160>, 'game': <gensim.models.keyedvectors.Vocab object at 0x7f5703339b38>, 'systems': <gensim.models.keyedvectors.Vocab object at 0x7f5703339b00>, 'chess': <gensim.models.keyedvectors.Vocab object at 0x7f5703339ba8>, 'go': <gensim.models.keyedvectors.Vocab object at 0x7f5703339be0>, 'operating': <gensim.models.keyedvectors.Vocab object at 0x7f5703339c50>, 'cars': <gensim.models.keyedvectors.Vocab object at 0x7f5703339d68>, 'content': <gensim.models.keyedvectors.Vocab object at 0x7f5703339e80>, 'networks': <gensim.models.keyedvectors.Vocab object at 0x7f5703339eb8>, 'founded': <gensim.models.keyedvectors.Vocab object at 0x7f5703339f60>, 'academic': <gensim.models.keyedvectors.Vocab object at 0x7f5703337048>, 'discipline': <gensim.models.keyedvectors.Vocab object at 0x7f5703337080>, 'years': <gensim.models.keyedvectors.Vocab object at 0x7f57033370f0>, 'since': <gensim.models.keyedvectors.Vocab object at 0x7f57033371d0>, 'experienced': <gensim.models.keyedvectors.Vocab object at 0x7f5703337240>, 'several': <gensim.models.keyedvectors.Vocab object at 0x7f5703337278>, 'waves': <gensim.models.keyedvectors.Vocab object at 0x7f57033372e8>, 'followed': <gensim.models.keyedvectors.Vocab object at 0x7f5703337320>, 'funding': <gensim.models.keyedvectors.Vocab object at 0x7f5703337358>, 'winter': <gensim.models.keyedvectors.Vocab object at 0x7f5703337390>, 'new': <gensim.models.keyedvectors.Vocab object at 0x7f57033373c8>, 'approaches': <gensim.models.keyedvectors.Vocab object at 0x7f5703337400>, 'success': <gensim.models.keyedvectors.Vocab object at 0x7f57033374a8>, 'alphago': <gensim.models.keyedvectors.Vocab object at 0x7f5703337550>, 'defeated': <gensim.models.keyedvectors.Vocab object at 0x7f5703337588>, 'professional': <gensim.models.keyedvectors.Vocab object at 0x7f57033375c0>, 'player': <gensim.models.keyedvectors.Vocab object at 0x7f57033375f8>, 'widespread': <gensim.models.keyedvectors.Vocab object at 0x7f5703337668>, 'attention': <gensim.models.keyedvectors.Vocab object at 0x7f5703337710>, 'history': <gensim.models.keyedvectors.Vocab object at 0x7f5703337748>, 'research': <gensim.models.keyedvectors.Vocab object at 0x7f57033377f0>, 'sub': <gensim.models.keyedvectors.Vocab object at 0x7f5703337898>, 'fields': <gensim.models.keyedvectors.Vocab object at 0x7f5703337940>, 'based': <gensim.models.keyedvectors.Vocab object at 0x7f5703337a20>, 'particular': <gensim.models.keyedvectors.Vocab object at 0x7f5703337a58>, 'e': <gensim.models.keyedvectors.Vocab object at 0x7f5703337a90>, 'g': <gensim.models.keyedvectors.Vocab object at 0x7f5703337b00>, 'robotics': <gensim.models.keyedvectors.Vocab object at 0x7f5703337b38>, 'use': <gensim.models.keyedvectors.Vocab object at 0x7f5703337b70>, 'tools': <gensim.models.keyedvectors.Vocab object at 0x7f5703337ba8>, 'logic': <gensim.models.keyedvectors.Vocab object at 0x7f5703337c50>, 'neural': <gensim.models.keyedvectors.Vocab object at 0x7f5703337c88>, 'deep': <gensim.models.keyedvectors.Vocab object at 0x7f5703337cf8>, 'philosophical': <gensim.models.keyedvectors.Vocab object at 0x7f5703337da0>, 'also': <gensim.models.keyedvectors.Vocab object at 0x7f5703337e48>, 'social': <gensim.models.keyedvectors.Vocab object at 0x7f5703337e80>, 'factors': <gensim.models.keyedvectors.Vocab object at 0x7f5703337eb8>, 'institutions': <gensim.models.keyedvectors.Vocab object at 0x7f5703337ef0>, 'work': <gensim.models.keyedvectors.Vocab object at 0x7f5703337f28>, 'researchers': <gensim.models.keyedvectors.Vocab object at 0x7f5703337fd0>, 'traditional': <gensim.models.keyedvectors.Vocab object at 0x7f570333b080>, 'problems': <gensim.models.keyedvectors.Vocab object at 0x7f570333b0b8>, 'reasoning': <gensim.models.keyedvectors.Vocab object at 0x7f570333b0f0>, 'knowledge': <gensim.models.keyedvectors.Vocab object at 0x7f570333b160>, 'representation': <gensim.models.keyedvectors.Vocab object at 0x7f570333b1d0>, 'planning': <gensim.models.keyedvectors.Vocab object at 0x7f570333b240>, 'language': <gensim.models.keyedvectors.Vocab object at 0x7f570333b2e8>, 'processing': <gensim.models.keyedvectors.Vocab object at 0x7f570333b358>, 'perception': <gensim.models.keyedvectors.Vocab object at 0x7f570333b438>, 'ability': <gensim.models.keyedvectors.Vocab object at 0x7f570333b4a8>, 'move': <gensim.models.keyedvectors.Vocab object at 0x7f570333b518>, 'objects': <gensim.models.keyedvectors.Vocab object at 0x7f570333b5c0>, 'among': <gensim.models.keyedvectors.Vocab object at 0x7f570333b5f8>, 'long': <gensim.models.keyedvectors.Vocab object at 0x7f570333b668>, 'statistical': <gensim.models.keyedvectors.Vocab object at 0x7f570333b6a0>, 'methods': <gensim.models.keyedvectors.Vocab object at 0x7f570333b6d8>, 'computational': <gensim.models.keyedvectors.Vocab object at 0x7f570333b748>, 'symbolic': <gensim.models.keyedvectors.Vocab object at 0x7f570333b828>, 'many': <gensim.models.keyedvectors.Vocab object at 0x7f570333b860>, 'including': <gensim.models.keyedvectors.Vocab object at 0x7f570333b8d0>, 'search': <gensim.models.keyedvectors.Vocab object at 0x7f570333b940>, 'mathematical': <gensim.models.keyedvectors.Vocab object at 0x7f570333b9e8>, 'optimization': <gensim.models.keyedvectors.Vocab object at 0x7f570333ba58>, 'statistics': <gensim.models.keyedvectors.Vocab object at 0x7f570333bbe0>, 'probability': <gensim.models.keyedvectors.Vocab object at 0x7f570333bcc0>, 'economics': <gensim.models.keyedvectors.Vocab object at 0x7f570333bd30>, 'upon': <gensim.models.keyedvectors.Vocab object at 0x7f570333bda0>, 'computer': <gensim.models.keyedvectors.Vocab object at 0x7f570333be10>, 'science': <gensim.models.keyedvectors.Vocab object at 0x7f570333be80>, 'information': <gensim.models.keyedvectors.Vocab object at 0x7f570333bf28>, 'engineering': <gensim.models.keyedvectors.Vocab object at 0x7f570333bf60>, 'mathematics': <gensim.models.keyedvectors.Vocab object at 0x7f570333bf98>, 'psychology': <gensim.models.keyedvectors.Vocab object at 0x7f570333c128>, 'philosophy': <gensim.models.keyedvectors.Vocab object at 0x7f570333c198>, 'described': <gensim.models.keyedvectors.Vocab object at 0x7f570333c208>, 'simulate': <gensim.models.keyedvectors.Vocab object at 0x7f570333c278>, 'ethics': <gensim.models.keyedvectors.Vocab object at 0x7f570333c2e8>, 'creating': <gensim.models.keyedvectors.Vocab object at 0x7f570333c320>, 'beings': <gensim.models.keyedvectors.Vocab object at 0x7f570333c358>, 'like': <gensim.models.keyedvectors.Vocab object at 0x7f570333c3c8>, 'issues': <gensim.models.keyedvectors.Vocab object at 0x7f570333c400>, 'explored': <gensim.models.keyedvectors.Vocab object at 0x7f570333c438>, 'fiction': <gensim.models.keyedvectors.Vocab object at 0x7f570333c470>, 'antiquity': <gensim.models.keyedvectors.Vocab object at 0x7f570333c4e0>, 'people': <gensim.models.keyedvectors.Vocab object at 0x7f570333c518>, 'consider': <gensim.models.keyedvectors.Vocab object at 0x7f570333c588>, 'danger': <gensim.models.keyedvectors.Vocab object at 0x7f570333c5c0>, 'humanity': <gensim.models.keyedvectors.Vocab object at 0x7f570333c5f8>, 'others': <gensim.models.keyedvectors.Vocab object at 0x7f570333c668>, 'believe': <gensim.models.keyedvectors.Vocab object at 0x7f570333c6a0>, 'previous': <gensim.models.keyedvectors.Vocab object at 0x7f570333c710>, 'technological': <gensim.models.keyedvectors.Vocab object at 0x7f570333c748>, 'create': <gensim.models.keyedvectors.Vocab object at 0x7f570333c7b8>, 'risk': <gensim.models.keyedvectors.Vocab object at 0x7f570333c860>, 'unemployment': <gensim.models.keyedvectors.Vocab object at 0x7f570333c908>, 'twenty': <gensim.models.keyedvectors.Vocab object at 0x7f570333c978>, 'first': <gensim.models.keyedvectors.Vocab object at 0x7f570333c9b0>, 'century': <gensim.models.keyedvectors.Vocab object at 0x7f570333c9e8>, 'techniques': <gensim.models.keyedvectors.Vocab object at 0x7f570333ca90>, 'following': <gensim.models.keyedvectors.Vocab object at 0x7f570333cb00>, 'concurrent': <gensim.models.keyedvectors.Vocab object at 0x7f570333cbe0>, 'advances': <gensim.models.keyedvectors.Vocab object at 0x7f570333cc18>, 'power': <gensim.models.keyedvectors.Vocab object at 0x7f570333cc88>, 'large': <gensim.models.keyedvectors.Vocab object at 0x7f570333ccc0>, 'amounts': <gensim.models.keyedvectors.Vocab object at 0x7f570333ccf8>, 'data': <gensim.models.keyedvectors.Vocab object at 0x7f570333cda0>, 'part': <gensim.models.keyedvectors.Vocab object at 0x7f570333ce48>, 'industry': <gensim.models.keyedvectors.Vocab object at 0x7f570333cef0>, 'solve': <gensim.models.keyedvectors.Vocab object at 0x7f570333cf60>, 'challenging': <gensim.models.keyedvectors.Vocab object at 0x7f570333cf98>, 'software': <gensim.models.keyedvectors.Vocab object at 0x7f570333e0f0>, 'operations': <gensim.models.keyedvectors.Vocab object at 0x7f570333e128>, 'thought': <gensim.models.keyedvectors.Vocab object at 0x7f570333e208>, 'appeared': <gensim.models.keyedvectors.Vocab object at 0x7f570333e278>, 'storytelling': <gensim.models.keyedvectors.Vocab object at 0x7f570333e2b0>, 'devices': <gensim.models.keyedvectors.Vocab object at 0x7f570333e320>, 'common': <gensim.models.keyedvectors.Vocab object at 0x7f570333e390>, 'mary': <gensim.models.keyedvectors.Vocab object at 0x7f570333e400>, 'shelley': <gensim.models.keyedvectors.Vocab object at 0x7f570333e438>, 'frankenstein': <gensim.models.keyedvectors.Vocab object at 0x7f570333e4a8>, 'karel': <gensim.models.keyedvectors.Vocab object at 0x7f570333e550>, 'apek': <gensim.models.keyedvectors.Vocab object at 0x7f570333e5c0>, 'r': <gensim.models.keyedvectors.Vocab object at 0x7f570333e6a0>, 'u': <gensim.models.keyedvectors.Vocab object at 0x7f570333e710>, 'discussed': <gensim.models.keyedvectors.Vocab object at 0x7f570333e748>, 'mechanical': <gensim.models.keyedvectors.Vocab object at 0x7f570333e780>, 'formal': <gensim.models.keyedvectors.Vocab object at 0x7f570333e7b8>, 'began': <gensim.models.keyedvectors.Vocab object at 0x7f570333e828>, 'philosophers': <gensim.models.keyedvectors.Vocab object at 0x7f570333e898>, 'led': <gensim.models.keyedvectors.Vocab object at 0x7f570333e8d0>, 'directly': <gensim.models.keyedvectors.Vocab object at 0x7f570333e978>, 'turing': <gensim.models.keyedvectors.Vocab object at 0x7f570333ea20>, 'theory': <gensim.models.keyedvectors.Vocab object at 0x7f570333ea58>, 'computation': <gensim.models.keyedvectors.Vocab object at 0x7f570333ea90>, 'simple': <gensim.models.keyedvectors.Vocab object at 0x7f570333eb70>, 'could': <gensim.models.keyedvectors.Vocab object at 0x7f570333eba8>, 'deduction': <gensim.models.keyedvectors.Vocab object at 0x7f570333ebe0>, 'digital': <gensim.models.keyedvectors.Vocab object at 0x7f570333ec50>, 'process': <gensim.models.keyedvectors.Vocab object at 0x7f570333ec88>, 'thesis': <gensim.models.keyedvectors.Vocab object at 0x7f570333ecc0>, 'along': <gensim.models.keyedvectors.Vocab object at 0x7f570333ed30>, 'neurobiology': <gensim.models.keyedvectors.Vocab object at 0x7f570333ed68>, 'cybernetics': <gensim.models.keyedvectors.Vocab object at 0x7f570333edd8>, 'possibility': <gensim.models.keyedvectors.Vocab object at 0x7f570333ee10>, 'building': <gensim.models.keyedvectors.Vocab object at 0x7f570333eeb8>, 'electronic': <gensim.models.keyedvectors.Vocab object at 0x7f570333eef0>, 'brain': <gensim.models.keyedvectors.Vocab object at 0x7f570333ef28>, 'proposed': <gensim.models.keyedvectors.Vocab object at 0x7f570333ef60>, 'changing': <gensim.models.keyedvectors.Vocab object at 0x7f570333efd0>, 'question': <gensim.models.keyedvectors.Vocab object at 0x7f570333f0b8>, 'whether': <gensim.models.keyedvectors.Vocab object at 0x7f570333f198>, 'possible': <gensim.models.keyedvectors.Vocab object at 0x7f570333f1d0>, 'machinery': <gensim.models.keyedvectors.Vocab object at 0x7f570333f208>, 'show': <gensim.models.keyedvectors.Vocab object at 0x7f570333f278>, 'complete': <gensim.models.keyedvectors.Vocab object at 0x7f570333f2e8>, 'neurons': <gensim.models.keyedvectors.Vocab object at 0x7f570333f358>, 'born': <gensim.models.keyedvectors.Vocab object at 0x7f570333f390>, 'john': <gensim.models.keyedvectors.Vocab object at 0x7f570333f400>, 'mccarthy': <gensim.models.keyedvectors.Vocab object at 0x7f570333f470>, 'escape': <gensim.models.keyedvectors.Vocab object at 0x7f570333f4a8>, 'cyberneticist': <gensim.models.keyedvectors.Vocab object at 0x7f570333f518>, 'allen': <gensim.models.keyedvectors.Vocab object at 0x7f570333f588>, 'newell': <gensim.models.keyedvectors.Vocab object at 0x7f570333f5c0>, 'cmu': <gensim.models.keyedvectors.Vocab object at 0x7f570333f630>, 'herbert': <gensim.models.keyedvectors.Vocab object at 0x7f570333f6a0>, 'simon': <gensim.models.keyedvectors.Vocab object at 0x7f570333f710>, 'mit': <gensim.models.keyedvectors.Vocab object at 0x7f570333f748>, 'marvin': <gensim.models.keyedvectors.Vocab object at 0x7f570333f860>, 'minsky': <gensim.models.keyedvectors.Vocab object at 0x7f570333f898>, 'arthur': <gensim.models.keyedvectors.Vocab object at 0x7f570333f908>, 'samuel': <gensim.models.keyedvectors.Vocab object at 0x7f570333f940>, 'ibm': <gensim.models.keyedvectors.Vocab object at 0x7f570333f9b0>, 'became': <gensim.models.keyedvectors.Vocab object at 0x7f570333f9e8>, 'founders': <gensim.models.keyedvectors.Vocab object at 0x7f570333fa20>, 'leaders': <gensim.models.keyedvectors.Vocab object at 0x7f570333fa58>, 'produced': <gensim.models.keyedvectors.Vocab object at 0x7f570333fb00>, 'programs': <gensim.models.keyedvectors.Vocab object at 0x7f570333fb38>, 'checkers': <gensim.models.keyedvectors.Vocab object at 0x7f570333fbe0>, 'strategies': <gensim.models.keyedvectors.Vocab object at 0x7f570333fc18>, 'c': <gensim.models.keyedvectors.Vocab object at 0x7f570333fc88>, 'playing': <gensim.models.keyedvectors.Vocab object at 0x7f570333fcc0>, 'better': <gensim.models.keyedvectors.Vocab object at 0x7f570333fcf8>, 'average': <gensim.models.keyedvectors.Vocab object at 0x7f570333fd30>, 'word': <gensim.models.keyedvectors.Vocab object at 0x7f570333fd68>, 'proving': <gensim.models.keyedvectors.Vocab object at 0x7f570333fda0>, 'logical': <gensim.models.keyedvectors.Vocab object at 0x7f570333fe10>, 'theorems': <gensim.models.keyedvectors.Vocab object at 0x7f570333feb8>, 'run': <gensim.models.keyedvectors.Vocab object at 0x7f570333fef0>, 'middle': <gensim.models.keyedvectors.Vocab object at 0x7f570333ff28>, 'heavily': <gensim.models.keyedvectors.Vocab object at 0x7f570333ff60>, 'established': <gensim.models.keyedvectors.Vocab object at 0x7f570333ffd0>, 'around': <gensim.models.keyedvectors.Vocab object at 0x7f5703341048>, 'world': <gensim.models.keyedvectors.Vocab object at 0x7f5703341128>, 'future': <gensim.models.keyedvectors.Vocab object at 0x7f57033411d0>, 'predicted': <gensim.models.keyedvectors.Vocab object at 0x7f5703341240>, 'within': <gensim.models.keyedvectors.Vocab object at 0x7f57033412b0>, 'generation': <gensim.models.keyedvectors.Vocab object at 0x7f5703341320>, 'substantially': <gensim.models.keyedvectors.Vocab object at 0x7f5703341358>, 'solved': <gensim.models.keyedvectors.Vocab object at 0x7f57033413c8>, 'failed': <gensim.models.keyedvectors.Vocab object at 0x7f5703341400>, 'recognize': <gensim.models.keyedvectors.Vocab object at 0x7f5703341438>, 'difficulty': <gensim.models.keyedvectors.Vocab object at 0x7f57033414a8>, 'progress': <gensim.models.keyedvectors.Vocab object at 0x7f5703341518>, 'us': <gensim.models.keyedvectors.Vocab object at 0x7f5703341588>, 'fund': <gensim.models.keyedvectors.Vocab object at 0x7f57033415c0>, 'projects': <gensim.models.keyedvectors.Vocab object at 0x7f5703341630>, 'british': <gensim.models.keyedvectors.Vocab object at 0x7f5703341668>, 'governments': <gensim.models.keyedvectors.Vocab object at 0x7f57033416d8>, 'next': <gensim.models.keyedvectors.Vocab object at 0x7f5703341710>, 'would': <gensim.models.keyedvectors.Vocab object at 0x7f5703341748>, 'later': <gensim.models.keyedvectors.Vocab object at 0x7f5703341a58>, 'difficult': <gensim.models.keyedvectors.Vocab object at 0x7f5703341b70>, 'early': <gensim.models.keyedvectors.Vocab object at 0x7f5703341ba8>, 'revived': <gensim.models.keyedvectors.Vocab object at 0x7f5703341c18>, 'commercial': <gensim.models.keyedvectors.Vocab object at 0x7f5703341c88>, 'expert': <gensim.models.keyedvectors.Vocab object at 0x7f5703341cc0>, 'form': <gensim.models.keyedvectors.Vocab object at 0x7f5703341cf8>, 'program': <gensim.models.keyedvectors.Vocab object at 0x7f5703341d30>, 'simulated': <gensim.models.keyedvectors.Vocab object at 0x7f5703341d68>, 'skills': <gensim.models.keyedvectors.Vocab object at 0x7f5703341dd8>, 'experts': <gensim.models.keyedvectors.Vocab object at 0x7f5703341e10>, 'market': <gensim.models.keyedvectors.Vocab object at 0x7f5703341e48>, 'billion': <gensim.models.keyedvectors.Vocab object at 0x7f5703341e80>, 'time': <gensim.models.keyedvectors.Vocab object at 0x7f5703341eb8>, 'japan': <gensim.models.keyedvectors.Vocab object at 0x7f5703341f60>, 'fifth': <gensim.models.keyedvectors.Vocab object at 0x7f5703341f98>, 'inspired': <gensim.models.keyedvectors.Vocab object at 0x7f57033420f0>, 'however': <gensim.models.keyedvectors.Vocab object at 0x7f5703342278>, 'second': <gensim.models.keyedvectors.Vocab object at 0x7f57033422e8>, 'longer': <gensim.models.keyedvectors.Vocab object at 0x7f5703342320>, 'development': <gensim.models.keyedvectors.Vocab object at 0x7f5703342390>, 'mos': <gensim.models.keyedvectors.Vocab object at 0x7f57033423c8>, 'vlsi': <gensim.models.keyedvectors.Vocab object at 0x7f5703342400>, 'transistor': <gensim.models.keyedvectors.Vocab object at 0x7f5703342438>, 'enabled': <gensim.models.keyedvectors.Vocab object at 0x7f5703342470>, 'practical': <gensim.models.keyedvectors.Vocab object at 0x7f5703342518>, 'network': <gensim.models.keyedvectors.Vocab object at 0x7f5703342550>, 'landmark': <gensim.models.keyedvectors.Vocab object at 0x7f5703342588>, 'book': <gensim.models.keyedvectors.Vocab object at 0x7f57033425f8>, 'late': <gensim.models.keyedvectors.Vocab object at 0x7f5703342630>, 'mining': <gensim.models.keyedvectors.Vocab object at 0x7f5703342668>, 'medical': <gensim.models.keyedvectors.Vocab object at 0x7f57033426d8>, 'diagnosis': <gensim.models.keyedvectors.Vocab object at 0x7f5703342780>, 'areas': <gensim.models.keyedvectors.Vocab object at 0x7f57033427b8>, 'due': <gensim.models.keyedvectors.Vocab object at 0x7f57033427f0>, 'increasing': <gensim.models.keyedvectors.Vocab object at 0x7f57033428d0>, 'see': <gensim.models.keyedvectors.Vocab object at 0x7f5703342908>, 'moore': <gensim.models.keyedvectors.Vocab object at 0x7f5703342a20>, 'law': <gensim.models.keyedvectors.Vocab object at 0x7f5703342a58>, 'greater': <gensim.models.keyedvectors.Vocab object at 0x7f5703342a90>, 'emphasis': <gensim.models.keyedvectors.Vocab object at 0x7f5703342b38>, 'specific': <gensim.models.keyedvectors.Vocab object at 0x7f5703342b70>, 'scientific': <gensim.models.keyedvectors.Vocab object at 0x7f5703342cc0>, 'blue': <gensim.models.keyedvectors.Vocab object at 0x7f5703342d30>, 'system': <gensim.models.keyedvectors.Vocab object at 0x7f5703342d68>, 'beat': <gensim.models.keyedvectors.Vocab object at 0x7f5703342da0>, 'champion': <gensim.models.keyedvectors.Vocab object at 0x7f5703342e10>, 'may': <gensim.models.keyedvectors.Vocab object at 0x7f5703342e80>, 'jeopardy': <gensim.models.keyedvectors.Vocab object at 0x7f5703342eb8>, 'match': <gensim.models.keyedvectors.Vocab object at 0x7f5703342ef0>, 'answering': <gensim.models.keyedvectors.Vocab object at 0x7f5703342f28>, 'two': <gensim.models.keyedvectors.Vocab object at 0x7f5703342f60>, 'significant': <gensim.models.keyedvectors.Vocab object at 0x7f5703342f98>, 'algorithmic': <gensim.models.keyedvectors.Vocab object at 0x7f5703344080>, 'improvements': <gensim.models.keyedvectors.Vocab object at 0x7f57033440b8>, 'access': <gensim.models.keyedvectors.Vocab object at 0x7f57033440f0>, 'accuracy': <gensim.models.keyedvectors.Vocab object at 0x7f5703344128>, 'provides': <gensim.models.keyedvectors.Vocab object at 0x7f5703344160>, 'body': <gensim.models.keyedvectors.Vocab object at 0x7f5703344198>, 'motion': <gensim.models.keyedvectors.Vocab object at 0x7f5703344240>, 'xbox': <gensim.models.keyedvectors.Vocab object at 0x7f57033442b0>, 'one': <gensim.models.keyedvectors.Vocab object at 0x7f57033442e8>, 'uses': <gensim.models.keyedvectors.Vocab object at 0x7f5703344358>, 'algorithms': <gensim.models.keyedvectors.Vocab object at 0x7f57033443c8>, 'personal': <gensim.models.keyedvectors.Vocab object at 0x7f5703344400>, 'assistants': <gensim.models.keyedvectors.Vocab object at 0x7f5703344438>, 'games': <gensim.models.keyedvectors.Vocab object at 0x7f5703344470>, 'becoming': <gensim.models.keyedvectors.Vocab object at 0x7f5703344518>, 'without': <gensim.models.keyedvectors.Vocab object at 0x7f5703344550>, 'three': <gensim.models.keyedvectors.Vocab object at 0x7f57033445c0>, 'complex': <gensim.models.keyedvectors.Vocab object at 0x7f5703344630>, 'according': <gensim.models.keyedvectors.Vocab object at 0x7f5703344710>, 'clark': <gensim.models.keyedvectors.Vocab object at 0x7f5703344780>, 'year': <gensim.models.keyedvectors.Vocab object at 0x7f5703344860>, 'number': <gensim.models.keyedvectors.Vocab object at 0x7f57033448d0>, 'google': <gensim.models.keyedvectors.Vocab object at 0x7f5703344940>, 'increased': <gensim.models.keyedvectors.Vocab object at 0x7f5703344978>, 'presents': <gensim.models.keyedvectors.Vocab object at 0x7f57033449b0>, 'error': <gensim.models.keyedvectors.Vocab object at 0x7f5703344a58>, 'image': <gensim.models.keyedvectors.Vocab object at 0x7f5703344ac8>, 'increase': <gensim.models.keyedvectors.Vocab object at 0x7f5703344b00>, 'rise': <gensim.models.keyedvectors.Vocab object at 0x7f5703344b70>, 'computing': <gensim.models.keyedvectors.Vocab object at 0x7f5703344c50>, 'datasets': <gensim.models.keyedvectors.Vocab object at 0x7f5703344cf8>, 'examples': <gensim.models.keyedvectors.Vocab object at 0x7f5703344d30>, 'microsoft': <gensim.models.keyedvectors.Vocab object at 0x7f5703344d68>, 'automatically': <gensim.models.keyedvectors.Vocab object at 0x7f5703344dd8>, 'facebook': <gensim.models.keyedvectors.Vocab object at 0x7f5703344e80>, 'images': <gensim.models.keyedvectors.Vocab object at 0x7f5703344eb8>, 'blind': <gensim.models.keyedvectors.Vocab object at 0x7f5703344f28>, 'survey': <gensim.models.keyedvectors.Vocab object at 0x7f5703344f98>, 'companies': <gensim.models.keyedvectors.Vocab object at 0x7f5703345048>, 'incorporated': <gensim.models.keyedvectors.Vocab object at 0x7f57033450f0>, 'processes': <gensim.models.keyedvectors.Vocab object at 0x7f5703345128>, 'china': <gensim.models.keyedvectors.Vocab object at 0x7f5703345160>, 'greatly': <gensim.models.keyedvectors.Vocab object at 0x7f5703345278>, 'given': <gensim.models.keyedvectors.Vocab object at 0x7f57033452b0>, 'output': <gensim.models.keyedvectors.Vocab object at 0x7f5703345320>, 'reports': <gensim.models.keyedvectors.Vocab object at 0x7f57033453c8>, 'tended': <gensim.models.keyedvectors.Vocab object at 0x7f5703345438>, 'interpret': <gensim.models.keyedvectors.Vocab object at 0x7f5703345470>, 'learn': <gensim.models.keyedvectors.Vocab object at 0x7f57033454a8>, 'achieve': <gensim.models.keyedvectors.Vocab object at 0x7f57033454e0>, 'adaptation': <gensim.models.keyedvectors.Vocab object at 0x7f57033455c0>, 'utility': <gensim.models.keyedvectors.Vocab object at 0x7f5703345630>, 'function': <gensim.models.keyedvectors.Vocab object at 0x7f5703345668>, 'goal': <gensim.models.keyedvectors.Vocab object at 0x7f57033456d8>, 'otherwise': <gensim.models.keyedvectors.Vocab object at 0x7f5703345710>, 'mathematically': <gensim.models.keyedvectors.Vocab object at 0x7f5703345860>, 'similar': <gensim.models.keyedvectors.Vocab object at 0x7f5703345898>, 'ones': <gensim.models.keyedvectors.Vocab object at 0x7f5703345978>, 'past': <gensim.models.keyedvectors.Vocab object at 0x7f5703345a58>, 'explicitly': <gensim.models.keyedvectors.Vocab object at 0x7f5703345a90>, 'induced': <gensim.models.keyedvectors.Vocab object at 0x7f5703345b00>, 'programmed': <gensim.models.keyedvectors.Vocab object at 0x7f5703345be0>, 'reinforcement': <gensim.models.keyedvectors.Vocab object at 0x7f5703345c18>, 'implicitly': <gensim.models.keyedvectors.Vocab object at 0x7f5703345cf8>, 'rewarding': <gensim.models.keyedvectors.Vocab object at 0x7f5703345d30>, 'types': <gensim.models.keyedvectors.Vocab object at 0x7f5703345d68>, 'behavior': <gensim.models.keyedvectors.Vocab object at 0x7f5703345da0>, 'evolutionary': <gensim.models.keyedvectors.Vocab object at 0x7f5703345e10>, 'using': <gensim.models.keyedvectors.Vocab object at 0x7f5703345e48>, 'high': <gensim.models.keyedvectors.Vocab object at 0x7f5703345f28>, 'evolved': <gensim.models.keyedvectors.Vocab object at 0x7f5703345fd0>, 'certain': <gensim.models.keyedvectors.Vocab object at 0x7f57033460b8>, 'food': <gensim.models.keyedvectors.Vocab object at 0x7f5703346128>, 'nearest': <gensim.models.keyedvectors.Vocab object at 0x7f5703346160>, 'neighbor': <gensim.models.keyedvectors.Vocab object at 0x7f57033461d0>, 'instead': <gensim.models.keyedvectors.Vocab object at 0x7f5703346320>, 'reason': <gensim.models.keyedvectors.Vocab object at 0x7f5703346358>, 'except': <gensim.models.keyedvectors.Vocab object at 0x7f57033463c8>, 'degree': <gensim.models.keyedvectors.Vocab object at 0x7f57033464a8>, 'implicit': <gensim.models.keyedvectors.Vocab object at 0x7f57033464e0>, 'training': <gensim.models.keyedvectors.Vocab object at 0x7f5703346550>, 'still': <gensim.models.keyedvectors.Vocab object at 0x7f57033465c0>, 'non': <gensim.models.keyedvectors.Vocab object at 0x7f5703346630>, 'whose': <gensim.models.keyedvectors.Vocab object at 0x7f5703346748>, 'narrow': <gensim.models.keyedvectors.Vocab object at 0x7f57033467f0>, 'classification': <gensim.models.keyedvectors.Vocab object at 0x7f57033468d0>, 'task': <gensim.models.keyedvectors.Vocab object at 0x7f5703346940>, 'algorithm': <gensim.models.keyedvectors.Vocab object at 0x7f5703346978>, 'set': <gensim.models.keyedvectors.Vocab object at 0x7f57033469e8>, 'built': <gensim.models.keyedvectors.Vocab object at 0x7f5703346a20>, 'simpler': <gensim.models.keyedvectors.Vocab object at 0x7f5703346a58>, 'example': <gensim.models.keyedvectors.Vocab object at 0x7f5703346a90>, 'rules': <gensim.models.keyedvectors.Vocab object at 0x7f5703346ac8>, 'worked': <gensim.models.keyedvectors.Vocab object at 0x7f5703346b00>, 'well': <gensim.models.keyedvectors.Vocab object at 0x7f5703346b70>, 'write': <gensim.models.keyedvectors.Vocab object at 0x7f5703346c50>, 'learners': <gensim.models.keyedvectors.Vocab object at 0x7f5703346d68>, 'bayesian': <gensim.models.keyedvectors.Vocab object at 0x7f5703346e80>, 'decision': <gensim.models.keyedvectors.Vocab object at 0x7f5703346ef0>, 'infinite': <gensim.models.keyedvectors.Vocab object at 0x7f57033480b8>, 'approximate': <gensim.models.keyedvectors.Vocab object at 0x7f5703348198>, 'combination': <gensim.models.keyedvectors.Vocab object at 0x7f5703348208>, 'best': <gensim.models.keyedvectors.Vocab object at 0x7f57033482b0>, 'needed': <gensim.models.keyedvectors.Vocab object at 0x7f5703348320>, 'therefore': <gensim.models.keyedvectors.Vocab object at 0x7f57033483c8>, 'considering': <gensim.models.keyedvectors.Vocab object at 0x7f5703348470>, 'every': <gensim.models.keyedvectors.Vocab object at 0x7f57033484e0>, 'combinatorial': <gensim.models.keyedvectors.Vocab object at 0x7f5703348630>, 'explosion': <gensim.models.keyedvectors.Vocab object at 0x7f57033486a0>, 'exponentially': <gensim.models.keyedvectors.Vocab object at 0x7f5703348710>, 'much': <gensim.models.keyedvectors.Vocab object at 0x7f57033487b8>, 'figuring': <gensim.models.keyedvectors.Vocab object at 0x7f57033487f0>, 'avoid': <gensim.models.keyedvectors.Vocab object at 0x7f5703348860>, 'range': <gensim.models.keyedvectors.Vocab object at 0x7f5703348898>, 'beneficial': <gensim.models.keyedvectors.Vocab object at 0x7f5703348978>, 'map': <gensim.models.keyedvectors.Vocab object at 0x7f57033489e8>, 'looking': <gensim.models.keyedvectors.Vocab object at 0x7f5703348a90>, 'driving': <gensim.models.keyedvectors.Vocab object at 0x7f5703348ac8>, 'route': <gensim.models.keyedvectors.Vocab object at 0x7f5703348b00>, 'cases': <gensim.models.keyedvectors.Vocab object at 0x7f5703348b38>, 'far': <gensim.models.keyedvectors.Vocab object at 0x7f5703348be0>, 'thus': <gensim.models.keyedvectors.Vocab object at 0x7f5703348c18>, 'understand': <gensim.models.keyedvectors.Vocab object at 0x7f5703348c50>, 'approach': <gensim.models.keyedvectors.Vocab object at 0x7f5703348cc0>, 'adult': <gensim.models.keyedvectors.Vocab object at 0x7f5703348d30>, 'fever': <gensim.models.keyedvectors.Vocab object at 0x7f5703348da0>, 'influenza': <gensim.models.keyedvectors.Vocab object at 0x7f5703348e80>, 'current': <gensim.models.keyedvectors.Vocab object at 0x7f5703348f98>, 'patient': <gensim.models.keyedvectors.Vocab object at 0x7f57033490f0>, 'way': <gensim.models.keyedvectors.Vocab object at 0x7f5703349128>, 'major': <gensim.models.keyedvectors.Vocab object at 0x7f5703349198>, 'extremely': <gensim.models.keyedvectors.Vocab object at 0x7f5703349278>, 'popular': <gensim.models.keyedvectors.Vocab object at 0x7f5703349358>, 'applications': <gensim.models.keyedvectors.Vocab object at 0x7f5703349400>, 'patients': <gensim.models.keyedvectors.Vocab object at 0x7f5703349438>, 'x': <gensim.models.keyedvectors.Vocab object at 0x7f5703349470>, 'works': <gensim.models.keyedvectors.Vocab object at 0x7f5703349518>, 'comparing': <gensim.models.keyedvectors.Vocab object at 0x7f5703349588>, 'altering': <gensim.models.keyedvectors.Vocab object at 0x7f57033495f8>, 'connections': <gensim.models.keyedvectors.Vocab object at 0x7f57033496a0>, 'seemed': <gensim.models.keyedvectors.Vocab object at 0x7f5703349710>, 'make': <gensim.models.keyedvectors.Vocab object at 0x7f5703349748>, 'inferences': <gensim.models.keyedvectors.Vocab object at 0x7f5703349780>, 'generalize': <gensim.models.keyedvectors.Vocab object at 0x7f57033497b8>, 'different': <gensim.models.keyedvectors.Vocab object at 0x7f57033497f0>, 'basis': <gensim.models.keyedvectors.Vocab object at 0x7f5703349828>, 'likely': <gensim.models.keyedvectors.Vocab object at 0x7f5703349898>, 'continue': <gensim.models.keyedvectors.Vocab object at 0x7f5703349940>, 'morning': <gensim.models.keyedvectors.Vocab object at 0x7f5703349978>, 'color': <gensim.models.keyedvectors.Vocab object at 0x7f57033499b0>, 'undiscovered': <gensim.models.keyedvectors.Vocab object at 0x7f5703349a20>, 'black': <gensim.models.keyedvectors.Vocab object at 0x7f5703349ac8>, 'exist': <gensim.models.keyedvectors.Vocab object at 0x7f5703349b38>, 'occam': <gensim.models.keyedvectors.Vocab object at 0x7f5703349b70>, 'razor': <gensim.models.keyedvectors.Vocab object at 0x7f5703349ba8>, 'principle': <gensim.models.keyedvectors.Vocab object at 0x7f5703349c18>, 'must': <gensim.models.keyedvectors.Vocab object at 0x7f5703349c50>, 'designed': <gensim.models.keyedvectors.Vocab object at 0x7f5703349d68>, 'theories': <gensim.models.keyedvectors.Vocab object at 0x7f5703349dd8>, 'bad': <gensim.models.keyedvectors.Vocab object at 0x7f5703349e10>, 'overfitting': <gensim.models.keyedvectors.Vocab object at 0x7f5703349e48>, 'attempt': <gensim.models.keyedvectors.Vocab object at 0x7f5703349e80>, 'reduce': <gensim.models.keyedvectors.Vocab object at 0x7f5703349f98>, 'accordance': <gensim.models.keyedvectors.Vocab object at 0x7f5703349fd0>, 'besides': <gensim.models.keyedvectors.Vocab object at 0x7f570334a0b8>, 'toy': <gensim.models.keyedvectors.Vocab object at 0x7f570334a198>, 'classifier': <gensim.models.keyedvectors.Vocab object at 0x7f570334a240>, 'brown': <gensim.models.keyedvectors.Vocab object at 0x7f570334a278>, 'horses': <gensim.models.keyedvectors.Vocab object at 0x7f570334a2b0>, 'might': <gensim.models.keyedvectors.Vocab object at 0x7f570334a2e8>, 'patches': <gensim.models.keyedvectors.Vocab object at 0x7f570334a320>, 'real': <gensim.models.keyedvectors.Vocab object at 0x7f570334a3c8>, 'classifiers': <gensim.models.keyedvectors.Vocab object at 0x7f570334a438>, 'judgments': <gensim.models.keyedvectors.Vocab object at 0x7f570334a4a8>, 'relationship': <gensim.models.keyedvectors.Vocab object at 0x7f570334a4e0>, 'pixels': <gensim.models.keyedvectors.Vocab object at 0x7f570334a518>, 'patterns': <gensim.models.keyedvectors.Vocab object at 0x7f570334a550>, 'compared': <gensim.models.keyedvectors.Vocab object at 0x7f570334a5c0>, 'existing': <gensim.models.keyedvectors.Vocab object at 0x7f570334a5f8>, 'features': <gensim.models.keyedvectors.Vocab object at 0x7f570334a6a0>, 'commonsense': <gensim.models.keyedvectors.Vocab object at 0x7f570334a748>, 'notably': <gensim.models.keyedvectors.Vocab object at 0x7f570334a780>, 'powerful': <gensim.models.keyedvectors.Vocab object at 0x7f570334a7b8>, 'mechanisms': <gensim.models.keyedvectors.Vocab object at 0x7f570334a828>, 'na': <gensim.models.keyedvectors.Vocab object at 0x7f570334a898>, 'space': <gensim.models.keyedvectors.Vocab object at 0x7f570334a908>, 'physical': <gensim.models.keyedvectors.Vocab object at 0x7f570334a940>, 'even': <gensim.models.keyedvectors.Vocab object at 0x7f570334a9b0>, 'young': <gensim.models.keyedvectors.Vocab object at 0x7f570334aa58>, 'easily': <gensim.models.keyedvectors.Vocab object at 0x7f570334ab00>, 'fall': <gensim.models.keyedvectors.Vocab object at 0x7f570334ab70>, 'councilmen': <gensim.models.keyedvectors.Vocab object at 0x7f570334aba8>, 'demonstrators': <gensim.models.keyedvectors.Vocab object at 0x7f570334ac18>, 'advocated': <gensim.models.keyedvectors.Vocab object at 0x7f570334ac50>, 'violence': <gensim.models.keyedvectors.Vocab object at 0x7f570334ac88>, 'means': <gensim.models.keyedvectors.Vocab object at 0x7f570334ad68>, 'makes': <gensim.models.keyedvectors.Vocab object at 0x7f570334ae10>, 'ways': <gensim.models.keyedvectors.Vocab object at 0x7f570334aeb8>, 'self': <gensim.models.keyedvectors.Vocab object at 0x7f570334af28>, 'location': <gensim.models.keyedvectors.Vocab object at 0x7f570334af60>, 'pedestrians': <gensim.models.keyedvectors.Vocab object at 0x7f570334c048>, 'architectures': <gensim.models.keyedvectors.Vocab object at 0x7f570334c0b8>, 'limited': <gensim.models.keyedvectors.Vocab object at 0x7f570334c128>, 'really': <gensim.models.keyedvectors.Vocab object at 0x7f570334c160>, 'come': <gensim.models.keyedvectors.Vocab object at 0x7f570334c1d0>, 'beyond': <gensim.models.keyedvectors.Vocab object at 0x7f570334c208>, 'life': <gensim.models.keyedvectors.Vocab object at 0x7f570334c2b0>, 'straightforward': <gensim.models.keyedvectors.Vocab object at 0x7f570334c2e8>, 'opposed': <gensim.models.keyedvectors.Vocab object at 0x7f570334c320>, 'classes': <gensim.models.keyedvectors.Vocab object at 0x7f570334c358>, 'models': <gensim.models.keyedvectors.Vocab object at 0x7f570334c3c8>, 'basic': <gensim.models.keyedvectors.Vocab object at 0x7f570334c438>, 'model': <gensim.models.keyedvectors.Vocab object at 0x7f570334c470>, 'allows': <gensim.models.keyedvectors.Vocab object at 0x7f570334c550>, 'manner': <gensim.models.keyedvectors.Vocab object at 0x7f570334c588>, 'simulating': <gensim.models.keyedvectors.Vocab object at 0x7f570334c5f8>, 'traits': <gensim.models.keyedvectors.Vocab object at 0x7f570334c668>, 'developed': <gensim.models.keyedvectors.Vocab object at 0x7f570334c6d8>, 'step': <gensim.models.keyedvectors.Vocab object at 0x7f570334c710>, 'uncertain': <gensim.models.keyedvectors.Vocab object at 0x7f570334c748>, 'concepts': <gensim.models.keyedvectors.Vocab object at 0x7f570334c7f0>, 'fast': <gensim.models.keyedvectors.Vocab object at 0x7f570334c828>, 'central': <gensim.models.keyedvectors.Vocab object at 0x7f570334c898>, 'classical': <gensim.models.keyedvectors.Vocab object at 0x7f570334c8d0>, 'gather': <gensim.models.keyedvectors.Vocab object at 0x7f570334c940>, 'possessed': <gensim.models.keyedvectors.Vocab object at 0x7f570334c9b0>, 'domain': <gensim.models.keyedvectors.Vocab object at 0x7f570334ca58>, 'person': <gensim.models.keyedvectors.Vocab object at 0x7f570334cac8>, 'comprehensive': <gensim.models.keyedvectors.Vocab object at 0x7f570334cb38>, 'base': <gensim.models.keyedvectors.Vocab object at 0x7f570334cb70>, 'properties': <gensim.models.keyedvectors.Vocab object at 0x7f570334cbe0>, 'relations': <gensim.models.keyedvectors.Vocab object at 0x7f570334cc18>, 'events': <gensim.models.keyedvectors.Vocab object at 0x7f570334cc88>, 'states': <gensim.models.keyedvectors.Vocab object at 0x7f570334ccc0>, 'effects': <gensim.models.keyedvectors.Vocab object at 0x7f570334cd68>, 'know': <gensim.models.keyedvectors.Vocab object at 0x7f570334cdd8>, 'less': <gensim.models.keyedvectors.Vocab object at 0x7f570334ce80>, 'domains': <gensim.models.keyedvectors.Vocab object at 0x7f570334ceb8>, 'exists': <gensim.models.keyedvectors.Vocab object at 0x7f570334cf60>, 'ontology': <gensim.models.keyedvectors.Vocab object at 0x7f570334cf98>, 'individuals': <gensim.models.keyedvectors.Vocab object at 0x7f570334d048>, 'web': <gensim.models.keyedvectors.Vocab object at 0x7f570334d0b8>, 'ontologies': <gensim.models.keyedvectors.Vocab object at 0x7f570334d160>, 'acting': <gensim.models.keyedvectors.Vocab object at 0x7f570334d1d0>, 'cover': <gensim.models.keyedvectors.Vocab object at 0x7f570334d208>, 'interest': <gensim.models.keyedvectors.Vocab object at 0x7f570334d278>, 'area': <gensim.models.keyedvectors.Vocab object at 0x7f570334d2b0>, 'concern': <gensim.models.keyedvectors.Vocab object at 0x7f570334d390>, 'representations': <gensim.models.keyedvectors.Vocab object at 0x7f570334d400>, 'retrieval': <gensim.models.keyedvectors.Vocab object at 0x7f570334d518>, 'support': <gensim.models.keyedvectors.Vocab object at 0x7f570334d588>, 'discovery': <gensim.models.keyedvectors.Vocab object at 0x7f570334d5c0>, 'able': <gensim.models.keyedvectors.Vocab object at 0x7f570334d5f8>, 'need': <gensim.models.keyedvectors.Vocab object at 0x7f570334d6a0>, 'predictions': <gensim.models.keyedvectors.Vocab object at 0x7f570334d6d8>, 'change': <gensim.models.keyedvectors.Vocab object at 0x7f570334d748>, 'choices': <gensim.models.keyedvectors.Vocab object at 0x7f570334d7b8>, 'available': <gensim.models.keyedvectors.Vocab object at 0x7f570334d7f0>, 'agent': <gensim.models.keyedvectors.Vocab object at 0x7f570334d860>, 'assume': <gensim.models.keyedvectors.Vocab object at 0x7f570334d898>, 'consequences': <gensim.models.keyedvectors.Vocab object at 0x7f570334d908>, 'requires': <gensim.models.keyedvectors.Vocab object at 0x7f570334d940>, 'uncertainty': <gensim.models.keyedvectors.Vocab object at 0x7f570334d9b0>, 'assess': <gensim.models.keyedvectors.Vocab object at 0x7f570334d9e8>, 'multi': <gensim.models.keyedvectors.Vocab object at 0x7f570334da58>, 'emergent': <gensim.models.keyedvectors.Vocab object at 0x7f570334da90>, 'fundamental': <gensim.models.keyedvectors.Vocab object at 0x7f570334db00>, 'concept': <gensim.models.keyedvectors.Vocab object at 0x7f570334db70>, 'improve': <gensim.models.keyedvectors.Vocab object at 0x7f570334dc18>, 'experience': <gensim.models.keyedvectors.Vocab object at 0x7f570334dcc0>, 'find': <gensim.models.keyedvectors.Vocab object at 0x7f570334dd30>, 'input': <gensim.models.keyedvectors.Vocab object at 0x7f570334de80>, 'requiring': <gensim.models.keyedvectors.Vocab object at 0x7f570334deb8>, 'label': <gensim.models.keyedvectors.Vocab object at 0x7f570334df60>, 'inputs': <gensim.models.keyedvectors.Vocab object at 0x7f570334f080>, 'includes': <gensim.models.keyedvectors.Vocab object at 0x7f570334f0b8>, 'regression': <gensim.models.keyedvectors.Vocab object at 0x7f570334f160>, 'determine': <gensim.models.keyedvectors.Vocab object at 0x7f570334f208>, 'something': <gensim.models.keyedvectors.Vocab object at 0x7f570334f240>, 'sees': <gensim.models.keyedvectors.Vocab object at 0x7f570334f2e8>, 'produce': <gensim.models.keyedvectors.Vocab object at 0x7f570334f358>, 'describes': <gensim.models.keyedvectors.Vocab object at 0x7f570334f3c8>, 'outputs': <gensim.models.keyedvectors.Vocab object at 0x7f570334f438>, 'predicts': <gensim.models.keyedvectors.Vocab object at 0x7f570334f470>, 'viewed': <gensim.models.keyedvectors.Vocab object at 0x7f570334f550>, 'possibly': <gensim.models.keyedvectors.Vocab object at 0x7f570334f588>, 'spam': <gensim.models.keyedvectors.Vocab object at 0x7f570334f5f8>, 'text': <gensim.models.keyedvectors.Vocab object at 0x7f570334f668>, 'complexity': <gensim.models.keyedvectors.Vocab object at 0x7f570334f6a0>, 'required': <gensim.models.keyedvectors.Vocab object at 0x7f570334f6d8>, 'good': <gensim.models.keyedvectors.Vocab object at 0x7f570334f748>, 'nlp': <gensim.models.keyedvectors.Vocab object at 0x7f570334f7b8>, 'read': <gensim.models.keyedvectors.Vocab object at 0x7f570334f828>, 'sufficiently': <gensim.models.keyedvectors.Vocab object at 0x7f570334f860>, 'enable': <gensim.models.keyedvectors.Vocab object at 0x7f570334f898>, 'translation': <gensim.models.keyedvectors.Vocab object at 0x7f570334f978>, 'occurrence': <gensim.models.keyedvectors.Vocab object at 0x7f570334f9e8>, 'dog': <gensim.models.keyedvectors.Vocab object at 0x7f570334fac8>, 'document': <gensim.models.keyedvectors.Vocab object at 0x7f570334fb00>, 'sentiment': <gensim.models.keyedvectors.Vocab object at 0x7f570334fb38>, 'semantic': <gensim.models.keyedvectors.Vocab object at 0x7f570334fc88>, 'full': <gensim.models.keyedvectors.Vocab object at 0x7f570334fcf8>, 'generate': <gensim.models.keyedvectors.Vocab object at 0x7f570334fd30>, 'sensors': <gensim.models.keyedvectors.Vocab object at 0x7f570334fd68>, 'visible': <gensim.models.keyedvectors.Vocab object at 0x7f570334fdd8>, 'spectrum': <gensim.models.keyedvectors.Vocab object at 0x7f570334fe10>, 'signals': <gensim.models.keyedvectors.Vocab object at 0x7f570334fe48>, 'active': <gensim.models.keyedvectors.Vocab object at 0x7f570334fef0>, 'aspects': <gensim.models.keyedvectors.Vocab object at 0x7f570334ff98>, 'facial': <gensim.models.keyedvectors.Vocab object at 0x7f5703350048>, 'object': <gensim.models.keyedvectors.Vocab object at 0x7f5703350080>, 'vision': <gensim.models.keyedvectors.Vocab object at 0x7f5703350160>, 'fifty': <gensim.models.keyedvectors.Vocab object at 0x7f5703350198>, 'meter': <gensim.models.keyedvectors.Vocab object at 0x7f57033501d0>, 'pedestrian': <gensim.models.keyedvectors.Vocab object at 0x7f5703350208>, 'away': <gensim.models.keyedvectors.Vocab object at 0x7f5703350278>, 'likelihood': <gensim.models.keyedvectors.Vocab object at 0x7f5703350358>, 'advanced': <gensim.models.keyedvectors.Vocab object at 0x7f57033503c8>, 'robotic': <gensim.models.keyedvectors.Vocab object at 0x7f5703350518>, 'industrial': <gensim.models.keyedvectors.Vocab object at 0x7f5703350588>, 'robots': <gensim.models.keyedvectors.Vocab object at 0x7f57033505c0>, 'widely': <gensim.models.keyedvectors.Vocab object at 0x7f5703350630>, 'robot': <gensim.models.keyedvectors.Vocab object at 0x7f5703350668>, 'small': <gensim.models.keyedvectors.Vocab object at 0x7f57033506d8>, 'pose': <gensim.models.keyedvectors.Vocab object at 0x7f5703350748>, 'movement': <gensim.models.keyedvectors.Vocab object at 0x7f57033507b8>, 'individual': <gensim.models.keyedvectors.Vocab object at 0x7f5703350828>, 'moravec': <gensim.models.keyedvectors.Vocab object at 0x7f5703350860>, 'paradox': <gensim.models.keyedvectors.Vocab object at 0x7f5703350908>, 'take': <gensim.models.keyedvectors.Vocab object at 0x7f5703350940>, 'named': <gensim.models.keyedvectors.Vocab object at 0x7f57033509b0>, 'hans': <gensim.models.keyedvectors.Vocab object at 0x7f57033509e8>, 'stated': <gensim.models.keyedvectors.Vocab object at 0x7f5703350a58>, 'easy': <gensim.models.keyedvectors.Vocab object at 0x7f5703350a90>, 'exhibit': <gensim.models.keyedvectors.Vocab object at 0x7f5703350ac8>, 'performance': <gensim.models.keyedvectors.Vocab object at 0x7f5703350b00>, 'impossible': <gensim.models.keyedvectors.Vocab object at 0x7f5703350b38>, 'give': <gensim.models.keyedvectors.Vocab object at 0x7f5703350ba8>, 'old': <gensim.models.keyedvectors.Vocab object at 0x7f5703350cf8>, 'autonomous': <gensim.models.keyedvectors.Vocab object at 0x7f5703350da0>, 'vehicles': <gensim.models.keyedvectors.Vocab object at 0x7f5703350dd8>, 'affective': <gensim.models.keyedvectors.Vocab object at 0x7f5703350e10>, 'affects': <gensim.models.keyedvectors.Vocab object at 0x7f5703350e48>, 'successes': <gensim.models.keyedvectors.Vocab object at 0x7f5703350ef0>, 'related': <gensim.models.keyedvectors.Vocab object at 0x7f5703350f98>, 'analysis': <gensim.models.keyedvectors.Vocab object at 0x7f5703351080>, 'recently': <gensim.models.keyedvectors.Vocab object at 0x7f57033510b8>, 'multimodal': <gensim.models.keyedvectors.Vocab object at 0x7f5703351128>, 'wherein': <gensim.models.keyedvectors.Vocab object at 0x7f5703351160>, 'classifies': <gensim.models.keyedvectors.Vocab object at 0x7f5703351198>, 'subject': <gensim.models.keyedvectors.Vocab object at 0x7f57033511d0>, 'emotion': <gensim.models.keyedvectors.Vocab object at 0x7f5703351240>, 'valuable': <gensim.models.keyedvectors.Vocab object at 0x7f5703351278>, 'predict': <gensim.models.keyedvectors.Vocab object at 0x7f57033512b0>, 'emotional': <gensim.models.keyedvectors.Vocab object at 0x7f5703351320>, 'allow': <gensim.models.keyedvectors.Vocab object at 0x7f5703351390>, 'decisions': <gensim.models.keyedvectors.Vocab object at 0x7f57033513c8>, 'interaction': <gensim.models.keyedvectors.Vocab object at 0x7f5703351400>, 'users': <gensim.models.keyedvectors.Vocab object at 0x7f5703351438>, 'actually': <gensim.models.keyedvectors.Vocab object at 0x7f5703351470>, 'cyc': <gensim.models.keyedvectors.Vocab object at 0x7f57033514a8>, 'massive': <gensim.models.keyedvectors.Vocab object at 0x7f5703351550>, 'attempted': <gensim.models.keyedvectors.Vocab object at 0x7f5703351668>, 'cognition': <gensim.models.keyedvectors.Vocab object at 0x7f57033516d8>, 'limitations': <gensim.models.keyedvectors.Vocab object at 0x7f5703351710>, 'cross': <gensim.models.keyedvectors.Vocab object at 0x7f5703351748>, 'nowadays': <gensim.models.keyedvectors.Vocab object at 0x7f5703351780>, 'eventually': <gensim.models.keyedvectors.Vocab object at 0x7f5703351860>, 'article': <gensim.models.keyedvectors.Vocab object at 0x7f5703351898>, 'point': <gensim.models.keyedvectors.Vocab object at 0x7f57033518d0>, 'profile': <gensim.models.keyedvectors.Vocab object at 0x7f5703351908>, 'deepmind': <gensim.models.keyedvectors.Vocab object at 0x7f5703351978>, 'hypothetical': <gensim.models.keyedvectors.Vocab object at 0x7f5703351a20>, 'argue': <gensim.models.keyedvectors.Vocab object at 0x7f5703351a90>, 'kind': <gensim.models.keyedvectors.Vocab object at 0x7f5703351ac8>, 'currently': <gensim.models.keyedvectors.Vocab object at 0x7f5703351b70>, 'look': <gensim.models.keyedvectors.Vocab object at 0x7f5703351be0>, 'closely': <gensim.models.keyedvectors.Vocab object at 0x7f5703351c88>, 'reach': <gensim.models.keyedvectors.Vocab object at 0x7f5703351cc0>, 'author': <gensim.models.keyedvectors.Vocab object at 0x7f5703351d68>, 'argument': <gensim.models.keyedvectors.Vocab object at 0x7f5703351da0>, 'order': <gensim.models.keyedvectors.Vocab object at 0x7f5703351dd8>, 'questions': <gensim.models.keyedvectors.Vocab object at 0x7f5703351eb8>, 'biology': <gensim.models.keyedvectors.Vocab object at 0x7f5703351ef0>, 'principles': <gensim.models.keyedvectors.Vocab object at 0x7f5703351f60>, 'necessarily': <gensim.models.keyedvectors.Vocab object at 0x7f5703351fd0>, 'grey': <gensim.models.keyedvectors.Vocab object at 0x7f5703353048>, 'society': <gensim.models.keyedvectors.Vocab object at 0x7f57033530f0>, 'university': <gensim.models.keyedvectors.Vocab object at 0x7f5703353128>, 'largely': <gensim.models.keyedvectors.Vocab object at 0x7f57033531d0>, 'abandoned': <gensim.models.keyedvectors.Vocab object at 0x7f5703353278>, 'although': <gensim.models.keyedvectors.Vocab object at 0x7f57033532e8>, 'centered': <gensim.models.keyedvectors.Vocab object at 0x7f5703353320>, 'carnegie': <gensim.models.keyedvectors.Vocab object at 0x7f57033533c8>, 'mellon': <gensim.models.keyedvectors.Vocab object at 0x7f5703353470>, 'stanford': <gensim.models.keyedvectors.Vocab object at 0x7f57033534a8>, 'gofai': <gensim.models.keyedvectors.Vocab object at 0x7f57033534e0>, 'thinking': <gensim.models.keyedvectors.Vocab object at 0x7f5703353518>, 'economist': <gensim.models.keyedvectors.Vocab object at 0x7f5703353550>, 'studied': <gensim.models.keyedvectors.Vocab object at 0x7f57033535c0>, 'results': <gensim.models.keyedvectors.Vocab object at 0x7f57033535f8>, 'experiments': <gensim.models.keyedvectors.Vocab object at 0x7f5703353668>, 'develop': <gensim.models.keyedvectors.Vocab object at 0x7f57033536a0>, 'architecture': <gensim.models.keyedvectors.Vocab object at 0x7f57033536d8>, 'try': <gensim.models.keyedvectors.Vocab object at 0x7f5703353780>, 'focused': <gensim.models.keyedvectors.Vocab object at 0x7f57033537b8>, 'variety': <gensim.models.keyedvectors.Vocab object at 0x7f5703353860>, 'programming': <gensim.models.keyedvectors.Vocab object at 0x7f57033538d0>, 'found': <gensim.models.keyedvectors.Vocab object at 0x7f5703353908>, 'ad': <gensim.models.keyedvectors.Vocab object at 0x7f5703353978>, 'hoc': <gensim.models.keyedvectors.Vocab object at 0x7f57033539e8>, 'solutions': <gensim.models.keyedvectors.Vocab object at 0x7f5703353a58>, 'argued': <gensim.models.keyedvectors.Vocab object at 0x7f5703353a90>, 'scruffy': <gensim.models.keyedvectors.Vocab object at 0x7f5703353ac8>, 'complicated': <gensim.models.keyedvectors.Vocab object at 0x7f5703353b70>, 'revolution': <gensim.models.keyedvectors.Vocab object at 0x7f5703353c18>, 'introduced': <gensim.models.keyedvectors.Vocab object at 0x7f5703353c50>, 'edward': <gensim.models.keyedvectors.Vocab object at 0x7f5703353c88>, 'key': <gensim.models.keyedvectors.Vocab object at 0x7f5703353cc0>, 'illustrate': <gensim.models.keyedvectors.Vocab object at 0x7f5703353cf8>, 'never': <gensim.models.keyedvectors.Vocab object at 0x7f5703353d30>, 'manage': <gensim.models.keyedvectors.Vocab object at 0x7f5703353d68>, 'embodied': <gensim.models.keyedvectors.Vocab object at 0x7f5703353dd8>, 'rodney': <gensim.models.keyedvectors.Vocab object at 0x7f5703353eb8>, 'brooks': <gensim.models.keyedvectors.Vocab object at 0x7f5703353f60>, 'view': <gensim.models.keyedvectors.Vocab object at 0x7f5703353f98>, 'control': <gensim.models.keyedvectors.Vocab object at 0x7f5703353fd0>, 'idea': <gensim.models.keyedvectors.Vocab object at 0x7f5703354080>, 'higher': <gensim.models.keyedvectors.Vocab object at 0x7f57033540f0>, 'developmental': <gensim.models.keyedvectors.Vocab object at 0x7f5703354128>, 'novel': <gensim.models.keyedvectors.Vocab object at 0x7f5703354198>, 'david': <gensim.models.keyedvectors.Vocab object at 0x7f57033542b0>, 'soft': <gensim.models.keyedvectors.Vocab object at 0x7f57033542e8>, 'solution': <gensim.models.keyedvectors.Vocab object at 0x7f57033543c8>, 'emerging': <gensim.models.keyedvectors.Vocab object at 0x7f5703354470>, 'hmm': <gensim.models.keyedvectors.Vocab object at 0x7f57033544a8>, 'shared': <gensim.models.keyedvectors.Vocab object at 0x7f5703354518>, 'gaining': <gensim.models.keyedvectors.Vocab object at 0x7f5703354550>, 'acquiring': <gensim.models.keyedvectors.Vocab object at 0x7f5703354588>, 'broader': <gensim.models.keyedvectors.Vocab object at 0x7f57033545f8>, 'sometimes': <gensim.models.keyedvectors.Vocab object at 0x7f5703354668>, 'critics': <gensim.models.keyedvectors.Vocab object at 0x7f57033546a0>, 'shift': <gensim.models.keyedvectors.Vocab object at 0x7f57033546d8>, 'necessary': <gensim.models.keyedvectors.Vocab object at 0x7f5703354710>, 'intellectual': <gensim.models.keyedvectors.Vocab object at 0x7f5703354748>, 'numerous': <gensim.models.keyedvectors.Vocab object at 0x7f5703354780>, 'list': <gensim.models.keyedvectors.Vocab object at 0x7f5703354828>, 'drones': <gensim.models.keyedvectors.Vocab object at 0x7f5703354940>, 'online': <gensim.models.keyedvectors.Vocab object at 0x7f5703354978>, 'media': <gensim.models.keyedvectors.Vocab object at 0x7f57033549e8>, 'source': <gensim.models.keyedvectors.Vocab object at 0x7f5703354a20>, 'news': <gensim.models.keyedvectors.Vocab object at 0x7f5703354a58>, 'organizations': <gensim.models.keyedvectors.Vocab object at 0x7f5703354a90>, 'stories': <gensim.models.keyedvectors.Vocab object at 0x7f5703354b38>, 'deepfakes': <gensim.models.keyedvectors.Vocab object at 0x7f5703354b70>, 'occur': <gensim.models.keyedvectors.Vocab object at 0x7f5703354ba8>, 'cause': <gensim.models.keyedvectors.Vocab object at 0x7f5703354be0>, 'harm': <gensim.models.keyedvectors.Vocab object at 0x7f5703354c18>, 'public': <gensim.models.keyedvectors.Vocab object at 0x7f5703354c50>, 'potential': <gensim.models.keyedvectors.Vocab object at 0x7f5703354cc0>, 'prevent': <gensim.models.keyedvectors.Vocab object at 0x7f5703354cf8>, 'minimize': <gensim.models.keyedvectors.Vocab object at 0x7f5703354d68>, 'risks': <gensim.models.keyedvectors.Vocab object at 0x7f5703354da0>, 'ethical': <gensim.models.keyedvectors.Vocab object at 0x7f5703354e10>, 'policy': <gensim.models.keyedvectors.Vocab object at 0x7f5703354eb8>, 'making': <gensim.models.keyedvectors.Vocab object at 0x7f5703354f28>, 'policies': <gensim.models.keyedvectors.Vocab object at 0x7f5703354f60>, 'moral': <gensim.models.keyedvectors.Vocab object at 0x7f5703354f98>, 'friendly': <gensim.models.keyedvectors.Vocab object at 0x7f5703354fd0>, 'discussion': <gensim.models.keyedvectors.Vocab object at 0x7f5703355048>, 'towards': <gensim.models.keyedvectors.Vocab object at 0x7f57033550b8>, 'rights': <gensim.models.keyedvectors.Vocab object at 0x7f5703355198>, 'weizenbaum': <gensim.models.keyedvectors.Vocab object at 0x7f5703355208>, 'j': <gensim.models.keyedvectors.Vocab object at 0x7f5703355278>, 'misguided': <gensim.models.keyedvectors.Vocab object at 0x7f57033552b0>, 'position': <gensim.models.keyedvectors.Vocab object at 0x7f57033552e8>, 'computationalism': <gensim.models.keyedvectors.Vocab object at 0x7f5703355358>, 'wallach': <gensim.models.keyedvectors.Vocab object at 0x7f57033553c8>, 'amas': <gensim.models.keyedvectors.Vocab object at 0x7f5703355438>, 'landscape': <gensim.models.keyedvectors.Vocab object at 0x7f5703355470>, 'identifies': <gensim.models.keyedvectors.Vocab object at 0x7f57033554e0>, 'want': <gensim.models.keyedvectors.Vocab object at 0x7f5703355550>, 'issue': <gensim.models.keyedvectors.Vocab object at 0x7f57033555f8>, 'place': <gensim.models.keyedvectors.Vocab object at 0x7f5703355668>, 'concerned': <gensim.models.keyedvectors.Vocab object at 0x7f57033556d8>, 'giving': <gensim.models.keyedvectors.Vocab object at 0x7f5703355710>, 'enabling': <gensim.models.keyedvectors.Vocab object at 0x7f57033557b8>, 'responsible': <gensim.models.keyedvectors.Vocab object at 0x7f57033557f0>, 'aaai': <gensim.models.keyedvectors.Vocab object at 0x7f5703355860>, 'symposium': <gensim.models.keyedvectors.Vocab object at 0x7f5703355898>, 'concerning': <gensim.models.keyedvectors.Vocab object at 0x7f57033558d0>, 'treat': <gensim.models.keyedvectors.Vocab object at 0x7f5703355978>, 'dimension': <gensim.models.keyedvectors.Vocab object at 0x7f57033559b0>, 'involving': <gensim.models.keyedvectors.Vocab object at 0x7f5703355a20>, 'recent': <gensim.models.keyedvectors.Vocab object at 0x7f5703355a90>, 'contrast': <gensim.models.keyedvectors.Vocab object at 0x7f5703355b38>, 'concerns': <gensim.models.keyedvectors.Vocab object at 0x7f5703355b70>, 'referred': <gensim.models.keyedvectors.Vocab object at 0x7f5703355be0>, 'morality': <gensim.models.keyedvectors.Vocab object at 0x7f5703355c18>, 'stems': <gensim.models.keyedvectors.Vocab object at 0x7f5703355c50>, 'believes': <gensim.models.keyedvectors.Vocab object at 0x7f5703355cc0>, 'argues': <gensim.models.keyedvectors.Vocab object at 0x7f5703355cf8>, 'ais': <gensim.models.keyedvectors.Vocab object at 0x7f5703355d68>, 'civilization': <gensim.models.keyedvectors.Vocab object at 0x7f5703355e80>, 'earth': <gensim.models.keyedvectors.Vocab object at 0x7f5703355eb8>, 'researcher': <gensim.models.keyedvectors.Vocab object at 0x7f5703355f60>, 'think': <gensim.models.keyedvectors.Vocab object at 0x7f5703355f98>, 'developing': <gensim.models.keyedvectors.Vocab object at 0x7f5703357080>, 'worry': <gensim.models.keyedvectors.Vocab object at 0x7f57033570f0>, 'sentient': <gensim.models.keyedvectors.Vocab object at 0x7f5703357128>, 'lethal': <gensim.models.keyedvectors.Vocab object at 0x7f5703357160>, 'weapons': <gensim.models.keyedvectors.Vocab object at 0x7f57033571d0>, 'researching': <gensim.models.keyedvectors.Vocab object at 0x7f5703357208>, 'united': <gensim.models.keyedvectors.Vocab object at 0x7f5703357240>, 'superintelligent': <gensim.models.keyedvectors.Vocab object at 0x7f5703357278>, 'nature': <gensim.models.keyedvectors.Vocab object at 0x7f57033572e8>, 'hard': <gensim.models.keyedvectors.Vocab object at 0x7f5703357358>, 'explaining': <gensim.models.keyedvectors.Vocab object at 0x7f5703357390>, 'feel': <gensim.models.keyedvectors.Vocab object at 0x7f57033573c8>, 'explain': <gensim.models.keyedvectors.Vocab object at 0x7f5703357438>, 'subjective': <gensim.models.keyedvectors.Vocab object at 0x7f5703357588>, 'swatch': <gensim.models.keyedvectors.Vocab object at 0x7f57033575c0>, 'red': <gensim.models.keyedvectors.Vocab object at 0x7f5703357630>, 'looks': <gensim.models.keyedvectors.Vocab object at 0x7f57033576d8>, 'k': <gensim.models.keyedvectors.Vocab object at 0x7f5703357748>, 'day': <gensim.models.keyedvectors.Vocab object at 0x7f5703357780>, 'creates': <gensim.models.keyedvectors.Vocab object at 0x7f57033577f0>, 'scientists': <gensim.models.keyedvectors.Vocab object at 0x7f5703357828>, 'searle': <gensim.models.keyedvectors.Vocab object at 0x7f5703357860>, 'created': <gensim.models.keyedvectors.Vocab object at 0x7f5703357978>, 'institute': <gensim.models.keyedvectors.Vocab object at 0x7f57033579b0>, 'transhumanism': <gensim.models.keyedvectors.Vocab object at 0x7f57033579e8>, 'superintelligence': <gensim.models.keyedvectors.Vocab object at 0x7f5703357a20>, 'improving': <gensim.models.keyedvectors.Vocab object at 0x7f5703357ac8>, 'improvement': <gensim.models.keyedvectors.Vocab object at 0x7f5703357b70>, 'scenario': <gensim.models.keyedvectors.Vocab object at 0x7f5703357be0>, 'singularity': <gensim.models.keyedvectors.Vocab object at 0x7f5703357c18>, 'technologies': <gensim.models.keyedvectors.Vocab object at 0x7f5703357cc0>, 'ray': <gensim.models.keyedvectors.Vocab object at 0x7f5703357d68>, 'kurzweil': <gensim.models.keyedvectors.Vocab object at 0x7f5703357e80>, 'either': <gensim.models.keyedvectors.Vocab object at 0x7f5703357ef0>, 'evolution': <gensim.models.keyedvectors.Vocab object at 0x7f5703357f28>, 'george': <gensim.models.keyedvectors.Vocab object at 0x7f5703357fd0>, 'name': <gensim.models.keyedvectors.Vocab object at 0x7f5703358080>, 'economic': <gensim.models.keyedvectors.Vocab object at 0x7f5703358160>, 'economists': <gensim.models.keyedvectors.Vocab object at 0x7f57033581d0>, 'european': <gensim.models.keyedvectors.Vocab object at 0x7f5703358240>, 'union': <gensim.models.keyedvectors.Vocab object at 0x7f5703358278>, 'white': <gensim.models.keyedvectors.Vocab object at 0x7f57033582b0>, 'healthcare': <gensim.models.keyedvectors.Vocab object at 0x7f5703358320>, 'efficiency': <gensim.models.keyedvectors.Vocab object at 0x7f5703358390>, 'automation': <gensim.models.keyedvectors.Vocab object at 0x7f5703358400>, 'employment': <gensim.models.keyedvectors.Vocab object at 0x7f5703358438>, 'jobs': <gensim.models.keyedvectors.Vocab object at 0x7f57033584a8>, 'collar': <gensim.models.keyedvectors.Vocab object at 0x7f57033584e0>, 'worth': <gensim.models.keyedvectors.Vocab object at 0x7f5703358518>, 'job': <gensim.models.keyedvectors.Vocab object at 0x7f5703358588>, 'ford': <gensim.models.keyedvectors.Vocab object at 0x7f57033585f8>, 'expressed': <gensim.models.keyedvectors.Vocab object at 0x7f57033586a0>, 'dangerous': <gensim.models.keyedvectors.Vocab object at 0x7f5703358710>, 'laws': <gensim.models.keyedvectors.Vocab object at 0x7f5703358748>, 'security': <gensim.models.keyedvectors.Vocab object at 0x7f5703358860>, 'bias': <gensim.models.keyedvectors.Vocab object at 0x7f5703358898>, 'compas': <gensim.models.keyedvectors.Vocab object at 0x7f57033588d0>, 'assigned': <gensim.models.keyedvectors.Vocab object at 0x7f5703358978>, 'defendants': <gensim.models.keyedvectors.Vocab object at 0x7f57033589b0>, 'hawking': <gensim.models.keyedvectors.Vocab object at 0x7f57033589e8>, 'founder': <gensim.models.keyedvectors.Vocab object at 0x7f5703358a90>, 'musk': <gensim.models.keyedvectors.Vocab object at 0x7f5703358b70>, 'spell': <gensim.models.keyedvectors.Vocab object at 0x7f5703358ba8>, 'end': <gensim.models.keyedvectors.Vocab object at 0x7f5703358c50>, 'race': <gensim.models.keyedvectors.Vocab object at 0x7f5703358cc0>, 'bostrom': <gensim.models.keyedvectors.Vocab object at 0x7f5703358cf8>, 'threat': <gensim.models.keyedvectors.Vocab object at 0x7f5703358e10>, 'resources': <gensim.models.keyedvectors.Vocab object at 0x7f5703358e48>, 'shut': <gensim.models.keyedvectors.Vocab object at 0x7f5703358f98>, 'fully': <gensim.models.keyedvectors.Vocab object at 0x7f5703359048>, 'smile': <gensim.models.keyedvectors.Vocab object at 0x7f5703359080>, 'prominent': <gensim.models.keyedvectors.Vocab object at 0x7f57033590f0>, 'ceo': <gensim.models.keyedvectors.Vocab object at 0x7f5703359128>, 'mark': <gensim.models.keyedvectors.Vocab object at 0x7f5703359160>, 'realized': <gensim.models.keyedvectors.Vocab object at 0x7f57033591d0>, 'regulation': <gensim.models.keyedvectors.Vocab object at 0x7f5703359208>, 'culture': <gensim.models.keyedvectors.Vocab object at 0x7f5703359278>, 'asimov': <gensim.models.keyedvectors.Vocab object at 0x7f57033592e8>, 'series': <gensim.models.keyedvectors.Vocab object at 0x7f5703359358>, 'sorayama': <gensim.models.keyedvectors.Vocab object at 0x7f5703359390>, 'actual': <gensim.models.keyedvectors.Vocab object at 0x7f57033593c8>, 'organic': <gensim.models.keyedvectors.Vocab object at 0x7f5703359400>, 'dick': <gensim.models.keyedvectors.Vocab object at 0x7f5703359470>}\n"
          ],
          "name": "stdout"
        }
      ]
    },
    {
      "cell_type": "markdown",
      "metadata": {
        "id": "Lo_g9-9CH2lQ"
      },
      "source": [
        "Посмотрим векторное представление какого-нибудь слова"
      ]
    },
    {
      "cell_type": "code",
      "metadata": {
        "id": "Loc9wqlyH2lQ",
        "colab": {
          "base_uri": "https://localhost:8080/"
        },
        "outputId": "cca673dc-8574-4370-b00d-40a2cd3163f3"
      },
      "source": [
        "v1 = word2vec.wv['artificial']\n",
        "v1"
      ],
      "execution_count": null,
      "outputs": [
        {
          "output_type": "execute_result",
          "data": {
            "text/plain": [
              "array([-2.9760969e-03,  1.1244040e-03,  3.3811654e-03,  1.2952751e-03,\n",
              "       -5.0136709e-04, -4.2068763e-03,  5.1918905e-03,  2.9032086e-03,\n",
              "       -8.2177157e-04, -2.1546467e-03,  1.6933836e-03,  4.3019764e-03,\n",
              "        1.6719348e-03, -2.8811414e-03, -6.4890254e-03, -2.5566102e-03,\n",
              "       -1.1107200e-03,  1.3642786e-03, -3.7828174e-03,  5.6672790e-03,\n",
              "       -5.3196503e-03,  2.7947729e-03,  3.2519074e-03,  1.5221573e-03,\n",
              "       -7.3023542e-04,  1.0654485e-03, -1.1863726e-03, -1.8295706e-03,\n",
              "       -1.0629955e-03, -2.1319152e-03,  5.1017953e-03,  5.7116356e-03,\n",
              "        3.3772079e-04, -1.8355029e-03, -2.1717011e-03,  6.7426180e-03,\n",
              "       -2.2279136e-03, -2.4528364e-03,  1.4161170e-03,  3.0465967e-03,\n",
              "        8.9535286e-04, -4.4528442e-03, -5.0808066e-03,  2.4215116e-03,\n",
              "        4.4458196e-03,  6.5615210e-03,  4.7133588e-03, -4.4304542e-03,\n",
              "        3.1372375e-04,  4.2101420e-03,  1.0108020e-03,  5.1768930e-03,\n",
              "       -5.5043977e-03,  1.2664599e-03,  2.0572904e-03,  4.4002882e-03,\n",
              "        1.8692762e-03, -3.6988489e-03,  2.3401449e-03, -3.6264881e-03,\n",
              "       -3.5281121e-03,  1.8868187e-03, -4.5401251e-04,  2.9898665e-03,\n",
              "       -1.3048199e-03, -1.1541693e-03,  4.1045686e-03, -2.8897247e-03,\n",
              "        3.8110761e-03, -2.3219287e-03, -2.2981537e-03, -3.6657029e-03,\n",
              "       -1.5085442e-03,  5.5400883e-03, -1.8687092e-03,  5.2314750e-03,\n",
              "       -4.7039934e-03,  2.2236458e-03,  3.7718343e-03,  1.7030474e-03,\n",
              "        3.3850415e-04,  7.9246412e-04, -4.1668843e-03, -4.4844966e-04,\n",
              "       -9.9483979e-05, -4.3177353e-03,  5.7534832e-03,  8.6908747e-04,\n",
              "       -3.2808108e-03,  3.8968234e-03,  5.5520432e-03,  5.1670629e-03,\n",
              "        1.4875004e-03, -1.3771888e-03,  1.2385000e-03, -5.5376571e-03,\n",
              "        4.1376450e-03,  3.9497367e-03, -6.1692810e-03, -2.3538806e-03],\n",
              "      dtype=float32)"
            ]
          },
          "metadata": {
            "tags": []
          },
          "execution_count": 129
        }
      ]
    },
    {
      "cell_type": "markdown",
      "metadata": {
        "id": "5Ny2VOsoH2lQ"
      },
      "source": [
        "И найдем все похожие слова. Так же увидим их индексы подобия"
      ]
    },
    {
      "cell_type": "code",
      "metadata": {
        "id": "3hKnX-ASH2lQ",
        "colab": {
          "base_uri": "https://localhost:8080/"
        },
        "outputId": "fa6dfb93-37ee-4e85-f792-de7d10ac67ba"
      },
      "source": [
        "sim_words = word2vec.wv.most_similar('intelligence')\n",
        "sim_words"
      ],
      "execution_count": null,
      "outputs": [
        {
          "output_type": "execute_result",
          "data": {
            "text/plain": [
              "[('science', 0.4016414284706116),\n",
              " ('humans', 0.38296109437942505),\n",
              " ('knowledge', 0.3765760660171509),\n",
              " ('well', 0.3750830888748169),\n",
              " ('use', 0.3690517544746399),\n",
              " ('approaches', 0.33576053380966187),\n",
              " ('would', 0.3351532816886902),\n",
              " ('solutions', 0.32531672716140747),\n",
              " ('researchers', 0.3246596157550812),\n",
              " ('nlp', 0.3227594792842865)]"
            ]
          },
          "metadata": {
            "tags": []
          },
          "execution_count": 130
        }
      ]
    },
    {
      "cell_type": "markdown",
      "metadata": {
        "id": "sMQd2kBl0DLe"
      },
      "source": [
        "# 8 Практика. Генерация текста"
      ]
    },
    {
      "cell_type": "code",
      "metadata": {
        "id": "nAlbEGXN0DLX"
      },
      "source": [
        "from __future__ import print_function\n",
        "from keras.models import Sequential\n",
        "from keras.layers import Dense\n",
        "from keras.optimizers import RMSprop\n",
        "from keras.utils.data_utils import get_file\n",
        "import numpy as np\n",
        "import random\n",
        "import sys\n",
        "import io\n",
        "import os"
      ],
      "execution_count": null,
      "outputs": []
    },
    {
      "cell_type": "markdown",
      "metadata": {
        "id": "moT4y7wD0DLf"
      },
      "source": [
        "## 8.1 Подготовка текста"
      ]
    },
    {
      "cell_type": "markdown",
      "metadata": {
        "id": "yIOfWhRVmLtZ"
      },
      "source": [
        "### 8.1.1 Выбор корпуса"
      ]
    },
    {
      "cell_type": "markdown",
      "metadata": {
        "id": "P060NMLb0DLf"
      },
      "source": [
        "Сегодня мы разберем принципы работы с рекурентными сетями с использованием фреймфорка Keras. \n",
        "\n",
        "Вашему Вниманию, представлено не сколько вариантов текста:"
      ]
    },
    {
      "cell_type": "code",
      "metadata": {
        "id": "tmy2qt7e0DzU",
        "colab": {
          "base_uri": "https://localhost:8080/"
        },
        "outputId": "ce9db945-9eb6-47e3-b329-55391d7815a6"
      },
      "source": [
        "from google.colab import drive\n",
        "drive.mount('/content/gdrive/')"
      ],
      "execution_count": null,
      "outputs": [
        {
          "output_type": "stream",
          "text": [
            "Drive already mounted at /content/gdrive/; to attempt to forcibly remount, call drive.mount(\"/content/gdrive/\", force_remount=True).\n"
          ],
          "name": "stdout"
        }
      ]
    },
    {
      "cell_type": "code",
      "metadata": {
        "colab": {
          "base_uri": "https://localhost:8080/"
        },
        "id": "T9ETV3i0ojra",
        "outputId": "760ded5a-63f1-4001-fa0e-ffaadeab6a1d"
      },
      "source": [
        "!ls ./gdrive/My\\ Drive/Colab\\ Notebooks/семестр2/семинар1"
      ],
      "execution_count": null,
      "outputs": [
        {
          "output_type": "stream",
          "text": [
            "Seminar_01_NLP.ipynb  txt\n"
          ],
          "name": "stdout"
        }
      ]
    },
    {
      "cell_type": "code",
      "metadata": {
        "colab": {
          "base_uri": "https://localhost:8080/"
        },
        "id": "ePBD7g9H0DLf",
        "outputId": "f7d8ade0-0eb6-43d3-ed44-9cd4b2611c0a"
      },
      "source": [
        "directory = './gdrive/My Drive/Colab Notebooks/семестр2/семинар1/txt/'\n",
        "files = os.listdir(directory)\n",
        "files"
      ],
      "execution_count": null,
      "outputs": [
        {
          "output_type": "execute_result",
          "data": {
            "text/plain": [
              "['pushkin.txt']"
            ]
          },
          "metadata": {
            "tags": []
          },
          "execution_count": 134
        }
      ]
    },
    {
      "cell_type": "markdown",
      "metadata": {
        "id": "BLu_mepT0DLg"
      },
      "source": [
        "Выберите понравившийся текст: "
      ]
    },
    {
      "cell_type": "code",
      "metadata": {
        "colab": {
          "base_uri": "https://localhost:8080/",
          "height": 35
        },
        "id": "Ef862xTT0DLh",
        "outputId": "563c6f8b-150c-4f1b-c41e-ac691c9b69a8"
      },
      "source": [
        "corpus = directory + files[0]\n",
        "corpus"
      ],
      "execution_count": null,
      "outputs": [
        {
          "output_type": "execute_result",
          "data": {
            "application/vnd.google.colaboratory.intrinsic+json": {
              "type": "string"
            },
            "text/plain": [
              "'./gdrive/My Drive/Colab Notebooks/семестр2/семинар1/txt/pushkin.txt'"
            ]
          },
          "metadata": {
            "tags": []
          },
          "execution_count": 135
        }
      ]
    },
    {
      "cell_type": "markdown",
      "metadata": {
        "id": "I4KN6npn0DLh"
      },
      "source": [
        "### 8.1.2 Предобработка текста"
      ]
    },
    {
      "cell_type": "code",
      "metadata": {
        "colab": {
          "base_uri": "https://localhost:8080/"
        },
        "id": "qgy0iJ680DLh",
        "outputId": "f7159127-3a9b-45c5-de84-2f80dc04e237"
      },
      "source": [
        "with io.open(corpus, encoding='utf-8') as f:\n",
        "    text = f.read().lower()\n",
        "print('Длина корпуса:', len(text))"
      ],
      "execution_count": null,
      "outputs": [
        {
          "output_type": "stream",
          "text": [
            "Длина корпуса: 66090\n"
          ],
          "name": "stdout"
        }
      ]
    },
    {
      "cell_type": "markdown",
      "metadata": {
        "id": "zOE5j5Q20DLi"
      },
      "source": [
        "Посмотрим на часть текста:"
      ]
    },
    {
      "cell_type": "code",
      "metadata": {
        "colab": {
          "base_uri": "https://localhost:8080/"
        },
        "id": "eHzfSfLf0DLi",
        "outputId": "ef9ad743-1387-440b-a0b7-8a9afd97669e"
      },
      "source": [
        "print(text[:100])"
      ],
      "execution_count": null,
      "outputs": [
        {
          "output_type": "stream",
          "text": [
            "о сколько нам открытий чудных\n",
            "готовят  –  просвещенья дух\n",
            "и опыт, сын ошибок трудных,\n",
            "и гений, парад\n"
          ],
          "name": "stdout"
        }
      ]
    },
    {
      "cell_type": "markdown",
      "metadata": {
        "id": "KNSqAkjv0DLi"
      },
      "source": [
        "Сформируйте последовательности длинны `maxlen` со сдвигом `step`, следующим образом: \n",
        "- В переменную `sentences` включите последовательность\n",
        "- `next_chars` список символов который является следующим для указанной последовательности"
      ]
    },
    {
      "cell_type": "code",
      "metadata": {
        "id": "39fgvTgx0DLj"
      },
      "source": [
        "maxlen = 70\n",
        "step = 3\n",
        "sentences = []\n",
        "next_chars = []\n",
        "\n",
        "# Ваш код здесь: "
      ],
      "execution_count": null,
      "outputs": []
    },
    {
      "cell_type": "code",
      "metadata": {
        "colab": {
          "base_uri": "https://localhost:8080/"
        },
        "id": "vuUn75tG0DLj",
        "outputId": "3aeb52d6-25f7-44a1-9a14-5d1342c60ec1"
      },
      "source": [
        "print('Колличество послеовательностей:', len(sentences))"
      ],
      "execution_count": null,
      "outputs": [
        {
          "output_type": "stream",
          "text": [
            "Колличество послеовательностей: 22007\n"
          ],
          "name": "stdout"
        }
      ]
    },
    {
      "cell_type": "markdown",
      "metadata": {
        "id": "tmsgAi590DLj"
      },
      "source": [
        "Посмотрим на случайную пару: Последовательность/ответ"
      ]
    },
    {
      "cell_type": "code",
      "metadata": {
        "colab": {
          "base_uri": "https://localhost:8080/"
        },
        "id": "O0kB_r8N0DLj",
        "outputId": "e18ab6ed-0877-4c17-e523-b520f789989f"
      },
      "source": [
        "check_ran = np.random.randint(0,len(sentences))\n",
        "print('После строки:')\n",
        "print(sentences[check_ran])\n",
        "print('')\n",
        "print('Ожидаем: ',next_chars[check_ran])"
      ],
      "execution_count": null,
      "outputs": [
        {
          "output_type": "stream",
          "text": [
            "После строки:\n",
            " меня. идет! уж близко, близко время:\n",
            "наш город пламени и ветрам обреч\n",
            "\n",
            "Ожидаем:  е\n"
          ],
          "name": "stdout"
        }
      ]
    },
    {
      "cell_type": "markdown",
      "metadata": {
        "id": "xl0A7kw70DLk"
      },
      "source": [
        "### 8.1.3 Векторизация\n",
        "Далее, нам необходимо векторизвать каждую букву, для этого воспользуемся обычным Bag of chars:"
      ]
    },
    {
      "cell_type": "code",
      "metadata": {
        "colab": {
          "base_uri": "https://localhost:8080/"
        },
        "id": "Rwnvt8xk0DLk",
        "outputId": "9a92468a-73ab-4738-fde9-3e46ed958e3c"
      },
      "source": [
        "chars = sorted(list(set(text))) #Составив список всех символов\n",
        "print('Всего символов:', len(chars))\n",
        "# Составьте два словаря\n",
        "# Первый: список букв:номера индексов\n",
        "# Второй: номера индексов:список букв\n",
        "\n",
        "# Ваш код здесь"
      ],
      "execution_count": null,
      "outputs": [
        {
          "output_type": "stream",
          "text": [
            "Всего символов: 61\n"
          ],
          "name": "stdout"
        }
      ]
    },
    {
      "cell_type": "code",
      "metadata": {
        "colab": {
          "base_uri": "https://localhost:8080/"
        },
        "id": "8J_ZG6hL0DLk",
        "outputId": "2c1433bf-c5fe-4c9d-bb7b-2c66811d5e1e"
      },
      "source": [
        "indexes_chars"
      ],
      "execution_count": null,
      "outputs": [
        {
          "output_type": "execute_result",
          "data": {
            "text/plain": [
              "{0: '\\n',\n",
              " 1: ' ',\n",
              " 2: '!',\n",
              " 3: '\"',\n",
              " 4: '(',\n",
              " 5: ')',\n",
              " 6: ',',\n",
              " 7: '-',\n",
              " 8: '.',\n",
              " 9: ':',\n",
              " 10: ';',\n",
              " 11: '?',\n",
              " 12: 'a',\n",
              " 13: 'c',\n",
              " 14: 'd',\n",
              " 15: 'e',\n",
              " 16: 'i',\n",
              " 17: 'l',\n",
              " 18: 'm',\n",
              " 19: 'n',\n",
              " 20: 'o',\n",
              " 21: 'p',\n",
              " 22: 'r',\n",
              " 23: 's',\n",
              " 24: 't',\n",
              " 25: 'u',\n",
              " 26: 'v',\n",
              " 27: 'а',\n",
              " 28: 'б',\n",
              " 29: 'в',\n",
              " 30: 'г',\n",
              " 31: 'д',\n",
              " 32: 'е',\n",
              " 33: 'ж',\n",
              " 34: 'з',\n",
              " 35: 'и',\n",
              " 36: 'й',\n",
              " 37: 'к',\n",
              " 38: 'л',\n",
              " 39: 'м',\n",
              " 40: 'н',\n",
              " 41: 'о',\n",
              " 42: 'п',\n",
              " 43: 'р',\n",
              " 44: 'с',\n",
              " 45: 'т',\n",
              " 46: 'у',\n",
              " 47: 'ф',\n",
              " 48: 'х',\n",
              " 49: 'ц',\n",
              " 50: 'ч',\n",
              " 51: 'ш',\n",
              " 52: 'щ',\n",
              " 53: 'ъ',\n",
              " 54: 'ы',\n",
              " 55: 'ь',\n",
              " 56: 'э',\n",
              " 57: 'ю',\n",
              " 58: 'я',\n",
              " 59: 'ё',\n",
              " 60: '–'}"
            ]
          },
          "metadata": {
            "tags": []
          },
          "execution_count": 142
        }
      ]
    },
    {
      "cell_type": "markdown",
      "metadata": {
        "id": "IKQLmjWO0DLl"
      },
      "source": [
        "Составьте обучающую выборку, где:  \n",
        "- x - это закодированные последовательности, размерностью: (количество объектов, длинна последовательности, колличество уникальных букв), таким образом каждой букве в последовательности будет соответствовать вектор\n",
        "- y - это закодированные ответы, размерностью: (количество объектов, колличество уникальных букв)"
      ]
    },
    {
      "cell_type": "code",
      "metadata": {
        "colab": {
          "base_uri": "https://localhost:8080/"
        },
        "id": "MW-ypFES0DLl",
        "outputId": "6bbb8210-2d07-4f5a-aaf8-2e34aa36d9a5"
      },
      "source": [
        "print('Векторизация...', )\n",
        "x = np.zeros((len(sentences), maxlen, len(chars)), dtype=np.integer)\n",
        "y = np.zeros((len(sentences), len(chars)), dtype=np.integer)\n",
        "\n",
        "\n",
        "# Ваш код здесь\n",
        "\n",
        "print('... Готово')"
      ],
      "execution_count": null,
      "outputs": [
        {
          "output_type": "stream",
          "text": [
            "Векторизация...\n"
          ],
          "name": "stdout"
        },
        {
          "output_type": "stream",
          "text": [
            "/usr/local/lib/python3.6/dist-packages/ipykernel_launcher.py:2: DeprecationWarning: Converting `np.integer` or `np.signedinteger` to a dtype is deprecated. The current result is `np.dtype(np.int_)` which is not strictly correct. Note that the result depends on the system. To ensure stable results use may want to use `np.int64` or `np.int32`.\n",
            "  \n",
            "/usr/local/lib/python3.6/dist-packages/ipykernel_launcher.py:3: DeprecationWarning: Converting `np.integer` or `np.signedinteger` to a dtype is deprecated. The current result is `np.dtype(np.int_)` which is not strictly correct. Note that the result depends on the system. To ensure stable results use may want to use `np.int64` or `np.int32`.\n",
            "  This is separate from the ipykernel package so we can avoid doing imports until\n"
          ],
          "name": "stderr"
        },
        {
          "output_type": "stream",
          "text": [
            "... Готово\n"
          ],
          "name": "stdout"
        }
      ]
    },
    {
      "cell_type": "markdown",
      "metadata": {
        "id": "szacZvZQ0DLl"
      },
      "source": [
        " Проверим, размерность:"
      ]
    },
    {
      "cell_type": "code",
      "metadata": {
        "colab": {
          "base_uri": "https://localhost:8080/"
        },
        "id": "l6_gNH8_0DLl",
        "outputId": "652d1a5e-716d-40a7-875e-47634ae46b34"
      },
      "source": [
        "x.shape, y.shape"
      ],
      "execution_count": null,
      "outputs": [
        {
          "output_type": "execute_result",
          "data": {
            "text/plain": [
              "((22007, 70, 61), (22007, 61))"
            ]
          },
          "metadata": {
            "tags": []
          },
          "execution_count": 144
        }
      ]
    },
    {
      "cell_type": "markdown",
      "metadata": {
        "id": "ufvlSbP30DLl"
      },
      "source": [
        "## 8.2 Подготовка к генерации текста\n",
        "Создадим функцию `generating_text`, которая будет генерировать объекты на основании моделей:  "
      ]
    },
    {
      "cell_type": "code",
      "metadata": {
        "id": "OEiXtlor0DLm"
      },
      "source": [
        "def sample(preds, temperature=1.0):\n",
        "    # helper function to sample an index from a probability array\n",
        "    preds = np.asarray(preds).astype('float64')\n",
        "    preds = np.log(preds) / temperature\n",
        "    exp_preds = np.exp(preds)\n",
        "    preds = exp_preds / np.sum(exp_preds)\n",
        "    probas = np.random.multinomial(1, preds, 1)\n",
        "    return np.argmax(probas)"
      ],
      "execution_count": null,
      "outputs": []
    },
    {
      "cell_type": "markdown",
      "metadata": {
        "id": "iBx85Rmt0DLm"
      },
      "source": [
        "> Temperature. We can also play with the temperature of the Softmax during sampling. Decreasing the temperature from 1 to some lower number (e.g. 0.5) makes the RNN more confident, but also more conservative in its samples. Conversely, higher temperatures will give more diversity but at cost of more mistakes (e.g. spelling mistakes, etc). In particular, setting temperature very near zero will give the most likely thing that Paul Graham might say:\n",
        ">> “is that they were all the same thing that was a startup is that they were all the same thing that was a startup is that they were all the same thing that was a startup is that they were all the same”\n",
        "\n",
        "> looks like we’ve reached an infinite loop about startups.\n",
        "\n",
        "Источник: [The Unreasonable Effectiveness of Recurrent Neural Networks](http://karpathy.github.io/2015/05/21/rnn-effectiveness/)"
      ]
    },
    {
      "cell_type": "markdown",
      "metadata": {
        "collapsed": true,
        "id": "dAuPeex30DLm"
      },
      "source": [
        "## 8.3 Обучение моделей"
      ]
    },
    {
      "cell_type": "code",
      "metadata": {
        "id": "Q8Jc299p0DLm"
      },
      "source": [
        "from keras.layers import SimpleRNN, GRU, LSTM "
      ],
      "execution_count": null,
      "outputs": []
    },
    {
      "cell_type": "markdown",
      "metadata": {
        "id": "nsKhobHv0DLn"
      },
      "source": [
        "### 8.3.1 VanilaRNN (повторение)\n",
        "Создадим простую RNN с одним слоем из 128 нейронов"
      ]
    },
    {
      "cell_type": "code",
      "metadata": {
        "colab": {
          "base_uri": "https://localhost:8080/"
        },
        "id": "XqS5YF8x0DLn",
        "outputId": "aeae6192-74c0-490f-e5ab-50bb5f04fd21"
      },
      "source": [
        "model = Sequential()\n",
        "model.add(SimpleRNN(128, input_shape=(maxlen, len(chars))))\n",
        "model.add(Dense(len(chars), activation='softmax'))\n",
        "\n",
        "optimizer = RMSprop(lr=0.01)\n",
        "model.compile(loss='categorical_crossentropy', optimizer=optimizer)\n",
        "model.summary()"
      ],
      "execution_count": null,
      "outputs": [
        {
          "output_type": "stream",
          "text": [
            "Model: \"sequential_2\"\n",
            "_________________________________________________________________\n",
            "Layer (type)                 Output Shape              Param #   \n",
            "=================================================================\n",
            "simple_rnn_2 (SimpleRNN)     (None, 128)               24320     \n",
            "_________________________________________________________________\n",
            "dense_2 (Dense)              (None, 61)                7869      \n",
            "=================================================================\n",
            "Total params: 32,189\n",
            "Trainable params: 32,189\n",
            "Non-trainable params: 0\n",
            "_________________________________________________________________\n"
          ],
          "name": "stdout"
        }
      ]
    },
    {
      "cell_type": "code",
      "metadata": {
        "colab": {
          "base_uri": "https://localhost:8080/"
        },
        "id": "Xm2mYOvO0DLn",
        "outputId": "2e10f4bf-5662-4e23-8d46-a6c7610ee55d"
      },
      "source": [
        "model.fit(x, y, batch_size=128,\n",
        "          epochs=10, validation_split=0.2)"
      ],
      "execution_count": null,
      "outputs": [
        {
          "output_type": "stream",
          "text": [
            "Epoch 1/10\n",
            "138/138 [==============================] - 10s 64ms/step - loss: 4.0760 - val_loss: 3.9942\n",
            "Epoch 2/10\n",
            "138/138 [==============================] - 8s 59ms/step - loss: 3.6194 - val_loss: 3.3918\n",
            "Epoch 3/10\n",
            "138/138 [==============================] - 9s 63ms/step - loss: 3.0369 - val_loss: 3.1787\n",
            "Epoch 4/10\n",
            "138/138 [==============================] - 9s 64ms/step - loss: 3.0129 - val_loss: 3.0464\n",
            "Epoch 5/10\n",
            "138/138 [==============================] - 8s 60ms/step - loss: 2.8872 - val_loss: 2.8880\n",
            "Epoch 6/10\n",
            "138/138 [==============================] - 8s 60ms/step - loss: 2.9891 - val_loss: 2.9243\n",
            "Epoch 7/10\n",
            "138/138 [==============================] - 8s 60ms/step - loss: 2.9140 - val_loss: 2.8843\n",
            "Epoch 8/10\n",
            "138/138 [==============================] - 8s 60ms/step - loss: 2.8313 - val_loss: 2.9640\n",
            "Epoch 9/10\n",
            "138/138 [==============================] - 8s 60ms/step - loss: 2.8262 - val_loss: 2.8968\n",
            "Epoch 10/10\n",
            "138/138 [==============================] - 8s 60ms/step - loss: 2.7757 - val_loss: 2.8966\n"
          ],
          "name": "stdout"
        },
        {
          "output_type": "execute_result",
          "data": {
            "text/plain": [
              "<tensorflow.python.keras.callbacks.History at 0x7f570335b9b0>"
            ]
          },
          "metadata": {
            "tags": []
          },
          "execution_count": 148
        }
      ]
    },
    {
      "cell_type": "markdown",
      "metadata": {
        "id": "VMTkgrEg0DLn"
      },
      "source": [
        "### 8.3.2 Сгенерируем текст"
      ]
    },
    {
      "cell_type": "code",
      "metadata": {
        "id": "JtRob0HcGjXK"
      },
      "source": [
        "def generating_text(diversity, model):\n",
        "    print()\n",
        "    print('...Генерация текста. Температура: ', diversity)\n",
        "    start_index = random.randint(0, len(text) - maxlen - 1)\n",
        "    generated = ''\n",
        "    sentence = text[start_index: start_index + maxlen]\n",
        "    generated += sentence\n",
        "    sys.stdout.write(generated)\n",
        "    for i in range(100):\n",
        "        x_pred = np.zeros((1, maxlen, len(chars)))\n",
        "        for t, char in enumerate(sentence):\n",
        "            x_pred[0, t, chars_indexes[char]] = 1.\n",
        "\n",
        "        preds = model.predict(x_pred, verbose=0)[0] #Вектор вероятностей, полученный с помощью модели\n",
        "        next_index = sample(preds, diversity) # Выбираем индекс\n",
        "        next_char = indexes_chars[next_index] #Выбираем символ из словаря \n",
        "\n",
        "        generated += next_char\n",
        "        sentence = sentence[1:] + next_char\n",
        "\n",
        "        sys.stdout.write(next_char)\n",
        "        sys.stdout.flush()\n",
        "    print()"
      ],
      "execution_count": null,
      "outputs": []
    },
    {
      "cell_type": "code",
      "metadata": {
        "colab": {
          "base_uri": "https://localhost:8080/"
        },
        "id": "PiVekhHV0DLn",
        "outputId": "2439c12b-7184-4e28-f2bd-b03976e74617"
      },
      "source": [
        "generating_text(1.0, model)"
      ],
      "execution_count": null,
      "outputs": [
        {
          "output_type": "stream",
          "text": [
            "\n",
            "...Генерация текста. Температура:  1.0\n",
            "сей неведомый цветок?\n",
            "\n",
            "хоть тяжело подчас в ней бремя\n",
            "телега на ходу ль.ъ о  и чи и злащечомо,\n",
            "серо!\n",
            "е ныетаруй ойх., ша пуcпвери скаи, о нолро вскол\n",
            ", пов зажи стввудь с\n"
          ],
          "name": "stdout"
        }
      ]
    },
    {
      "cell_type": "markdown",
      "metadata": {
        "id": "E7aWtN8U0DLo"
      },
      "source": [
        "Поэкспериментируйте с параметром `diversity` и числом слоев и посмотрите как изменяется генерируемый текст"
      ]
    },
    {
      "cell_type": "markdown",
      "metadata": {
        "id": "eoTt_zIw0DLp"
      },
      "source": [
        "# В следующей серии\n",
        "Больше экспериментов\n",
        "Попробуйте различные варианты сетей: GRU и LSTM. Сравните результаты и выберите удачные примеры генерации текста. "
      ]
    },
    {
      "cell_type": "markdown",
      "metadata": {
        "id": "zgfZ1yMV-FUX"
      },
      "source": [
        "# Ссылки\n",
        "- [Тэги](https://medium.com/@muddaprince456/categorizing-and-pos-tagging-with-nltk-python-28f2bc9312c3)\n",
        "- [Больше про ленгвистическую предобработку текстов](https://www.mygreatlearning.com/blog/natural-language-processing-tutorial/)\n",
        "- [Статья про TF-IDF](https://m.habr.com/ru/company/Voximplant/blog/446738/)"
      ]
    }
  ]
}