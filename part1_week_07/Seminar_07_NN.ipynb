{
  "nbformat": 4,
  "nbformat_minor": 0,
  "metadata": {
    "kernelspec": {
      "display_name": "Py3 research env",
      "language": "python",
      "name": "py3_research"
    },
    "language_info": {
      "codemirror_mode": {
        "name": "ipython",
        "version": 3
      },
      "file_extension": ".py",
      "mimetype": "text/x-python",
      "name": "python",
      "nbconvert_exporter": "python",
      "pygments_lexer": "ipython3",
      "version": "3.7.7"
    },
    "colab": {
      "name": "Seminar_07_NN.ipynb",
      "provenance": [],
      "toc_visible": true
    },
    "accelerator": "GPU",
    "widgets": {
      "application/vnd.jupyter.widget-state+json": {
        "2e4fff55c29d4d219184cbc9438ca8af": {
          "model_module": "@jupyter-widgets/controls",
          "model_name": "HBoxModel",
          "state": {
            "_view_name": "HBoxView",
            "_dom_classes": [],
            "_model_name": "HBoxModel",
            "_view_module": "@jupyter-widgets/controls",
            "_model_module_version": "1.5.0",
            "_view_count": null,
            "_view_module_version": "1.5.0",
            "box_style": "",
            "layout": "IPY_MODEL_ce75162788714f5e8bca3b86c04e5ae5",
            "_model_module": "@jupyter-widgets/controls",
            "children": [
              "IPY_MODEL_146e6354fc034d9693bc07c334dde94a",
              "IPY_MODEL_10d30d38796f493da66be8c94c4abfde"
            ]
          }
        },
        "ce75162788714f5e8bca3b86c04e5ae5": {
          "model_module": "@jupyter-widgets/base",
          "model_name": "LayoutModel",
          "state": {
            "_view_name": "LayoutView",
            "grid_template_rows": null,
            "right": null,
            "justify_content": null,
            "_view_module": "@jupyter-widgets/base",
            "overflow": null,
            "_model_module_version": "1.2.0",
            "_view_count": null,
            "flex_flow": null,
            "width": null,
            "min_width": null,
            "border": null,
            "align_items": null,
            "bottom": null,
            "_model_module": "@jupyter-widgets/base",
            "top": null,
            "grid_column": null,
            "overflow_y": null,
            "overflow_x": null,
            "grid_auto_flow": null,
            "grid_area": null,
            "grid_template_columns": null,
            "flex": null,
            "_model_name": "LayoutModel",
            "justify_items": null,
            "grid_row": null,
            "max_height": null,
            "align_content": null,
            "visibility": null,
            "align_self": null,
            "height": null,
            "min_height": null,
            "padding": null,
            "grid_auto_rows": null,
            "grid_gap": null,
            "max_width": null,
            "order": null,
            "_view_module_version": "1.2.0",
            "grid_template_areas": null,
            "object_position": null,
            "object_fit": null,
            "grid_auto_columns": null,
            "margin": null,
            "display": null,
            "left": null
          }
        },
        "146e6354fc034d9693bc07c334dde94a": {
          "model_module": "@jupyter-widgets/controls",
          "model_name": "FloatProgressModel",
          "state": {
            "_view_name": "ProgressView",
            "style": "IPY_MODEL_03cd1ce026ae4e7dbae6250eaea7c360",
            "_dom_classes": [],
            "description": "",
            "_model_name": "FloatProgressModel",
            "bar_style": "info",
            "max": 1,
            "_view_module": "@jupyter-widgets/controls",
            "_model_module_version": "1.5.0",
            "value": 1,
            "_view_count": null,
            "_view_module_version": "1.5.0",
            "orientation": "horizontal",
            "min": 0,
            "description_tooltip": null,
            "_model_module": "@jupyter-widgets/controls",
            "layout": "IPY_MODEL_3e7f8cdcd3524719bd7a236115ddddf2"
          }
        },
        "10d30d38796f493da66be8c94c4abfde": {
          "model_module": "@jupyter-widgets/controls",
          "model_name": "HTMLModel",
          "state": {
            "_view_name": "HTMLView",
            "style": "IPY_MODEL_2caec85a2c1642ba8ce9b254e77008af",
            "_dom_classes": [],
            "description": "",
            "_model_name": "HTMLModel",
            "placeholder": "​",
            "_view_module": "@jupyter-widgets/controls",
            "_model_module_version": "1.5.0",
            "value": " 26427392/? [00:20&lt;00:00, 4845891.98it/s]",
            "_view_count": null,
            "_view_module_version": "1.5.0",
            "description_tooltip": null,
            "_model_module": "@jupyter-widgets/controls",
            "layout": "IPY_MODEL_4502947959b3427e8faaeb109d7e56e9"
          }
        },
        "03cd1ce026ae4e7dbae6250eaea7c360": {
          "model_module": "@jupyter-widgets/controls",
          "model_name": "ProgressStyleModel",
          "state": {
            "_view_name": "StyleView",
            "_model_name": "ProgressStyleModel",
            "description_width": "initial",
            "_view_module": "@jupyter-widgets/base",
            "_model_module_version": "1.5.0",
            "_view_count": null,
            "_view_module_version": "1.2.0",
            "bar_color": null,
            "_model_module": "@jupyter-widgets/controls"
          }
        },
        "3e7f8cdcd3524719bd7a236115ddddf2": {
          "model_module": "@jupyter-widgets/base",
          "model_name": "LayoutModel",
          "state": {
            "_view_name": "LayoutView",
            "grid_template_rows": null,
            "right": null,
            "justify_content": null,
            "_view_module": "@jupyter-widgets/base",
            "overflow": null,
            "_model_module_version": "1.2.0",
            "_view_count": null,
            "flex_flow": null,
            "width": null,
            "min_width": null,
            "border": null,
            "align_items": null,
            "bottom": null,
            "_model_module": "@jupyter-widgets/base",
            "top": null,
            "grid_column": null,
            "overflow_y": null,
            "overflow_x": null,
            "grid_auto_flow": null,
            "grid_area": null,
            "grid_template_columns": null,
            "flex": null,
            "_model_name": "LayoutModel",
            "justify_items": null,
            "grid_row": null,
            "max_height": null,
            "align_content": null,
            "visibility": null,
            "align_self": null,
            "height": null,
            "min_height": null,
            "padding": null,
            "grid_auto_rows": null,
            "grid_gap": null,
            "max_width": null,
            "order": null,
            "_view_module_version": "1.2.0",
            "grid_template_areas": null,
            "object_position": null,
            "object_fit": null,
            "grid_auto_columns": null,
            "margin": null,
            "display": null,
            "left": null
          }
        },
        "2caec85a2c1642ba8ce9b254e77008af": {
          "model_module": "@jupyter-widgets/controls",
          "model_name": "DescriptionStyleModel",
          "state": {
            "_view_name": "StyleView",
            "_model_name": "DescriptionStyleModel",
            "description_width": "",
            "_view_module": "@jupyter-widgets/base",
            "_model_module_version": "1.5.0",
            "_view_count": null,
            "_view_module_version": "1.2.0",
            "_model_module": "@jupyter-widgets/controls"
          }
        },
        "4502947959b3427e8faaeb109d7e56e9": {
          "model_module": "@jupyter-widgets/base",
          "model_name": "LayoutModel",
          "state": {
            "_view_name": "LayoutView",
            "grid_template_rows": null,
            "right": null,
            "justify_content": null,
            "_view_module": "@jupyter-widgets/base",
            "overflow": null,
            "_model_module_version": "1.2.0",
            "_view_count": null,
            "flex_flow": null,
            "width": null,
            "min_width": null,
            "border": null,
            "align_items": null,
            "bottom": null,
            "_model_module": "@jupyter-widgets/base",
            "top": null,
            "grid_column": null,
            "overflow_y": null,
            "overflow_x": null,
            "grid_auto_flow": null,
            "grid_area": null,
            "grid_template_columns": null,
            "flex": null,
            "_model_name": "LayoutModel",
            "justify_items": null,
            "grid_row": null,
            "max_height": null,
            "align_content": null,
            "visibility": null,
            "align_self": null,
            "height": null,
            "min_height": null,
            "padding": null,
            "grid_auto_rows": null,
            "grid_gap": null,
            "max_width": null,
            "order": null,
            "_view_module_version": "1.2.0",
            "grid_template_areas": null,
            "object_position": null,
            "object_fit": null,
            "grid_auto_columns": null,
            "margin": null,
            "display": null,
            "left": null
          }
        },
        "58371597d0554addb400b8e435767558": {
          "model_module": "@jupyter-widgets/controls",
          "model_name": "HBoxModel",
          "state": {
            "_view_name": "HBoxView",
            "_dom_classes": [],
            "_model_name": "HBoxModel",
            "_view_module": "@jupyter-widgets/controls",
            "_model_module_version": "1.5.0",
            "_view_count": null,
            "_view_module_version": "1.5.0",
            "box_style": "",
            "layout": "IPY_MODEL_b2a4044ed02b408887800e200e5a0ab7",
            "_model_module": "@jupyter-widgets/controls",
            "children": [
              "IPY_MODEL_7aed86f1182b4fd8bfd1326f0c8b960a",
              "IPY_MODEL_6497bad4645b4330b6d5131bd8651586"
            ]
          }
        },
        "b2a4044ed02b408887800e200e5a0ab7": {
          "model_module": "@jupyter-widgets/base",
          "model_name": "LayoutModel",
          "state": {
            "_view_name": "LayoutView",
            "grid_template_rows": null,
            "right": null,
            "justify_content": null,
            "_view_module": "@jupyter-widgets/base",
            "overflow": null,
            "_model_module_version": "1.2.0",
            "_view_count": null,
            "flex_flow": null,
            "width": null,
            "min_width": null,
            "border": null,
            "align_items": null,
            "bottom": null,
            "_model_module": "@jupyter-widgets/base",
            "top": null,
            "grid_column": null,
            "overflow_y": null,
            "overflow_x": null,
            "grid_auto_flow": null,
            "grid_area": null,
            "grid_template_columns": null,
            "flex": null,
            "_model_name": "LayoutModel",
            "justify_items": null,
            "grid_row": null,
            "max_height": null,
            "align_content": null,
            "visibility": null,
            "align_self": null,
            "height": null,
            "min_height": null,
            "padding": null,
            "grid_auto_rows": null,
            "grid_gap": null,
            "max_width": null,
            "order": null,
            "_view_module_version": "1.2.0",
            "grid_template_areas": null,
            "object_position": null,
            "object_fit": null,
            "grid_auto_columns": null,
            "margin": null,
            "display": null,
            "left": null
          }
        },
        "7aed86f1182b4fd8bfd1326f0c8b960a": {
          "model_module": "@jupyter-widgets/controls",
          "model_name": "FloatProgressModel",
          "state": {
            "_view_name": "ProgressView",
            "style": "IPY_MODEL_9e0085c2fd834e17b752b04c750c821f",
            "_dom_classes": [],
            "description": "",
            "_model_name": "FloatProgressModel",
            "bar_style": "success",
            "max": 1,
            "_view_module": "@jupyter-widgets/controls",
            "_model_module_version": "1.5.0",
            "value": 1,
            "_view_count": null,
            "_view_module_version": "1.5.0",
            "orientation": "horizontal",
            "min": 0,
            "description_tooltip": null,
            "_model_module": "@jupyter-widgets/controls",
            "layout": "IPY_MODEL_d1cf08bd8830434cbe14879bd6e5ee76"
          }
        },
        "6497bad4645b4330b6d5131bd8651586": {
          "model_module": "@jupyter-widgets/controls",
          "model_name": "HTMLModel",
          "state": {
            "_view_name": "HTMLView",
            "style": "IPY_MODEL_99634ad37d4c4c2ca88b5749ae610ee7",
            "_dom_classes": [],
            "description": "",
            "_model_name": "HTMLModel",
            "placeholder": "​",
            "_view_module": "@jupyter-widgets/controls",
            "_model_module_version": "1.5.0",
            "value": " 32768/? [00:01&lt;00:00, 24583.26it/s]",
            "_view_count": null,
            "_view_module_version": "1.5.0",
            "description_tooltip": null,
            "_model_module": "@jupyter-widgets/controls",
            "layout": "IPY_MODEL_ab3ffacf07c14ecf8d5cf7a0748226b7"
          }
        },
        "9e0085c2fd834e17b752b04c750c821f": {
          "model_module": "@jupyter-widgets/controls",
          "model_name": "ProgressStyleModel",
          "state": {
            "_view_name": "StyleView",
            "_model_name": "ProgressStyleModel",
            "description_width": "initial",
            "_view_module": "@jupyter-widgets/base",
            "_model_module_version": "1.5.0",
            "_view_count": null,
            "_view_module_version": "1.2.0",
            "bar_color": null,
            "_model_module": "@jupyter-widgets/controls"
          }
        },
        "d1cf08bd8830434cbe14879bd6e5ee76": {
          "model_module": "@jupyter-widgets/base",
          "model_name": "LayoutModel",
          "state": {
            "_view_name": "LayoutView",
            "grid_template_rows": null,
            "right": null,
            "justify_content": null,
            "_view_module": "@jupyter-widgets/base",
            "overflow": null,
            "_model_module_version": "1.2.0",
            "_view_count": null,
            "flex_flow": null,
            "width": null,
            "min_width": null,
            "border": null,
            "align_items": null,
            "bottom": null,
            "_model_module": "@jupyter-widgets/base",
            "top": null,
            "grid_column": null,
            "overflow_y": null,
            "overflow_x": null,
            "grid_auto_flow": null,
            "grid_area": null,
            "grid_template_columns": null,
            "flex": null,
            "_model_name": "LayoutModel",
            "justify_items": null,
            "grid_row": null,
            "max_height": null,
            "align_content": null,
            "visibility": null,
            "align_self": null,
            "height": null,
            "min_height": null,
            "padding": null,
            "grid_auto_rows": null,
            "grid_gap": null,
            "max_width": null,
            "order": null,
            "_view_module_version": "1.2.0",
            "grid_template_areas": null,
            "object_position": null,
            "object_fit": null,
            "grid_auto_columns": null,
            "margin": null,
            "display": null,
            "left": null
          }
        },
        "99634ad37d4c4c2ca88b5749ae610ee7": {
          "model_module": "@jupyter-widgets/controls",
          "model_name": "DescriptionStyleModel",
          "state": {
            "_view_name": "StyleView",
            "_model_name": "DescriptionStyleModel",
            "description_width": "",
            "_view_module": "@jupyter-widgets/base",
            "_model_module_version": "1.5.0",
            "_view_count": null,
            "_view_module_version": "1.2.0",
            "_model_module": "@jupyter-widgets/controls"
          }
        },
        "ab3ffacf07c14ecf8d5cf7a0748226b7": {
          "model_module": "@jupyter-widgets/base",
          "model_name": "LayoutModel",
          "state": {
            "_view_name": "LayoutView",
            "grid_template_rows": null,
            "right": null,
            "justify_content": null,
            "_view_module": "@jupyter-widgets/base",
            "overflow": null,
            "_model_module_version": "1.2.0",
            "_view_count": null,
            "flex_flow": null,
            "width": null,
            "min_width": null,
            "border": null,
            "align_items": null,
            "bottom": null,
            "_model_module": "@jupyter-widgets/base",
            "top": null,
            "grid_column": null,
            "overflow_y": null,
            "overflow_x": null,
            "grid_auto_flow": null,
            "grid_area": null,
            "grid_template_columns": null,
            "flex": null,
            "_model_name": "LayoutModel",
            "justify_items": null,
            "grid_row": null,
            "max_height": null,
            "align_content": null,
            "visibility": null,
            "align_self": null,
            "height": null,
            "min_height": null,
            "padding": null,
            "grid_auto_rows": null,
            "grid_gap": null,
            "max_width": null,
            "order": null,
            "_view_module_version": "1.2.0",
            "grid_template_areas": null,
            "object_position": null,
            "object_fit": null,
            "grid_auto_columns": null,
            "margin": null,
            "display": null,
            "left": null
          }
        },
        "95a45fb9b37541f1a56072bcc927d3c5": {
          "model_module": "@jupyter-widgets/controls",
          "model_name": "HBoxModel",
          "state": {
            "_view_name": "HBoxView",
            "_dom_classes": [],
            "_model_name": "HBoxModel",
            "_view_module": "@jupyter-widgets/controls",
            "_model_module_version": "1.5.0",
            "_view_count": null,
            "_view_module_version": "1.5.0",
            "box_style": "",
            "layout": "IPY_MODEL_edb45e1376f642c693aedd955f7343ba",
            "_model_module": "@jupyter-widgets/controls",
            "children": [
              "IPY_MODEL_50ef2746554842e9a0d0691cd25c88d2",
              "IPY_MODEL_9eaa6cab9aac49e5a833498556e3fe94"
            ]
          }
        },
        "edb45e1376f642c693aedd955f7343ba": {
          "model_module": "@jupyter-widgets/base",
          "model_name": "LayoutModel",
          "state": {
            "_view_name": "LayoutView",
            "grid_template_rows": null,
            "right": null,
            "justify_content": null,
            "_view_module": "@jupyter-widgets/base",
            "overflow": null,
            "_model_module_version": "1.2.0",
            "_view_count": null,
            "flex_flow": null,
            "width": null,
            "min_width": null,
            "border": null,
            "align_items": null,
            "bottom": null,
            "_model_module": "@jupyter-widgets/base",
            "top": null,
            "grid_column": null,
            "overflow_y": null,
            "overflow_x": null,
            "grid_auto_flow": null,
            "grid_area": null,
            "grid_template_columns": null,
            "flex": null,
            "_model_name": "LayoutModel",
            "justify_items": null,
            "grid_row": null,
            "max_height": null,
            "align_content": null,
            "visibility": null,
            "align_self": null,
            "height": null,
            "min_height": null,
            "padding": null,
            "grid_auto_rows": null,
            "grid_gap": null,
            "max_width": null,
            "order": null,
            "_view_module_version": "1.2.0",
            "grid_template_areas": null,
            "object_position": null,
            "object_fit": null,
            "grid_auto_columns": null,
            "margin": null,
            "display": null,
            "left": null
          }
        },
        "50ef2746554842e9a0d0691cd25c88d2": {
          "model_module": "@jupyter-widgets/controls",
          "model_name": "FloatProgressModel",
          "state": {
            "_view_name": "ProgressView",
            "style": "IPY_MODEL_8917e02c57d8409d97b2c26c3f8c18e3",
            "_dom_classes": [],
            "description": "",
            "_model_name": "FloatProgressModel",
            "bar_style": "success",
            "max": 1,
            "_view_module": "@jupyter-widgets/controls",
            "_model_module_version": "1.5.0",
            "value": 1,
            "_view_count": null,
            "_view_module_version": "1.5.0",
            "orientation": "horizontal",
            "min": 0,
            "description_tooltip": null,
            "_model_module": "@jupyter-widgets/controls",
            "layout": "IPY_MODEL_7ee72ad8f5a4468195c49163e1778886"
          }
        },
        "9eaa6cab9aac49e5a833498556e3fe94": {
          "model_module": "@jupyter-widgets/controls",
          "model_name": "HTMLModel",
          "state": {
            "_view_name": "HTMLView",
            "style": "IPY_MODEL_a90f685e6f494e19b816a54ce5abb19f",
            "_dom_classes": [],
            "description": "",
            "_model_name": "HTMLModel",
            "placeholder": "​",
            "_view_module": "@jupyter-widgets/controls",
            "_model_module_version": "1.5.0",
            "value": " 4423680/? [00:01&lt;00:00, 4346256.14it/s]",
            "_view_count": null,
            "_view_module_version": "1.5.0",
            "description_tooltip": null,
            "_model_module": "@jupyter-widgets/controls",
            "layout": "IPY_MODEL_1d1f6b00aef14739815a645eaf511823"
          }
        },
        "8917e02c57d8409d97b2c26c3f8c18e3": {
          "model_module": "@jupyter-widgets/controls",
          "model_name": "ProgressStyleModel",
          "state": {
            "_view_name": "StyleView",
            "_model_name": "ProgressStyleModel",
            "description_width": "initial",
            "_view_module": "@jupyter-widgets/base",
            "_model_module_version": "1.5.0",
            "_view_count": null,
            "_view_module_version": "1.2.0",
            "bar_color": null,
            "_model_module": "@jupyter-widgets/controls"
          }
        },
        "7ee72ad8f5a4468195c49163e1778886": {
          "model_module": "@jupyter-widgets/base",
          "model_name": "LayoutModel",
          "state": {
            "_view_name": "LayoutView",
            "grid_template_rows": null,
            "right": null,
            "justify_content": null,
            "_view_module": "@jupyter-widgets/base",
            "overflow": null,
            "_model_module_version": "1.2.0",
            "_view_count": null,
            "flex_flow": null,
            "width": null,
            "min_width": null,
            "border": null,
            "align_items": null,
            "bottom": null,
            "_model_module": "@jupyter-widgets/base",
            "top": null,
            "grid_column": null,
            "overflow_y": null,
            "overflow_x": null,
            "grid_auto_flow": null,
            "grid_area": null,
            "grid_template_columns": null,
            "flex": null,
            "_model_name": "LayoutModel",
            "justify_items": null,
            "grid_row": null,
            "max_height": null,
            "align_content": null,
            "visibility": null,
            "align_self": null,
            "height": null,
            "min_height": null,
            "padding": null,
            "grid_auto_rows": null,
            "grid_gap": null,
            "max_width": null,
            "order": null,
            "_view_module_version": "1.2.0",
            "grid_template_areas": null,
            "object_position": null,
            "object_fit": null,
            "grid_auto_columns": null,
            "margin": null,
            "display": null,
            "left": null
          }
        },
        "a90f685e6f494e19b816a54ce5abb19f": {
          "model_module": "@jupyter-widgets/controls",
          "model_name": "DescriptionStyleModel",
          "state": {
            "_view_name": "StyleView",
            "_model_name": "DescriptionStyleModel",
            "description_width": "",
            "_view_module": "@jupyter-widgets/base",
            "_model_module_version": "1.5.0",
            "_view_count": null,
            "_view_module_version": "1.2.0",
            "_model_module": "@jupyter-widgets/controls"
          }
        },
        "1d1f6b00aef14739815a645eaf511823": {
          "model_module": "@jupyter-widgets/base",
          "model_name": "LayoutModel",
          "state": {
            "_view_name": "LayoutView",
            "grid_template_rows": null,
            "right": null,
            "justify_content": null,
            "_view_module": "@jupyter-widgets/base",
            "overflow": null,
            "_model_module_version": "1.2.0",
            "_view_count": null,
            "flex_flow": null,
            "width": null,
            "min_width": null,
            "border": null,
            "align_items": null,
            "bottom": null,
            "_model_module": "@jupyter-widgets/base",
            "top": null,
            "grid_column": null,
            "overflow_y": null,
            "overflow_x": null,
            "grid_auto_flow": null,
            "grid_area": null,
            "grid_template_columns": null,
            "flex": null,
            "_model_name": "LayoutModel",
            "justify_items": null,
            "grid_row": null,
            "max_height": null,
            "align_content": null,
            "visibility": null,
            "align_self": null,
            "height": null,
            "min_height": null,
            "padding": null,
            "grid_auto_rows": null,
            "grid_gap": null,
            "max_width": null,
            "order": null,
            "_view_module_version": "1.2.0",
            "grid_template_areas": null,
            "object_position": null,
            "object_fit": null,
            "grid_auto_columns": null,
            "margin": null,
            "display": null,
            "left": null
          }
        },
        "aa1921163a424da3994d7ce306117c91": {
          "model_module": "@jupyter-widgets/controls",
          "model_name": "HBoxModel",
          "state": {
            "_view_name": "HBoxView",
            "_dom_classes": [],
            "_model_name": "HBoxModel",
            "_view_module": "@jupyter-widgets/controls",
            "_model_module_version": "1.5.0",
            "_view_count": null,
            "_view_module_version": "1.5.0",
            "box_style": "",
            "layout": "IPY_MODEL_0460fe428ffd4c939c35bfccec54b2a6",
            "_model_module": "@jupyter-widgets/controls",
            "children": [
              "IPY_MODEL_1df4a1210cf84753b120eaa4d8d4fcc2",
              "IPY_MODEL_a5912ecbcd764cc5b77ce26535d02bb0"
            ]
          }
        },
        "0460fe428ffd4c939c35bfccec54b2a6": {
          "model_module": "@jupyter-widgets/base",
          "model_name": "LayoutModel",
          "state": {
            "_view_name": "LayoutView",
            "grid_template_rows": null,
            "right": null,
            "justify_content": null,
            "_view_module": "@jupyter-widgets/base",
            "overflow": null,
            "_model_module_version": "1.2.0",
            "_view_count": null,
            "flex_flow": null,
            "width": null,
            "min_width": null,
            "border": null,
            "align_items": null,
            "bottom": null,
            "_model_module": "@jupyter-widgets/base",
            "top": null,
            "grid_column": null,
            "overflow_y": null,
            "overflow_x": null,
            "grid_auto_flow": null,
            "grid_area": null,
            "grid_template_columns": null,
            "flex": null,
            "_model_name": "LayoutModel",
            "justify_items": null,
            "grid_row": null,
            "max_height": null,
            "align_content": null,
            "visibility": null,
            "align_self": null,
            "height": null,
            "min_height": null,
            "padding": null,
            "grid_auto_rows": null,
            "grid_gap": null,
            "max_width": null,
            "order": null,
            "_view_module_version": "1.2.0",
            "grid_template_areas": null,
            "object_position": null,
            "object_fit": null,
            "grid_auto_columns": null,
            "margin": null,
            "display": null,
            "left": null
          }
        },
        "1df4a1210cf84753b120eaa4d8d4fcc2": {
          "model_module": "@jupyter-widgets/controls",
          "model_name": "FloatProgressModel",
          "state": {
            "_view_name": "ProgressView",
            "style": "IPY_MODEL_3d6fae03e8ab47b2a62a2ded6bc74e0c",
            "_dom_classes": [],
            "description": "  0%",
            "_model_name": "FloatProgressModel",
            "bar_style": "info",
            "max": 1,
            "_view_module": "@jupyter-widgets/controls",
            "_model_module_version": "1.5.0",
            "value": 0,
            "_view_count": null,
            "_view_module_version": "1.5.0",
            "orientation": "horizontal",
            "min": 0,
            "description_tooltip": null,
            "_model_module": "@jupyter-widgets/controls",
            "layout": "IPY_MODEL_a8e3dc853f7f4b69ac4eb38c33858db1"
          }
        },
        "a5912ecbcd764cc5b77ce26535d02bb0": {
          "model_module": "@jupyter-widgets/controls",
          "model_name": "HTMLModel",
          "state": {
            "_view_name": "HTMLView",
            "style": "IPY_MODEL_706be5a49c30445d88160aa03cc11aee",
            "_dom_classes": [],
            "description": "",
            "_model_name": "HTMLModel",
            "placeholder": "​",
            "_view_module": "@jupyter-widgets/controls",
            "_model_module_version": "1.5.0",
            "value": " 0/5148 [00:00&lt;?, ?it/s]",
            "_view_count": null,
            "_view_module_version": "1.5.0",
            "description_tooltip": null,
            "_model_module": "@jupyter-widgets/controls",
            "layout": "IPY_MODEL_7dc8318edeb447b4840b7452dbe0bc46"
          }
        },
        "3d6fae03e8ab47b2a62a2ded6bc74e0c": {
          "model_module": "@jupyter-widgets/controls",
          "model_name": "ProgressStyleModel",
          "state": {
            "_view_name": "StyleView",
            "_model_name": "ProgressStyleModel",
            "description_width": "initial",
            "_view_module": "@jupyter-widgets/base",
            "_model_module_version": "1.5.0",
            "_view_count": null,
            "_view_module_version": "1.2.0",
            "bar_color": null,
            "_model_module": "@jupyter-widgets/controls"
          }
        },
        "a8e3dc853f7f4b69ac4eb38c33858db1": {
          "model_module": "@jupyter-widgets/base",
          "model_name": "LayoutModel",
          "state": {
            "_view_name": "LayoutView",
            "grid_template_rows": null,
            "right": null,
            "justify_content": null,
            "_view_module": "@jupyter-widgets/base",
            "overflow": null,
            "_model_module_version": "1.2.0",
            "_view_count": null,
            "flex_flow": null,
            "width": null,
            "min_width": null,
            "border": null,
            "align_items": null,
            "bottom": null,
            "_model_module": "@jupyter-widgets/base",
            "top": null,
            "grid_column": null,
            "overflow_y": null,
            "overflow_x": null,
            "grid_auto_flow": null,
            "grid_area": null,
            "grid_template_columns": null,
            "flex": null,
            "_model_name": "LayoutModel",
            "justify_items": null,
            "grid_row": null,
            "max_height": null,
            "align_content": null,
            "visibility": null,
            "align_self": null,
            "height": null,
            "min_height": null,
            "padding": null,
            "grid_auto_rows": null,
            "grid_gap": null,
            "max_width": null,
            "order": null,
            "_view_module_version": "1.2.0",
            "grid_template_areas": null,
            "object_position": null,
            "object_fit": null,
            "grid_auto_columns": null,
            "margin": null,
            "display": null,
            "left": null
          }
        },
        "706be5a49c30445d88160aa03cc11aee": {
          "model_module": "@jupyter-widgets/controls",
          "model_name": "DescriptionStyleModel",
          "state": {
            "_view_name": "StyleView",
            "_model_name": "DescriptionStyleModel",
            "description_width": "",
            "_view_module": "@jupyter-widgets/base",
            "_model_module_version": "1.5.0",
            "_view_count": null,
            "_view_module_version": "1.2.0",
            "_model_module": "@jupyter-widgets/controls"
          }
        },
        "7dc8318edeb447b4840b7452dbe0bc46": {
          "model_module": "@jupyter-widgets/base",
          "model_name": "LayoutModel",
          "state": {
            "_view_name": "LayoutView",
            "grid_template_rows": null,
            "right": null,
            "justify_content": null,
            "_view_module": "@jupyter-widgets/base",
            "overflow": null,
            "_model_module_version": "1.2.0",
            "_view_count": null,
            "flex_flow": null,
            "width": null,
            "min_width": null,
            "border": null,
            "align_items": null,
            "bottom": null,
            "_model_module": "@jupyter-widgets/base",
            "top": null,
            "grid_column": null,
            "overflow_y": null,
            "overflow_x": null,
            "grid_auto_flow": null,
            "grid_area": null,
            "grid_template_columns": null,
            "flex": null,
            "_model_name": "LayoutModel",
            "justify_items": null,
            "grid_row": null,
            "max_height": null,
            "align_content": null,
            "visibility": null,
            "align_self": null,
            "height": null,
            "min_height": null,
            "padding": null,
            "grid_auto_rows": null,
            "grid_gap": null,
            "max_width": null,
            "order": null,
            "_view_module_version": "1.2.0",
            "grid_template_areas": null,
            "object_position": null,
            "object_fit": null,
            "grid_auto_columns": null,
            "margin": null,
            "display": null,
            "left": null
          }
        }
      }
    }
  },
  "cells": [
    {
      "cell_type": "markdown",
      "metadata": {
        "id": "RUF68Fc70QVm"
      },
      "source": [
        "## Семинар 7 - Нейросети"
      ]
    },
    {
      "cell_type": "code",
      "metadata": {
        "id": "c2k0b73c-H6W",
        "colab": {
          "base_uri": "https://localhost:8080/"
        },
        "outputId": "849a3a9f-b589-4a5f-b819-dac3e0790e7c"
      },
      "source": [
        "!pip install torch torchvision"
      ],
      "execution_count": null,
      "outputs": [
        {
          "output_type": "stream",
          "text": [
            "Requirement already satisfied: torch in /usr/local/lib/python3.6/dist-packages (1.7.0+cu101)\n",
            "Requirement already satisfied: torchvision in /usr/local/lib/python3.6/dist-packages (0.8.1+cu101)\n",
            "Requirement already satisfied: dataclasses in /usr/local/lib/python3.6/dist-packages (from torch) (0.7)\n",
            "Requirement already satisfied: typing-extensions in /usr/local/lib/python3.6/dist-packages (from torch) (3.7.4.3)\n",
            "Requirement already satisfied: future in /usr/local/lib/python3.6/dist-packages (from torch) (0.16.0)\n",
            "Requirement already satisfied: numpy in /usr/local/lib/python3.6/dist-packages (from torch) (1.18.5)\n",
            "Requirement already satisfied: pillow>=4.1.1 in /usr/local/lib/python3.6/dist-packages (from torchvision) (7.0.0)\n"
          ],
          "name": "stdout"
        }
      ]
    },
    {
      "cell_type": "code",
      "metadata": {
        "ExecuteTime": {
          "end_time": "2020-02-28T00:59:42.103233Z",
          "start_time": "2020-02-28T00:59:42.099338Z"
        },
        "id": "bX7WKpm20QVp",
        "colab": {
          "base_uri": "https://localhost:8080/"
        },
        "outputId": "4580e3c6-b055-4593-8656-4edc2e91bc57"
      },
      "source": [
        "import pandas as pd\n",
        "import numpy as np\n",
        "from sklearn.metrics import accuracy_score\n",
        "import numpy as np\n",
        "import pandas as pd\n",
        "import matplotlib.pyplot as plt\n",
        "import matplotlib.pyplot as plt\n",
        "from tqdm import tqdm\n",
        "import warnings\n",
        "# warnings.simplefilter('ignore')\n",
        "import torch\n",
        "from torch.utils.data import DataLoader, Dataset, Subset\n",
        "import torchvision\n",
        "from torchvision import transforms\n",
        "from matplotlib import pyplot as plt\n",
        "import numpy as np\n",
        "from sklearn import datasets\n",
        "from sklearn.model_selection import train_test_split\n",
        "import torch\n",
        "print(torch.__version__)"
      ],
      "execution_count": null,
      "outputs": [
        {
          "output_type": "stream",
          "text": [
            "1.7.0+cu101\n"
          ],
          "name": "stdout"
        }
      ]
    },
    {
      "cell_type": "markdown",
      "metadata": {
        "id": "kb0b0s_tw0ft"
      },
      "source": [
        "# 1. Вспомним PyTorch\n",
        "\n",
        "Эта часть основана на материалах курса [dlschool](https://www.dlschool.org/)"
      ]
    },
    {
      "cell_type": "markdown",
      "metadata": {
        "id": "3F-2IcFB0QVu"
      },
      "source": [
        "Нахождение сложной производной\n",
        "\n",
        "Найдите производную по x от функции \n",
        "$$\\sin\\left(\\tan(x)\\frac{x^2}{y} + \\ln(e^{-x^2 + 3}+x^3y)\\right)\\tan(x^2e^{x^9})$$\n",
        "\n",
        "При этом надо пользоваться встроенным в PyTorch autograd. Численное вычисление производной может не дать нужный результат."
      ]
    },
    {
      "cell_type": "code",
      "metadata": {
        "ExecuteTime": {
          "end_time": "2020-02-28T00:13:20.890514Z",
          "start_time": "2020-02-28T00:13:20.639022Z"
        },
        "id": "dicy-gHI0QVu"
      },
      "source": [
        "def find_x_derivative(x, y):\n",
        "    # Ваш код здесь\n",
        "    x = torch.tensor([x], dtype=float, requires_grad=True)\n",
        "    y = torch.tensor([y], dtype=float, requires_grad=True)\n",
        "    z = (x.tan()*x*x/y + ((-x*x+3).exp()+y*x**3).log()).sin()*((x**9).exp()*x*x).tan()\n",
        "    z.backward()\n",
        "    return x.grad"
      ],
      "execution_count": null,
      "outputs": []
    },
    {
      "cell_type": "code",
      "metadata": {
        "id": "bDUuuezl4Ant",
        "colab": {
          "base_uri": "https://localhost:8080/"
        },
        "outputId": "6f708623-db5c-42fc-cd99-9e95d49c40fa"
      },
      "source": [
        "find_x_derivative(1,21)"
      ],
      "execution_count": null,
      "outputs": [
        {
          "output_type": "execute_result",
          "data": {
            "text/plain": [
              "tensor([-9.0207], dtype=torch.float64)"
            ]
          },
          "metadata": {
            "tags": []
          },
          "execution_count": 5
        }
      ]
    },
    {
      "cell_type": "markdown",
      "metadata": {
        "id": "DMhDjJq64GT9"
      },
      "source": [
        "Нахождение косинусной близости\n",
        "\n",
        "Вам даны две матрицы A и B. Необходимо посчитать косинусную близость между строчками матрицы A и столбцами матрицы B. Ответ - матрица чисел, где номер строки - номер строки из матрицы А, а номер столбца - номер столбца из В, от которых бралась косинусная близость.\n",
        "\n",
        "Напомним, что косинусная близость двух векторов - косинус угла между ними. В n-мерном пространстве косинус угла между веткорами удобнее всего через скалярное произведение:\n",
        "$$\\cos(angle(x, y)) = \\frac{x \\cdot y}{\\left\\|x\\right\\| \\left\\|y\\right\\|}$$\n"
      ]
    },
    {
      "cell_type": "code",
      "metadata": {
        "id": "0OEhIEkJ4Fqo"
      },
      "source": [
        "def get_cos_sim(A, B):\n",
        "    \"\"\"\n",
        "        A, B - torch float tensors\n",
        "    \"\"\"\n",
        "    # Ваш код здесь\n",
        "    A = torch.tensor(A, dtype = torch.float)\n",
        "    B = torch.tensor(B, dtype = torch.float)\n",
        "\n",
        "    res = A @ B / (torch.norm(A, dim=1, keepdim=True) @ torch.norm(B, dim=0, keepdim=True))\n",
        "    \n",
        "    return res"
      ],
      "execution_count": null,
      "outputs": []
    },
    {
      "cell_type": "code",
      "metadata": {
        "id": "7owb36PL4G1S"
      },
      "source": [
        "A = [[1, -47, 25, -3], [10, 17, -15, 22], [-3, -7, 26, 36], [12, -27, -42, 0]]\n",
        "B = [[-50, -13, 1, 10, 1242], [21, 48, -13, -14, -20], [20, 15, 11, 43, 11], [11, 103, 147, 27, -8]]"
      ],
      "execution_count": null,
      "outputs": []
    },
    {
      "cell_type": "code",
      "metadata": {
        "id": "NBv88nsc4aqW",
        "colab": {
          "base_uri": "https://localhost:8080/"
        },
        "outputId": "c5be0b68-b61e-4d26-c909-1ee5b6a13e39"
      },
      "source": [
        "torch.mean(get_cos_sim(A, B))"
      ],
      "execution_count": null,
      "outputs": [
        {
          "output_type": "execute_result",
          "data": {
            "text/plain": [
              "tensor(0.1498)"
            ]
          },
          "metadata": {
            "tags": []
          },
          "execution_count": 8
        }
      ]
    },
    {
      "cell_type": "markdown",
      "metadata": {
        "id": "E4WixrwoouOI"
      },
      "source": [
        "# Практика: Погружение в глубокое обучение\n",
        "В семинаре, будем использовать набор данных `fashion_mnist`, загрузим их"
      ]
    },
    {
      "cell_type": "code",
      "metadata": {
        "id": "817LGj2touOJ"
      },
      "source": [
        "from torchvision import datasets,transforms"
      ],
      "execution_count": null,
      "outputs": []
    },
    {
      "cell_type": "code",
      "metadata": {
        "id": "_1yTnOKlouON",
        "colab": {
          "base_uri": "https://localhost:8080/",
          "height": 403,
          "referenced_widgets": [
            "2e4fff55c29d4d219184cbc9438ca8af",
            "ce75162788714f5e8bca3b86c04e5ae5",
            "146e6354fc034d9693bc07c334dde94a",
            "10d30d38796f493da66be8c94c4abfde",
            "03cd1ce026ae4e7dbae6250eaea7c360",
            "3e7f8cdcd3524719bd7a236115ddddf2",
            "2caec85a2c1642ba8ce9b254e77008af",
            "4502947959b3427e8faaeb109d7e56e9",
            "58371597d0554addb400b8e435767558",
            "b2a4044ed02b408887800e200e5a0ab7",
            "7aed86f1182b4fd8bfd1326f0c8b960a",
            "6497bad4645b4330b6d5131bd8651586",
            "9e0085c2fd834e17b752b04c750c821f",
            "d1cf08bd8830434cbe14879bd6e5ee76",
            "99634ad37d4c4c2ca88b5749ae610ee7",
            "ab3ffacf07c14ecf8d5cf7a0748226b7",
            "95a45fb9b37541f1a56072bcc927d3c5",
            "edb45e1376f642c693aedd955f7343ba",
            "50ef2746554842e9a0d0691cd25c88d2",
            "9eaa6cab9aac49e5a833498556e3fe94",
            "8917e02c57d8409d97b2c26c3f8c18e3",
            "7ee72ad8f5a4468195c49163e1778886",
            "a90f685e6f494e19b816a54ce5abb19f",
            "1d1f6b00aef14739815a645eaf511823",
            "aa1921163a424da3994d7ce306117c91",
            "0460fe428ffd4c939c35bfccec54b2a6",
            "1df4a1210cf84753b120eaa4d8d4fcc2",
            "a5912ecbcd764cc5b77ce26535d02bb0",
            "3d6fae03e8ab47b2a62a2ded6bc74e0c",
            "a8e3dc853f7f4b69ac4eb38c33858db1",
            "706be5a49c30445d88160aa03cc11aee",
            "7dc8318edeb447b4840b7452dbe0bc46"
          ]
        },
        "outputId": "850afc23-de14-45e6-f6cb-a4d06fcdb9e2"
      },
      "source": [
        "trainset = datasets.FashionMNIST('~/.pytorch/F_MNIST_data/', train = True, download=True)"
      ],
      "execution_count": null,
      "outputs": [
        {
          "output_type": "stream",
          "text": [
            "Downloading http://fashion-mnist.s3-website.eu-central-1.amazonaws.com/train-images-idx3-ubyte.gz to /root/.pytorch/F_MNIST_data/FashionMNIST/raw/train-images-idx3-ubyte.gz\n"
          ],
          "name": "stdout"
        },
        {
          "output_type": "display_data",
          "data": {
            "application/vnd.jupyter.widget-view+json": {
              "model_id": "2e4fff55c29d4d219184cbc9438ca8af",
              "version_minor": 0,
              "version_major": 2
            },
            "text/plain": [
              "HBox(children=(FloatProgress(value=1.0, bar_style='info', max=1.0), HTML(value='')))"
            ]
          },
          "metadata": {
            "tags": []
          }
        },
        {
          "output_type": "stream",
          "text": [
            "Extracting /root/.pytorch/F_MNIST_data/FashionMNIST/raw/train-images-idx3-ubyte.gz to /root/.pytorch/F_MNIST_data/FashionMNIST/raw\n",
            "Downloading http://fashion-mnist.s3-website.eu-central-1.amazonaws.com/train-labels-idx1-ubyte.gz to /root/.pytorch/F_MNIST_data/FashionMNIST/raw/train-labels-idx1-ubyte.gz\n"
          ],
          "name": "stdout"
        },
        {
          "output_type": "display_data",
          "data": {
            "application/vnd.jupyter.widget-view+json": {
              "model_id": "58371597d0554addb400b8e435767558",
              "version_minor": 0,
              "version_major": 2
            },
            "text/plain": [
              "HBox(children=(FloatProgress(value=1.0, bar_style='info', max=1.0), HTML(value='')))"
            ]
          },
          "metadata": {
            "tags": []
          }
        },
        {
          "output_type": "stream",
          "text": [
            "Extracting /root/.pytorch/F_MNIST_data/FashionMNIST/raw/train-labels-idx1-ubyte.gz to /root/.pytorch/F_MNIST_data/FashionMNIST/raw\n",
            "Downloading http://fashion-mnist.s3-website.eu-central-1.amazonaws.com/t10k-images-idx3-ubyte.gz to /root/.pytorch/F_MNIST_data/FashionMNIST/raw/t10k-images-idx3-ubyte.gz\n"
          ],
          "name": "stdout"
        },
        {
          "output_type": "display_data",
          "data": {
            "application/vnd.jupyter.widget-view+json": {
              "model_id": "95a45fb9b37541f1a56072bcc927d3c5",
              "version_minor": 0,
              "version_major": 2
            },
            "text/plain": [
              "HBox(children=(FloatProgress(value=1.0, bar_style='info', max=1.0), HTML(value='')))"
            ]
          },
          "metadata": {
            "tags": []
          }
        },
        {
          "output_type": "stream",
          "text": [
            "Extracting /root/.pytorch/F_MNIST_data/FashionMNIST/raw/t10k-images-idx3-ubyte.gz to /root/.pytorch/F_MNIST_data/FashionMNIST/raw\n",
            "Downloading http://fashion-mnist.s3-website.eu-central-1.amazonaws.com/t10k-labels-idx1-ubyte.gz to /root/.pytorch/F_MNIST_data/FashionMNIST/raw/t10k-labels-idx1-ubyte.gz\n",
            "\n",
            "\n"
          ],
          "name": "stdout"
        },
        {
          "output_type": "display_data",
          "data": {
            "application/vnd.jupyter.widget-view+json": {
              "model_id": "aa1921163a424da3994d7ce306117c91",
              "version_minor": 0,
              "version_major": 2
            },
            "text/plain": [
              "HBox(children=(FloatProgress(value=1.0, bar_style='info', max=1.0), HTML(value='')))"
            ]
          },
          "metadata": {
            "tags": []
          }
        },
        {
          "output_type": "stream",
          "text": [
            "Extracting /root/.pytorch/F_MNIST_data/FashionMNIST/raw/t10k-labels-idx1-ubyte.gz to /root/.pytorch/F_MNIST_data/FashionMNIST/raw\n",
            "Processing...\n",
            "Done!\n"
          ],
          "name": "stdout"
        },
        {
          "output_type": "stream",
          "text": [
            "/usr/local/lib/python3.6/dist-packages/torchvision/datasets/mnist.py:480: UserWarning: The given NumPy array is not writeable, and PyTorch does not support non-writeable tensors. This means you can write to the underlying (supposedly non-writeable) NumPy array using the tensor. You may want to copy the array to protect its data or make it writeable before converting it to a tensor. This type of warning will be suppressed for the rest of this program. (Triggered internally at  /pytorch/torch/csrc/utils/tensor_numpy.cpp:141.)\n",
            "  return torch.from_numpy(parsed.astype(m[2], copy=False)).view(*s)\n"
          ],
          "name": "stderr"
        }
      ]
    },
    {
      "cell_type": "code",
      "metadata": {
        "id": "5Y_gHUUaouOQ"
      },
      "source": [
        "testset = datasets.FashionMNIST('~/.pytorch/F_MNIST_data/', train = False, download = True)"
      ],
      "execution_count": null,
      "outputs": []
    },
    {
      "cell_type": "code",
      "metadata": {
        "id": "M-yhD9MIouOT"
      },
      "source": [
        "num_classes = len(trainset.classes)"
      ],
      "execution_count": null,
      "outputs": []
    },
    {
      "cell_type": "code",
      "metadata": {
        "id": "IwATUm42gW3I",
        "colab": {
          "base_uri": "https://localhost:8080/"
        },
        "outputId": "d9be371d-c275-49bd-ac0b-403034a7933d"
      },
      "source": [
        "trainset.classes"
      ],
      "execution_count": null,
      "outputs": [
        {
          "output_type": "execute_result",
          "data": {
            "text/plain": [
              "['T-shirt/top',\n",
              " 'Trouser',\n",
              " 'Pullover',\n",
              " 'Dress',\n",
              " 'Coat',\n",
              " 'Sandal',\n",
              " 'Shirt',\n",
              " 'Sneaker',\n",
              " 'Bag',\n",
              " 'Ankle boot']"
            ]
          },
          "metadata": {
            "tags": []
          },
          "execution_count": 13
        }
      ]
    },
    {
      "cell_type": "code",
      "metadata": {
        "id": "tw3moMZ4ouOW",
        "colab": {
          "base_uri": "https://localhost:8080/"
        },
        "outputId": "26a72f4b-ffcf-4fdf-9c32-8e65716fc608"
      },
      "source": [
        "x_train = trainset.train_data\n",
        "y_train = trainset.train_labels\n",
        "\n",
        "x_test = testset.train_data\n",
        "y_test = testset.train_labels"
      ],
      "execution_count": null,
      "outputs": [
        {
          "output_type": "stream",
          "text": [
            "/usr/local/lib/python3.6/dist-packages/torchvision/datasets/mnist.py:58: UserWarning: train_data has been renamed data\n",
            "  warnings.warn(\"train_data has been renamed data\")\n",
            "/usr/local/lib/python3.6/dist-packages/torchvision/datasets/mnist.py:48: UserWarning: train_labels has been renamed targets\n",
            "  warnings.warn(\"train_labels has been renamed targets\")\n"
          ],
          "name": "stderr"
        }
      ]
    },
    {
      "cell_type": "code",
      "metadata": {
        "id": "ydrltpE936w_",
        "colab": {
          "base_uri": "https://localhost:8080/"
        },
        "outputId": "1e543492-5bd5-4b17-de74-a5f6dde439e9"
      },
      "source": [
        "x_test"
      ],
      "execution_count": null,
      "outputs": [
        {
          "output_type": "execute_result",
          "data": {
            "text/plain": [
              "tensor([[[0, 0, 0,  ..., 0, 0, 0],\n",
              "         [0, 0, 0,  ..., 0, 0, 0],\n",
              "         [0, 0, 0,  ..., 0, 0, 0],\n",
              "         ...,\n",
              "         [0, 0, 0,  ..., 0, 0, 0],\n",
              "         [0, 0, 0,  ..., 0, 0, 0],\n",
              "         [0, 0, 0,  ..., 0, 0, 0]],\n",
              "\n",
              "        [[0, 0, 0,  ..., 0, 0, 0],\n",
              "         [0, 0, 0,  ..., 0, 0, 0],\n",
              "         [0, 0, 0,  ..., 0, 0, 0],\n",
              "         ...,\n",
              "         [0, 0, 0,  ..., 0, 0, 0],\n",
              "         [0, 0, 0,  ..., 0, 0, 0],\n",
              "         [0, 0, 0,  ..., 0, 0, 0]],\n",
              "\n",
              "        [[0, 0, 0,  ..., 0, 0, 0],\n",
              "         [0, 0, 0,  ..., 0, 0, 0],\n",
              "         [0, 0, 0,  ..., 0, 0, 0],\n",
              "         ...,\n",
              "         [0, 0, 0,  ..., 0, 0, 0],\n",
              "         [0, 0, 0,  ..., 0, 0, 0],\n",
              "         [0, 0, 0,  ..., 0, 0, 0]],\n",
              "\n",
              "        ...,\n",
              "\n",
              "        [[0, 0, 0,  ..., 0, 0, 0],\n",
              "         [0, 0, 0,  ..., 0, 0, 0],\n",
              "         [0, 0, 0,  ..., 0, 0, 0],\n",
              "         ...,\n",
              "         [0, 0, 0,  ..., 0, 0, 0],\n",
              "         [0, 0, 0,  ..., 0, 0, 0],\n",
              "         [0, 0, 0,  ..., 0, 0, 0]],\n",
              "\n",
              "        [[0, 0, 0,  ..., 0, 0, 0],\n",
              "         [0, 0, 0,  ..., 0, 0, 0],\n",
              "         [0, 0, 0,  ..., 0, 0, 0],\n",
              "         ...,\n",
              "         [0, 0, 0,  ..., 0, 0, 0],\n",
              "         [0, 0, 0,  ..., 0, 0, 0],\n",
              "         [0, 0, 0,  ..., 0, 0, 0]],\n",
              "\n",
              "        [[0, 0, 0,  ..., 0, 0, 0],\n",
              "         [0, 0, 0,  ..., 0, 0, 0],\n",
              "         [0, 0, 0,  ..., 0, 0, 0],\n",
              "         ...,\n",
              "         [0, 0, 0,  ..., 0, 0, 0],\n",
              "         [0, 0, 0,  ..., 0, 0, 0],\n",
              "         [0, 0, 0,  ..., 0, 0, 0]]], dtype=torch.uint8)"
            ]
          },
          "metadata": {
            "tags": []
          },
          "execution_count": 16
        }
      ]
    },
    {
      "cell_type": "code",
      "metadata": {
        "id": "9BOoVSZBouOZ",
        "colab": {
          "base_uri": "https://localhost:8080/",
          "height": 322
        },
        "outputId": "27deba46-d044-4cbf-f9ae-9449e46c545f"
      },
      "source": [
        "fig = plt.figure(figsize=(15,5))\n",
        "for i in range(num_classes):\n",
        "    ax = fig.add_subplot(2, 5, 1 + i, xticks=[], yticks=[])\n",
        "    idx = np.where(y_train[:]==i)[0]\n",
        "    features_idx = x_train[idx,::]\n",
        "    img_num = np.random.randint(features_idx.shape[0])\n",
        "    im = features_idx[img_num]\n",
        "    ax.set_title(trainset.classes[i])\n",
        "    plt.imshow(im, cmap='gray_r')\n",
        "plt.show()"
      ],
      "execution_count": null,
      "outputs": [
        {
          "output_type": "display_data",
          "data": {
            "image/png": "[encoded data removed]",
            "text/plain": [
              "<Figure size 1080x360 with 10 Axes>"
            ]
          },
          "metadata": {
            "tags": []
          }
        }
      ]
    },
    {
      "cell_type": "markdown",
      "metadata": {
        "id": "XEwx6Wp4ouOc"
      },
      "source": [
        "### Проведем небольшие предобработки"
      ]
    },
    {
      "cell_type": "code",
      "metadata": {
        "id": "d1swzXaqouOc",
        "colab": {
          "base_uri": "https://localhost:8080/"
        },
        "outputId": "2c85cfa6-03de-444b-a812-0713beb2304f"
      },
      "source": [
        "x_train_flat = x_train.flatten(start_dim=1).float()\n",
        "x_test_flat = x_test.flatten(start_dim=1).float()\n",
        "print(f'Была размерность: {x_train.shape}, стала: {x_train_flat.shape}')\n",
        "print(f'Была размерность: {x_test.shape}, стала: {x_test_flat.shape}')"
      ],
      "execution_count": null,
      "outputs": [
        {
          "output_type": "stream",
          "text": [
            "Была размерность: torch.Size([60000, 28, 28]), стала: torch.Size([60000, 784])\n",
            "Была размерность: torch.Size([10000, 28, 28]), стала: torch.Size([10000, 784])\n"
          ],
          "name": "stdout"
        }
      ]
    },
    {
      "cell_type": "code",
      "metadata": {
        "id": "2eXoS2gMouOf"
      },
      "source": [
        "D_out =  num_classes# Ваш код здесь\n",
        "D_in = x_train_flat.shape[1]"
      ],
      "execution_count": null,
      "outputs": []
    },
    {
      "cell_type": "code",
      "metadata": {
        "id": "9C-YR6PGouOh"
      },
      "source": [
        "model = torch.nn.Sequential(\n",
        "    torch.nn.Linear(D_in, 128),\n",
        "    torch.nn.Sigmoid(),\n",
        "    torch.nn.Linear(128, 10),\n",
        "    torch.nn.Sigmoid(),\n",
        "    torch.nn.Linear(10, D_out),\n",
        "    torch.nn.Softmax(dim=1)\n",
        ")"
      ],
      "execution_count": null,
      "outputs": []
    },
    {
      "cell_type": "code",
      "metadata": {
        "id": "3Uv5d7YFouOp"
      },
      "source": [
        "class Model(torch.nn.Module):\n",
        "    def __init__(self):\n",
        "        super(Model, self).__init__()\n",
        "        self.fc1 = torch.nn.Linear(D_in, 128)\n",
        "        self.act1 = torch.nn.Sigmoid()\n",
        "        self.fc2 = torch.nn.Linear(128, 10)\n",
        "        self.act2 = torch.nn.Sigmoid()\n",
        "        self.fc3 = torch.nn.Linear(10, D_out)\n",
        "        self.act3 = torch.nn.Softmax(dim=1)\n",
        "\n",
        "    def forward(self, x):\n",
        "        x = self.act1(self.fc1(x))\n",
        "        x = self.fc2(x)\n",
        "        x = self.act2(x)\n",
        "        x = self.fc3(x)\n",
        "        x = self.act3(x)\n",
        "        return x\n",
        "\n",
        "model = Model()"
      ],
      "execution_count": null,
      "outputs": []
    },
    {
      "cell_type": "code",
      "metadata": {
        "id": "IL0biu-EouOr",
        "colab": {
          "base_uri": "https://localhost:8080/"
        },
        "outputId": "1e0ad559-3852-488d-ef25-12da363102d0"
      },
      "source": [
        "model"
      ],
      "execution_count": null,
      "outputs": [
        {
          "output_type": "execute_result",
          "data": {
            "text/plain": [
              "Model(\n",
              "  (fc1): Linear(in_features=784, out_features=128, bias=True)\n",
              "  (act1): Sigmoid()\n",
              "  (fc2): Linear(in_features=128, out_features=10, bias=True)\n",
              "  (act2): Sigmoid()\n",
              "  (fc3): Linear(in_features=10, out_features=10, bias=True)\n",
              "  (act3): Softmax(dim=1)\n",
              ")"
            ]
          },
          "metadata": {
            "tags": []
          },
          "execution_count": 23
        }
      ]
    },
    {
      "cell_type": "code",
      "metadata": {
        "id": "X1JmI-2fouOu"
      },
      "source": [
        "# Forward pass: compute predicted y by passing x to the model. Module objects\n",
        "# override the __call__ operator so you can call them like functions. When\n",
        "# doing so you pass a Tensor of input data to the Module and it produces\n",
        "# a Tensor of output data.\n",
        "y_pred = model(x_train_flat)"
      ],
      "execution_count": null,
      "outputs": []
    },
    {
      "cell_type": "code",
      "metadata": {
        "id": "aJtuDQ6sjvea",
        "colab": {
          "base_uri": "https://localhost:8080/"
        },
        "outputId": "fda30180-7d56-44dd-ee49-4d5c2fe929ca"
      },
      "source": [
        "y_pred.shape"
      ],
      "execution_count": null,
      "outputs": [
        {
          "output_type": "execute_result",
          "data": {
            "text/plain": [
              "torch.Size([60000, 10])"
            ]
          },
          "metadata": {
            "tags": []
          },
          "execution_count": 25
        }
      ]
    },
    {
      "cell_type": "code",
      "metadata": {
        "id": "c5JD6xWqouOw"
      },
      "source": [
        "loss_fn = torch.nn.CrossEntropyLoss()"
      ],
      "execution_count": null,
      "outputs": []
    },
    {
      "cell_type": "code",
      "metadata": {
        "id": "KWHhi6hTiVOB"
      },
      "source": [
        "# Compute and print loss. We pass Tensors containing the predicted and true\n",
        "# values of y, and the loss function returns a Tensor containing the\n",
        "# loss.\n",
        "loss_old = loss_fn(y_pred, y_train)"
      ],
      "execution_count": null,
      "outputs": []
    },
    {
      "cell_type": "code",
      "metadata": {
        "id": "zTU0UUM56ii6",
        "colab": {
          "base_uri": "https://localhost:8080/"
        },
        "outputId": "078843ff-a55a-45eb-8e01-f27b76c8cc7a"
      },
      "source": [
        "loss_old"
      ],
      "execution_count": null,
      "outputs": [
        {
          "output_type": "execute_result",
          "data": {
            "text/plain": [
              "tensor(2.3040, grad_fn=<NllLossBackward>)"
            ]
          },
          "metadata": {
            "tags": []
          },
          "execution_count": 28
        }
      ]
    },
    {
      "cell_type": "code",
      "metadata": {
        "id": "bK5o-0gNihzV"
      },
      "source": [
        "acc_old = accuracy_score(y_train.numpy(), y_pred.argmax(dim=1).numpy())"
      ],
      "execution_count": null,
      "outputs": []
    },
    {
      "cell_type": "code",
      "metadata": {
        "id": "iWwixxeJ7ckE",
        "colab": {
          "base_uri": "https://localhost:8080/"
        },
        "outputId": "595fc2d9-cac6-4911-b412-3ce0e6a4fd0f"
      },
      "source": [
        "acc_old"
      ],
      "execution_count": null,
      "outputs": [
        {
          "output_type": "execute_result",
          "data": {
            "text/plain": [
              "0.1"
            ]
          },
          "metadata": {
            "tags": []
          },
          "execution_count": 33
        }
      ]
    },
    {
      "cell_type": "code",
      "metadata": {
        "id": "KM8oRGwlih2f"
      },
      "source": [
        "# Zero the gradients before running the backward pass.\n",
        "model.zero_grad()"
      ],
      "execution_count": null,
      "outputs": []
    },
    {
      "cell_type": "code",
      "metadata": {
        "id": "4DqxPMqRih5L"
      },
      "source": [
        "# Backward pass: compute gradient of the loss with respect to all the learnable\n",
        "# parameters of the model. Internally, the parameters of each Module are stored\n",
        "# in Tensors with requires_grad=True, so this call will compute gradients for\n",
        "# all learnable parameters in the model.\n",
        "loss_old.backward()"
      ],
      "execution_count": null,
      "outputs": []
    },
    {
      "cell_type": "code",
      "metadata": {
        "id": "loqaoy8Zi1PH"
      },
      "source": [
        "learning_rate = 1e-2"
      ],
      "execution_count": null,
      "outputs": []
    },
    {
      "cell_type": "code",
      "metadata": {
        "id": "uinN4Hen8x-D"
      },
      "source": [
        ""
      ],
      "execution_count": null,
      "outputs": []
    },
    {
      "cell_type": "code",
      "metadata": {
        "id": "C1fPGyDKiw-U"
      },
      "source": [
        "# Update the weights using gradient descent. Each parameter is a Tensor, so\n",
        "# we can access its gradients like we did before.\n",
        "with torch.no_grad():\n",
        "  # Ваш код здесь\n",
        "  for param in model.parameters():\n",
        "    param -= learning_rate*param.grad"
      ],
      "execution_count": null,
      "outputs": []
    },
    {
      "cell_type": "code",
      "metadata": {
        "id": "JSIGz0wnixBE",
        "colab": {
          "base_uri": "https://localhost:8080/"
        },
        "outputId": "8a15bdb3-d47e-4a4c-a1d2-5e304250ff39"
      },
      "source": [
        "y_pred = model(x_train_flat.float())\n",
        "loss_new = loss_fn(y_pred, y_train)\n",
        "step = loss_new.item()-loss_old.item()\n",
        "\n",
        "acc_new = accuracy_score(y_train.numpy(), y_pred.argmax(dim=1).numpy())\n",
        "\n",
        "\n",
        "\n",
        "print(f'Лосс: {loss_old.item()} -> {loss_new.item()}. Step {step} ')\n",
        "print(f'Accuracy: {acc_old} -> {acc_new}')"
      ],
      "execution_count": null,
      "outputs": [
        {
          "output_type": "stream",
          "text": [
            "Лосс: 2.3040177822113037 -> 2.3039395809173584. Step -7.82012939453125e-05 \n",
            "Accuracy: 0.1 -> 0.1\n"
          ],
          "name": "stdout"
        }
      ]
    },
    {
      "cell_type": "code",
      "metadata": {
        "id": "tFGhystlouO1"
      },
      "source": [
        "def batch_train(model, loss_fn, learning_rate, x, y):\n",
        "  # Ваш код здесь\n",
        "    pred = model(x)\n",
        "    loss = loss_fn(pred, y)\n",
        "    model.zero_grad()\n",
        "    loss.backward()\n",
        "    with torch.no_grad():\n",
        "        for param in model.parameters():\n",
        "          param -= learning_rate*param.grad\n",
        "    return(loss.item())"
      ],
      "execution_count": null,
      "outputs": []
    },
    {
      "cell_type": "code",
      "metadata": {
        "id": "nG1SImTaouO3"
      },
      "source": [
        "def train(model, n_epochs, batch_size, learning_rate,  X, y, X_test, y_test):\n",
        "    acc_train_all = []\n",
        "    loss_train_all = []\n",
        "    acc_test_all = []\n",
        "    loss_test_all = []\n",
        "\n",
        "    for epoch in range(n_epochs):\n",
        "\n",
        "        permutation = torch.randperm(X.size()[0])\n",
        "\n",
        "        for i in tqdm(range(0,X.float().size()[0], batch_size)):\n",
        "            indices = permutation[i:i+batch_size]\n",
        "            batch_x, batch_y = X[indices], y[indices]\n",
        "            batch_train(model, loss_fn, learning_rate, batch_x, batch_y)\n",
        "\n",
        "        y_test_pred = model(X_test)\n",
        "        y_train_pred = model(X)\n",
        "\n",
        "\n",
        "        acc_train = accuracy_score(y.numpy(), y_train_pred.argmax(dim=1).numpy())\n",
        "        loss_train = loss_fn(y_train_pred, y).detach().numpy() \n",
        "        acc_test = accuracy_score(y_test.numpy(), y_test_pred.argmax(dim=1).numpy())\n",
        "        loss_test = loss_fn(y_test_pred, y_test).detach().numpy()\n",
        "\n",
        "        acc_train_all = np.append(acc_train_all, acc_train)\n",
        "        loss_train_all = np.append(loss_train_all, loss_train)\n",
        "        acc_test_all = np.append(acc_test_all, acc_test)\n",
        "        loss_test_all = np.append(loss_test_all, loss_test)\n",
        "\n",
        "\n",
        "        print(f'Epoch {epoch}: \\n Accuracy - train: {acc_train} | test: {acc_test} \\n Loss - train: {loss_train} | test: {loss_test}')\n",
        "        \n",
        "    return(acc_train_all, loss_train_all, acc_test_all, loss_test_all)"
      ],
      "execution_count": null,
      "outputs": []
    },
    {
      "cell_type": "code",
      "metadata": {
        "scrolled": true,
        "id": "tvQm6qs8ouO6",
        "colab": {
          "base_uri": "https://localhost:8080/"
        },
        "outputId": "75f1f552-c00e-4bc6-858a-8c36b7f6741a"
      },
      "source": [
        "n_epochs = 10\n",
        "batch_size = 1000 \n",
        "learning_rate = 1e-1\n",
        "\n",
        "acc_train_all, loss_train_all, acc_test_all, loss_test_all = \\\n",
        "          train(model, n_epochs, batch_size, learning_rate, x_train_flat, y_train, x_test_flat, y_test)\n"
      ],
      "execution_count": null,
      "outputs": [
        {
          "output_type": "stream",
          "text": [
            "100%|██████████| 60/60 [00:01<00:00, 33.00it/s]\n",
            "  7%|▋         | 4/60 [00:00<00:01, 32.46it/s]"
          ],
          "name": "stderr"
        },
        {
          "output_type": "stream",
          "text": [
            "Epoch 0: \n",
            " Accuracy - train: 0.1 | test: 0.1 \n",
            " Loss - train: 2.2945568561553955 | test: 2.294584274291992\n"
          ],
          "name": "stdout"
        },
        {
          "output_type": "stream",
          "text": [
            "100%|██████████| 60/60 [00:01<00:00, 31.47it/s]\n",
            "  7%|▋         | 4/60 [00:00<00:01, 30.60it/s]"
          ],
          "name": "stderr"
        },
        {
          "output_type": "stream",
          "text": [
            "Epoch 1: \n",
            " Accuracy - train: 0.11643333333333333 | test: 0.1168 \n",
            " Loss - train: 2.2891409397125244 | test: 2.2892038822174072\n"
          ],
          "name": "stdout"
        },
        {
          "output_type": "stream",
          "text": [
            "100%|██████████| 60/60 [00:02<00:00, 29.56it/s]\n",
            "  5%|▌         | 3/60 [00:00<00:02, 27.47it/s]"
          ],
          "name": "stderr"
        },
        {
          "output_type": "stream",
          "text": [
            "Epoch 2: \n",
            " Accuracy - train: 0.15306666666666666 | test: 0.1542 \n",
            " Loss - train: 2.2836720943450928 | test: 2.2836952209472656\n"
          ],
          "name": "stdout"
        },
        {
          "output_type": "stream",
          "text": [
            "100%|██████████| 60/60 [00:02<00:00, 27.64it/s]\n",
            "  5%|▌         | 3/60 [00:00<00:02, 26.59it/s]"
          ],
          "name": "stderr"
        },
        {
          "output_type": "stream",
          "text": [
            "Epoch 3: \n",
            " Accuracy - train: 0.12286666666666667 | test: 0.124 \n",
            " Loss - train: 2.2774293422698975 | test: 2.2773165702819824\n"
          ],
          "name": "stdout"
        },
        {
          "output_type": "stream",
          "text": [
            "100%|██████████| 60/60 [00:02<00:00, 26.59it/s]\n",
            "  5%|▌         | 3/60 [00:00<00:02, 26.03it/s]"
          ],
          "name": "stderr"
        },
        {
          "output_type": "stream",
          "text": [
            "Epoch 4: \n",
            " Accuracy - train: 0.10291666666666667 | test: 0.1024 \n",
            " Loss - train: 2.270002841949463 | test: 2.2700066566467285\n"
          ],
          "name": "stdout"
        },
        {
          "output_type": "stream",
          "text": [
            "100%|██████████| 60/60 [00:02<00:00, 26.04it/s]\n",
            "  5%|▌         | 3/60 [00:00<00:02, 26.02it/s]"
          ],
          "name": "stderr"
        },
        {
          "output_type": "stream",
          "text": [
            "Epoch 5: \n",
            " Accuracy - train: 0.10043333333333333 | test: 0.1 \n",
            " Loss - train: 2.2621560096740723 | test: 2.262186050415039\n"
          ],
          "name": "stdout"
        },
        {
          "output_type": "stream",
          "text": [
            "100%|██████████| 60/60 [00:02<00:00, 26.35it/s]\n",
            "  5%|▌         | 3/60 [00:00<00:02, 24.76it/s]"
          ],
          "name": "stderr"
        },
        {
          "output_type": "stream",
          "text": [
            "Epoch 6: \n",
            " Accuracy - train: 0.113 | test: 0.114 \n",
            " Loss - train: 2.2542545795440674 | test: 2.2543530464172363\n"
          ],
          "name": "stdout"
        },
        {
          "output_type": "stream",
          "text": [
            "100%|██████████| 60/60 [00:02<00:00, 25.74it/s]\n",
            "  5%|▌         | 3/60 [00:00<00:02, 25.42it/s]"
          ],
          "name": "stderr"
        },
        {
          "output_type": "stream",
          "text": [
            "Epoch 7: \n",
            " Accuracy - train: 0.2227 | test: 0.2239 \n",
            " Loss - train: 2.2469358444213867 | test: 2.2466838359832764\n"
          ],
          "name": "stdout"
        },
        {
          "output_type": "stream",
          "text": [
            "100%|██████████| 60/60 [00:02<00:00, 26.31it/s]\n",
            "  5%|▌         | 3/60 [00:00<00:02, 26.84it/s]"
          ],
          "name": "stderr"
        },
        {
          "output_type": "stream",
          "text": [
            "Epoch 8: \n",
            " Accuracy - train: 0.26885 | test: 0.2667 \n",
            " Loss - train: 2.239611864089966 | test: 2.239499807357788\n"
          ],
          "name": "stdout"
        },
        {
          "output_type": "stream",
          "text": [
            "100%|██████████| 60/60 [00:02<00:00, 25.22it/s]\n"
          ],
          "name": "stderr"
        },
        {
          "output_type": "stream",
          "text": [
            "Epoch 9: \n",
            " Accuracy - train: 0.2662833333333333 | test: 0.2658 \n",
            " Loss - train: 2.232842445373535 | test: 2.2328901290893555\n"
          ],
          "name": "stdout"
        }
      ]
    },
    {
      "cell_type": "code",
      "metadata": {
        "id": "xUytpKIuouO9"
      },
      "source": [
        "def vis_history(acc_train_all, loss_train_all, acc_test_all, loss_test_all):\n",
        "    fig = plt.figure(figsize=(16, 4))\n",
        "\n",
        "    plt.subplot(1, 2, 1)\n",
        "\n",
        "    plt.plot(loss_train_all, label='loss')\n",
        "    plt.plot(loss_test_all, label='val_loss')\n",
        "\n",
        "    plt.legend()\n",
        "\n",
        "    plt.subplot(1, 2, 2)\n",
        "    plt.plot(acc_train_all, label='acc')\n",
        "    plt.plot(acc_test_all, label='val_acc')\n",
        "\n",
        "    plt.legend()\n",
        "    plt.show()"
      ],
      "execution_count": null,
      "outputs": []
    },
    {
      "cell_type": "code",
      "metadata": {
        "id": "rchVUmigouO_",
        "colab": {
          "base_uri": "https://localhost:8080/",
          "height": 267
        },
        "outputId": "0899663d-8126-4622-90e4-5f4f0bb5b544"
      },
      "source": [
        "vis_history(acc_train_all, loss_train_all, acc_test_all, loss_test_all)"
      ],
      "execution_count": null,
      "outputs": [
        {
          "output_type": "display_data",
          "data": {
            "image/png": "[encoded data removed]",
            "text/plain": [
              "<Figure size 1152x288 with 2 Axes>"
            ]
          },
          "metadata": {
            "tags": [],
            "needs_background": "light"
          }
        }
      ]
    },
    {
      "cell_type": "markdown",
      "metadata": {
        "id": "sdDt8drzouPE"
      },
      "source": [
        "## Что мы можем улучшить? \n",
        "- Отнормировать признаки\n",
        "- Заменить сигмоиды на ReLu\n",
        "- Задать правила инициации весов"
      ]
    },
    {
      "cell_type": "markdown",
      "metadata": {
        "id": "EZWTYU3xouPE"
      },
      "source": [
        "### Нормировка\n",
        "![picture](https://drive.google.com/uc?export=view&id=1cZ12oLwDToKVev2bdTvzzNoFVOU_jKYn)"
      ]
    },
    {
      "cell_type": "code",
      "metadata": {
        "id": "DDCj3aJBouPF"
      },
      "source": [
        "# Ваш код здесь\n",
        "x_train_norm = (x_train_flat - x_train_flat.mean())/x_train_flat.std()**(1/2)\n",
        "x_test_norm = (x_test_flat - x_test_flat.mean())/x_test_flat.std()**(1/2)"
      ],
      "execution_count": null,
      "outputs": []
    },
    {
      "cell_type": "code",
      "metadata": {
        "id": "EkqCvSZzouPJ",
        "colab": {
          "base_uri": "https://localhost:8080/"
        },
        "outputId": "a9a02cdb-9044-49fa-adb7-b59b05e113f8"
      },
      "source": [
        "x_train_norm.max(), x_train_norm.min()"
      ],
      "execution_count": null,
      "outputs": [
        {
          "output_type": "execute_result",
          "data": {
            "text/plain": [
              "(tensor(19.1885), tensor(-7.6877))"
            ]
          },
          "metadata": {
            "tags": []
          },
          "execution_count": 54
        }
      ]
    },
    {
      "cell_type": "code",
      "metadata": {
        "id": "j8efS67TuNmA",
        "colab": {
          "base_uri": "https://localhost:8080/"
        },
        "outputId": "caf153ef-2a29-4303-b40f-c3a02bb3feb9"
      },
      "source": [
        "n_epochs = 10\n",
        "batch_size = 2028 \n",
        "learning_rate = 1e-2\n",
        "\n",
        "acc_train_all, loss_train_all, acc_test_all, loss_test_all = train(model, n_epochs, batch_size, learning_rate,\n",
        "                                                                   x_train_norm, y_train, x_test_norm, y_test)\n"
      ],
      "execution_count": null,
      "outputs": [
        {
          "output_type": "stream",
          "text": [
            "100%|██████████| 30/30 [00:00<00:00, 60.00it/s]\n",
            " 20%|██        | 6/30 [00:00<00:00, 51.71it/s]"
          ],
          "name": "stderr"
        },
        {
          "output_type": "stream",
          "text": [
            "Epoch 0: \n",
            " Accuracy - train: 0.15793333333333334 | test: 0.159 \n",
            " Loss - train: 2.247319459915161 | test: 2.2471587657928467\n"
          ],
          "name": "stdout"
        },
        {
          "output_type": "stream",
          "text": [
            "100%|██████████| 30/30 [00:00<00:00, 57.71it/s]\n",
            " 23%|██▎       | 7/30 [00:00<00:00, 60.69it/s]"
          ],
          "name": "stderr"
        },
        {
          "output_type": "stream",
          "text": [
            "Epoch 1: \n",
            " Accuracy - train: 0.16843333333333332 | test: 0.1679 \n",
            " Loss - train: 2.245569944381714 | test: 2.2454633712768555\n"
          ],
          "name": "stdout"
        },
        {
          "output_type": "stream",
          "text": [
            "100%|██████████| 30/30 [00:00<00:00, 60.40it/s]\n",
            " 23%|██▎       | 7/30 [00:00<00:00, 61.33it/s]"
          ],
          "name": "stderr"
        },
        {
          "output_type": "stream",
          "text": [
            "Epoch 2: \n",
            " Accuracy - train: 0.17633333333333334 | test: 0.1752 \n",
            " Loss - train: 2.24402117729187 | test: 2.2440061569213867\n"
          ],
          "name": "stdout"
        },
        {
          "output_type": "stream",
          "text": [
            "100%|██████████| 30/30 [00:00<00:00, 62.10it/s]\n",
            " 23%|██▎       | 7/30 [00:00<00:00, 61.33it/s]"
          ],
          "name": "stderr"
        },
        {
          "output_type": "stream",
          "text": [
            "Epoch 3: \n",
            " Accuracy - train: 0.18318333333333334 | test: 0.184 \n",
            " Loss - train: 2.2426881790161133 | test: 2.2427287101745605\n"
          ],
          "name": "stdout"
        },
        {
          "output_type": "stream",
          "text": [
            "100%|██████████| 30/30 [00:00<00:00, 61.51it/s]\n",
            " 20%|██        | 6/30 [00:00<00:00, 56.02it/s]"
          ],
          "name": "stderr"
        },
        {
          "output_type": "stream",
          "text": [
            "Epoch 4: \n",
            " Accuracy - train: 0.1892 | test: 0.19 \n",
            " Loss - train: 2.2415192127227783 | test: 2.2415931224823\n"
          ],
          "name": "stdout"
        },
        {
          "output_type": "stream",
          "text": [
            "100%|██████████| 30/30 [00:00<00:00, 58.40it/s]\n",
            " 20%|██        | 6/30 [00:00<00:00, 54.80it/s]"
          ],
          "name": "stderr"
        },
        {
          "output_type": "stream",
          "text": [
            "Epoch 5: \n",
            " Accuracy - train: 0.194 | test: 0.1951 \n",
            " Loss - train: 2.2404568195343018 | test: 2.240562915802002\n"
          ],
          "name": "stdout"
        },
        {
          "output_type": "stream",
          "text": [
            "100%|██████████| 30/30 [00:00<00:00, 59.30it/s]\n",
            " 23%|██▎       | 7/30 [00:00<00:00, 61.34it/s]"
          ],
          "name": "stderr"
        },
        {
          "output_type": "stream",
          "text": [
            "Epoch 6: \n",
            " Accuracy - train: 0.19805 | test: 0.1995 \n",
            " Loss - train: 2.239529848098755 | test: 2.239622116088867\n"
          ],
          "name": "stdout"
        },
        {
          "output_type": "stream",
          "text": [
            "100%|██████████| 30/30 [00:00<00:00, 61.43it/s]\n",
            " 23%|██▎       | 7/30 [00:00<00:00, 61.05it/s]"
          ],
          "name": "stderr"
        },
        {
          "output_type": "stream",
          "text": [
            "Epoch 7: \n",
            " Accuracy - train: 0.20195 | test: 0.2026 \n",
            " Loss - train: 2.2386560440063477 | test: 2.2387537956237793\n"
          ],
          "name": "stdout"
        },
        {
          "output_type": "stream",
          "text": [
            "100%|██████████| 30/30 [00:00<00:00, 60.71it/s]\n",
            " 20%|██        | 6/30 [00:00<00:00, 58.29it/s]"
          ],
          "name": "stderr"
        },
        {
          "output_type": "stream",
          "text": [
            "Epoch 8: \n",
            " Accuracy - train: 0.20516666666666666 | test: 0.207 \n",
            " Loss - train: 2.2378532886505127 | test: 2.237947940826416\n"
          ],
          "name": "stdout"
        },
        {
          "output_type": "stream",
          "text": [
            "100%|██████████| 30/30 [00:00<00:00, 59.80it/s]\n"
          ],
          "name": "stderr"
        },
        {
          "output_type": "stream",
          "text": [
            "Epoch 9: \n",
            " Accuracy - train: 0.20735 | test: 0.2091 \n",
            " Loss - train: 2.2371175289154053 | test: 2.237196207046509\n"
          ],
          "name": "stdout"
        }
      ]
    },
    {
      "cell_type": "code",
      "metadata": {
        "id": "gm1OG8zyuNmC",
        "colab": {
          "base_uri": "https://localhost:8080/",
          "height": 265
        },
        "outputId": "30b4fb35-a37c-4ecb-d107-dd4f513bdfe9"
      },
      "source": [
        "vis_history(acc_train_all, loss_train_all, acc_test_all, loss_test_all)"
      ],
      "execution_count": null,
      "outputs": [
        {
          "output_type": "display_data",
          "data": {
            "image/png": "[encoded data removed]",
            "text/plain": [
              "<Figure size 1152x288 with 2 Axes>"
            ]
          },
          "metadata": {
            "tags": [],
            "needs_background": "light"
          }
        }
      ]
    },
    {
      "cell_type": "markdown",
      "metadata": {
        "id": "T4BICv8uouPM"
      },
      "source": [
        "### Инициациия весов\n",
        "__Случайно__  \n",
        "$ w = a * random$, но тогда если $a \\gg 1$, то на выходе $b\\gg1$ и если $a \\ll 1 $, то $b \\approx 0 $  \n",
        "\n",
        "__Xavier__  \n",
        "$a = \\frac{1}{\\sqrt{n}}$, где $n$ - кол-во нейронов на входе\n",
        "\n",
        "__He__  \n",
        "$a = \\frac{1}{\\sqrt{\\frac{n}{2}}}$, где $n$ - кол-во нейронов на входе"
      ]
    },
    {
      "cell_type": "code",
      "metadata": {
        "id": "XswYTN_LouPM"
      },
      "source": [
        "def init_weights(m):\n",
        "    if type(m) == torch.nn.Linear:\n",
        "        torch.nn.init.xavier_uniform(m.weight)\n",
        "        m.bias.data.fill_(0.01)"
      ],
      "execution_count": null,
      "outputs": []
    },
    {
      "cell_type": "markdown",
      "metadata": {
        "id": "aZ4-dwjOouPO"
      },
      "source": [
        "Примените к модели  функцию инициации весов с помощью метода .apply()"
      ]
    },
    {
      "cell_type": "code",
      "metadata": {
        "id": "7aPFssk4ouPP",
        "colab": {
          "base_uri": "https://localhost:8080/"
        },
        "outputId": "629181de-00d0-4e07-e81e-213445250a92"
      },
      "source": [
        "model_2 =  model.apply(init_weights)"
      ],
      "execution_count": null,
      "outputs": [
        {
          "output_type": "stream",
          "text": [
            "/usr/local/lib/python3.6/dist-packages/ipykernel_launcher.py:3: UserWarning: nn.init.xavier_uniform is now deprecated in favor of nn.init.xavier_uniform_.\n",
            "  This is separate from the ipykernel package so we can avoid doing imports until\n"
          ],
          "name": "stderr"
        }
      ]
    },
    {
      "cell_type": "code",
      "metadata": {
        "id": "mcBd7Ot3ouPR",
        "colab": {
          "base_uri": "https://localhost:8080/"
        },
        "outputId": "161ecf1e-19d9-4fda-f30e-b266a510b6a5"
      },
      "source": [
        "n_epochs = 10\n",
        "batch_size = 2028 \n",
        "learning_rate = 1e-2\n",
        "\n",
        "acc_train_all, loss_train_all, acc_test_all, loss_test_all = train(model_2, n_epochs, batch_size, learning_rate,\n",
        "                                                                   x_train_norm, y_train, x_test_norm, y_test)\n"
      ],
      "execution_count": null,
      "outputs": [
        {
          "output_type": "stream",
          "text": [
            "100%|██████████| 30/30 [00:00<00:00, 62.04it/s]\n",
            " 23%|██▎       | 7/30 [00:00<00:00, 61.95it/s]"
          ],
          "name": "stderr"
        },
        {
          "output_type": "stream",
          "text": [
            "Epoch 0: \n",
            " Accuracy - train: 0.13451666666666667 | test: 0.1324 \n",
            " Loss - train: 2.300945281982422 | test: 2.3009955883026123\n"
          ],
          "name": "stdout"
        },
        {
          "output_type": "stream",
          "text": [
            "100%|██████████| 30/30 [00:00<00:00, 62.13it/s]\n",
            " 23%|██▎       | 7/30 [00:00<00:00, 62.05it/s]"
          ],
          "name": "stderr"
        },
        {
          "output_type": "stream",
          "text": [
            "Epoch 1: \n",
            " Accuracy - train: 0.14956666666666665 | test: 0.1466 \n",
            " Loss - train: 2.29925274848938 | test: 2.2993271350860596\n"
          ],
          "name": "stdout"
        },
        {
          "output_type": "stream",
          "text": [
            "100%|██████████| 30/30 [00:00<00:00, 61.99it/s]\n",
            " 23%|██▎       | 7/30 [00:00<00:00, 61.49it/s]"
          ],
          "name": "stderr"
        },
        {
          "output_type": "stream",
          "text": [
            "Epoch 2: \n",
            " Accuracy - train: 0.16263333333333332 | test: 0.1597 \n",
            " Loss - train: 2.297555685043335 | test: 2.2976760864257812\n"
          ],
          "name": "stdout"
        },
        {
          "output_type": "stream",
          "text": [
            "100%|██████████| 30/30 [00:00<00:00, 59.79it/s]\n",
            " 20%|██        | 6/30 [00:00<00:00, 59.50it/s]"
          ],
          "name": "stderr"
        },
        {
          "output_type": "stream",
          "text": [
            "Epoch 3: \n",
            " Accuracy - train: 0.17661666666666667 | test: 0.1742 \n",
            " Loss - train: 2.2958884239196777 | test: 2.296017646789551\n"
          ],
          "name": "stdout"
        },
        {
          "output_type": "stream",
          "text": [
            "100%|██████████| 30/30 [00:00<00:00, 62.04it/s]\n",
            " 23%|██▎       | 7/30 [00:00<00:00, 61.79it/s]"
          ],
          "name": "stderr"
        },
        {
          "output_type": "stream",
          "text": [
            "Epoch 4: \n",
            " Accuracy - train: 0.19265 | test: 0.1895 \n",
            " Loss - train: 2.2942323684692383 | test: 2.2943732738494873\n"
          ],
          "name": "stdout"
        },
        {
          "output_type": "stream",
          "text": [
            "100%|██████████| 30/30 [00:00<00:00, 62.68it/s]\n",
            " 23%|██▎       | 7/30 [00:00<00:00, 61.98it/s]"
          ],
          "name": "stderr"
        },
        {
          "output_type": "stream",
          "text": [
            "Epoch 5: \n",
            " Accuracy - train: 0.20913333333333334 | test: 0.206 \n",
            " Loss - train: 2.2925963401794434 | test: 2.2927534580230713\n"
          ],
          "name": "stdout"
        },
        {
          "output_type": "stream",
          "text": [
            "100%|██████████| 30/30 [00:00<00:00, 62.08it/s]\n",
            " 23%|██▎       | 7/30 [00:00<00:00, 62.06it/s]"
          ],
          "name": "stderr"
        },
        {
          "output_type": "stream",
          "text": [
            "Epoch 6: \n",
            " Accuracy - train: 0.22588333333333332 | test: 0.2238 \n",
            " Loss - train: 2.2909979820251465 | test: 2.291161298751831\n"
          ],
          "name": "stdout"
        },
        {
          "output_type": "stream",
          "text": [
            "100%|██████████| 30/30 [00:00<00:00, 61.61it/s]\n",
            " 23%|██▎       | 7/30 [00:00<00:00, 61.25it/s]"
          ],
          "name": "stderr"
        },
        {
          "output_type": "stream",
          "text": [
            "Epoch 7: \n",
            " Accuracy - train: 0.24183333333333334 | test: 0.242 \n",
            " Loss - train: 2.289417028427124 | test: 2.2895843982696533\n"
          ],
          "name": "stdout"
        },
        {
          "output_type": "stream",
          "text": [
            "100%|██████████| 30/30 [00:00<00:00, 60.91it/s]\n",
            " 20%|██        | 6/30 [00:00<00:00, 59.38it/s]"
          ],
          "name": "stderr"
        },
        {
          "output_type": "stream",
          "text": [
            "Epoch 8: \n",
            " Accuracy - train: 0.25515 | test: 0.2563 \n",
            " Loss - train: 2.287872552871704 | test: 2.2880337238311768\n"
          ],
          "name": "stdout"
        },
        {
          "output_type": "stream",
          "text": [
            "100%|██████████| 30/30 [00:00<00:00, 61.94it/s]\n"
          ],
          "name": "stderr"
        },
        {
          "output_type": "stream",
          "text": [
            "Epoch 9: \n",
            " Accuracy - train: 0.26645 | test: 0.2673 \n",
            " Loss - train: 2.286358594894409 | test: 2.2865021228790283\n"
          ],
          "name": "stdout"
        }
      ]
    },
    {
      "cell_type": "code",
      "metadata": {
        "id": "7GnH4Sj6ouPT",
        "colab": {
          "base_uri": "https://localhost:8080/",
          "height": 265
        },
        "outputId": "4f19f10f-c1af-4bd7-ad42-a0364a964b2d"
      },
      "source": [
        "vis_history(acc_train_all, loss_train_all, acc_test_all, loss_test_all)"
      ],
      "execution_count": null,
      "outputs": [
        {
          "output_type": "display_data",
          "data": {
            "image/png": "[encoded data removed]",
            "text/plain": [
              "<Figure size 1152x288 with 2 Axes>"
            ]
          },
          "metadata": {
            "tags": [],
            "needs_background": "light"
          }
        }
      ]
    },
    {
      "cell_type": "markdown",
      "metadata": {
        "id": "eo3z_0ojqYaN"
      },
      "source": [
        "### Функции активации\n",
        "![picture](https://drive.google.com/uc?export=view&id=1E-p46g_GUEV4Z87-Ys9pwIn8_ZvyZW0s)"
      ]
    },
    {
      "cell_type": "code",
      "metadata": {
        "id": "WkasCLSsAoUR"
      },
      "source": [
        "class Model(torch.nn.Module):\n",
        "    def __init__(self):\n",
        "        super(Model, self).__init__()\n",
        "        self.fc1 = torch.nn.Linear(D_in, 128)\n",
        "        self.act1 = torch.nn.ReLU()\n",
        "        self.fc2 = torch.nn.Linear(128, 10)\n",
        "        self.act2 = torch.nn.ReLU()\n",
        "        self.fc3 = torch.nn.Linear(10, D_out)\n",
        "        self.act3 = torch.nn.Softmax(dim=1)\n",
        "\n",
        "    def forward(self, x):\n",
        "        x = self.act1(self.fc1(x))\n",
        "        x = self.fc2(x)\n",
        "        x = self.act2(x)\n",
        "        x = self.fc3(x)\n",
        "        x = self.act3(x)\n",
        "        return x\n",
        "\n",
        "model_3 = Model()"
      ],
      "execution_count": null,
      "outputs": []
    },
    {
      "cell_type": "code",
      "metadata": {
        "id": "IVgMmIa0wGUD",
        "colab": {
          "base_uri": "https://localhost:8080/"
        },
        "outputId": "9d4c4542-07bd-4654-8e5c-70f95c3efbfb"
      },
      "source": [
        "n_epochs = 20\n",
        "batch_size = 2028 \n",
        "learning_rate = 1e-2\n",
        "\n",
        "acc_train_all, loss_train_all, acc_test_all, loss_test_all = train(model_3, n_epochs, batch_size, learning_rate,\n",
        "                                                                   x_train_norm, y_train, x_test_norm, y_test)\n"
      ],
      "execution_count": null,
      "outputs": [
        {
          "output_type": "stream",
          "text": [
            "100%|██████████| 30/30 [00:00<00:00, 62.07it/s]\n",
            " 23%|██▎       | 7/30 [00:00<00:00, 62.69it/s]"
          ],
          "name": "stderr"
        },
        {
          "output_type": "stream",
          "text": [
            "Epoch 0: \n",
            " Accuracy - train: 0.24691666666666667 | test: 0.2416 \n",
            " Loss - train: 2.229109048843384 | test: 2.231144666671753\n"
          ],
          "name": "stdout"
        },
        {
          "output_type": "stream",
          "text": [
            "100%|██████████| 30/30 [00:00<00:00, 63.08it/s]\n",
            " 23%|██▎       | 7/30 [00:00<00:00, 63.11it/s]"
          ],
          "name": "stderr"
        },
        {
          "output_type": "stream",
          "text": [
            "Epoch 1: \n",
            " Accuracy - train: 0.3783166666666667 | test: 0.3756 \n",
            " Loss - train: 2.127223253250122 | test: 2.1302947998046875\n"
          ],
          "name": "stdout"
        },
        {
          "output_type": "stream",
          "text": [
            "100%|██████████| 30/30 [00:00<00:00, 62.96it/s]\n",
            " 23%|██▎       | 7/30 [00:00<00:00, 62.22it/s]"
          ],
          "name": "stderr"
        },
        {
          "output_type": "stream",
          "text": [
            "Epoch 2: \n",
            " Accuracy - train: 0.4729 | test: 0.4703 \n",
            " Loss - train: 2.043544292449951 | test: 2.0474960803985596\n"
          ],
          "name": "stdout"
        },
        {
          "output_type": "stream",
          "text": [
            "100%|██████████| 30/30 [00:00<00:00, 61.31it/s]\n",
            " 23%|██▎       | 7/30 [00:00<00:00, 62.54it/s]"
          ],
          "name": "stderr"
        },
        {
          "output_type": "stream",
          "text": [
            "Epoch 3: \n",
            " Accuracy - train: 0.5333166666666667 | test: 0.5323 \n",
            " Loss - train: 1.9712369441986084 | test: 1.975189447402954\n"
          ],
          "name": "stdout"
        },
        {
          "output_type": "stream",
          "text": [
            "100%|██████████| 30/30 [00:00<00:00, 62.08it/s]\n",
            " 23%|██▎       | 7/30 [00:00<00:00, 62.22it/s]"
          ],
          "name": "stderr"
        },
        {
          "output_type": "stream",
          "text": [
            "Epoch 4: \n",
            " Accuracy - train: 0.5484833333333333 | test: 0.5455 \n",
            " Loss - train: 1.9449007511138916 | test: 1.9494554996490479\n"
          ],
          "name": "stdout"
        },
        {
          "output_type": "stream",
          "text": [
            "100%|██████████| 30/30 [00:00<00:00, 62.80it/s]\n",
            " 23%|██▎       | 7/30 [00:00<00:00, 62.77it/s]"
          ],
          "name": "stderr"
        },
        {
          "output_type": "stream",
          "text": [
            "Epoch 5: \n",
            " Accuracy - train: 0.55665 | test: 0.5522 \n",
            " Loss - train: 1.9302496910095215 | test: 1.9352293014526367\n"
          ],
          "name": "stdout"
        },
        {
          "output_type": "stream",
          "text": [
            "100%|██████████| 30/30 [00:00<00:00, 62.53it/s]\n",
            " 23%|██▎       | 7/30 [00:00<00:00, 63.23it/s]"
          ],
          "name": "stderr"
        },
        {
          "output_type": "stream",
          "text": [
            "Epoch 6: \n",
            " Accuracy - train: 0.5614166666666667 | test: 0.556 \n",
            " Loss - train: 1.9204199314117432 | test: 1.925648808479309\n"
          ],
          "name": "stdout"
        },
        {
          "output_type": "stream",
          "text": [
            "100%|██████████| 30/30 [00:00<00:00, 62.75it/s]\n",
            " 23%|██▎       | 7/30 [00:00<00:00, 60.91it/s]"
          ],
          "name": "stderr"
        },
        {
          "output_type": "stream",
          "text": [
            "Epoch 7: \n",
            " Accuracy - train: 0.5652666666666667 | test: 0.5609 \n",
            " Loss - train: 1.9131823778152466 | test: 1.9186179637908936\n"
          ],
          "name": "stdout"
        },
        {
          "output_type": "stream",
          "text": [
            "100%|██████████| 30/30 [00:00<00:00, 62.33it/s]\n",
            " 23%|██▎       | 7/30 [00:00<00:00, 60.74it/s]"
          ],
          "name": "stderr"
        },
        {
          "output_type": "stream",
          "text": [
            "Epoch 8: \n",
            " Accuracy - train: 0.56875 | test: 0.5642 \n",
            " Loss - train: 1.9074069261550903 | test: 1.9130820035934448\n"
          ],
          "name": "stdout"
        },
        {
          "output_type": "stream",
          "text": [
            "100%|██████████| 30/30 [00:00<00:00, 60.81it/s]\n",
            " 23%|██▎       | 7/30 [00:00<00:00, 58.72it/s]"
          ],
          "name": "stderr"
        },
        {
          "output_type": "stream",
          "text": [
            "Epoch 9: \n",
            " Accuracy - train: 0.57175 | test: 0.5647 \n",
            " Loss - train: 1.902782678604126 | test: 1.9086323976516724\n"
          ],
          "name": "stdout"
        },
        {
          "output_type": "stream",
          "text": [
            "100%|██████████| 30/30 [00:00<00:00, 60.79it/s]\n",
            " 23%|██▎       | 7/30 [00:00<00:00, 62.75it/s]"
          ],
          "name": "stderr"
        },
        {
          "output_type": "stream",
          "text": [
            "Epoch 10: \n",
            " Accuracy - train: 0.5750833333333333 | test: 0.5671 \n",
            " Loss - train: 1.8989704847335815 | test: 1.9050521850585938\n"
          ],
          "name": "stdout"
        },
        {
          "output_type": "stream",
          "text": [
            "100%|██████████| 30/30 [00:00<00:00, 62.17it/s]\n",
            " 23%|██▎       | 7/30 [00:00<00:00, 62.82it/s]"
          ],
          "name": "stderr"
        },
        {
          "output_type": "stream",
          "text": [
            "Epoch 11: \n",
            " Accuracy - train: 0.5774166666666667 | test: 0.5675 \n",
            " Loss - train: 1.8956243991851807 | test: 1.9018994569778442\n"
          ],
          "name": "stdout"
        },
        {
          "output_type": "stream",
          "text": [
            "100%|██████████| 30/30 [00:00<00:00, 62.05it/s]\n",
            " 23%|██▎       | 7/30 [00:00<00:00, 60.67it/s]"
          ],
          "name": "stderr"
        },
        {
          "output_type": "stream",
          "text": [
            "Epoch 12: \n",
            " Accuracy - train: 0.5793 | test: 0.5689 \n",
            " Loss - train: 1.8927732706069946 | test: 1.8993101119995117\n"
          ],
          "name": "stdout"
        },
        {
          "output_type": "stream",
          "text": [
            "100%|██████████| 30/30 [00:00<00:00, 62.50it/s]\n",
            " 23%|██▎       | 7/30 [00:00<00:00, 62.74it/s]"
          ],
          "name": "stderr"
        },
        {
          "output_type": "stream",
          "text": [
            "Epoch 13: \n",
            " Accuracy - train: 0.5809333333333333 | test: 0.5702 \n",
            " Loss - train: 1.8902453184127808 | test: 1.8969417810440063\n"
          ],
          "name": "stdout"
        },
        {
          "output_type": "stream",
          "text": [
            "100%|██████████| 30/30 [00:00<00:00, 62.23it/s]\n",
            " 23%|██▎       | 7/30 [00:00<00:00, 61.81it/s]"
          ],
          "name": "stderr"
        },
        {
          "output_type": "stream",
          "text": [
            "Epoch 14: \n",
            " Accuracy - train: 0.58215 | test: 0.5714 \n",
            " Loss - train: 1.8880202770233154 | test: 1.8948745727539062\n"
          ],
          "name": "stdout"
        },
        {
          "output_type": "stream",
          "text": [
            "100%|██████████| 30/30 [00:00<00:00, 60.99it/s]\n",
            " 23%|██▎       | 7/30 [00:00<00:00, 60.38it/s]"
          ],
          "name": "stderr"
        },
        {
          "output_type": "stream",
          "text": [
            "Epoch 15: \n",
            " Accuracy - train: 0.5835166666666667 | test: 0.5723 \n",
            " Loss - train: 1.8859448432922363 | test: 1.8929835557937622\n"
          ],
          "name": "stdout"
        },
        {
          "output_type": "stream",
          "text": [
            "100%|██████████| 30/30 [00:00<00:00, 62.86it/s]\n",
            " 23%|██▎       | 7/30 [00:00<00:00, 61.55it/s]"
          ],
          "name": "stderr"
        },
        {
          "output_type": "stream",
          "text": [
            "Epoch 16: \n",
            " Accuracy - train: 0.58455 | test: 0.5739 \n",
            " Loss - train: 1.8841822147369385 | test: 1.8912209272384644\n"
          ],
          "name": "stdout"
        },
        {
          "output_type": "stream",
          "text": [
            "100%|██████████| 30/30 [00:00<00:00, 61.75it/s]\n",
            " 23%|██▎       | 7/30 [00:00<00:00, 61.35it/s]"
          ],
          "name": "stderr"
        },
        {
          "output_type": "stream",
          "text": [
            "Epoch 17: \n",
            " Accuracy - train: 0.5856 | test: 0.5749 \n",
            " Loss - train: 1.8824512958526611 | test: 1.8897367715835571\n"
          ],
          "name": "stdout"
        },
        {
          "output_type": "stream",
          "text": [
            "100%|██████████| 30/30 [00:00<00:00, 62.46it/s]\n",
            " 23%|██▎       | 7/30 [00:00<00:00, 62.73it/s]"
          ],
          "name": "stderr"
        },
        {
          "output_type": "stream",
          "text": [
            "Epoch 18: \n",
            " Accuracy - train: 0.5865833333333333 | test: 0.5757 \n",
            " Loss - train: 1.8808845281600952 | test: 1.8883417844772339\n"
          ],
          "name": "stdout"
        },
        {
          "output_type": "stream",
          "text": [
            "100%|██████████| 30/30 [00:00<00:00, 63.04it/s]\n"
          ],
          "name": "stderr"
        },
        {
          "output_type": "stream",
          "text": [
            "Epoch 19: \n",
            " Accuracy - train: 0.5874666666666667 | test: 0.5767 \n",
            " Loss - train: 1.879498839378357 | test: 1.886940598487854\n"
          ],
          "name": "stdout"
        }
      ]
    },
    {
      "cell_type": "code",
      "metadata": {
        "id": "4Mezplo7wGUH",
        "colab": {
          "base_uri": "https://localhost:8080/",
          "height": 267
        },
        "outputId": "0fd245bd-34b9-46ff-b44d-d13ffe6ddf84"
      },
      "source": [
        "vis_history(acc_train_all, loss_train_all, acc_test_all, loss_test_all)"
      ],
      "execution_count": null,
      "outputs": [
        {
          "output_type": "display_data",
          "data": {
            "image/png": "[encoded data removed]",
            "text/plain": [
              "<Figure size 1152x288 with 2 Axes>"
            ]
          },
          "metadata": {
            "tags": [],
            "needs_background": "light"
          }
        }
      ]
    },
    {
      "cell_type": "markdown",
      "metadata": {
        "id": "UA9GBCWtouPW"
      },
      "source": [
        "## Влияние скорости обучения\n",
        "Посмотрим, как влияет параметр `learning_rate` на качество нашей модели на обучающей выборке"
      ]
    },
    {
      "cell_type": "code",
      "metadata": {
        "id": "dWt_4O03ouPW"
      },
      "source": [
        "learning_rates = [1e+1, 1e-2, 1e-3, 1e-5, 1e-10] "
      ],
      "execution_count": null,
      "outputs": []
    },
    {
      "cell_type": "code",
      "metadata": {
        "id": "sP8QSOGDouPZ",
        "colab": {
          "base_uri": "https://localhost:8080/"
        },
        "outputId": "ee961476-08b4-4d44-b53e-98722ec40562"
      },
      "source": [
        "voc_loss_train = {}\n",
        "batch_size = 5000\n",
        "\n",
        "for i in learning_rates:\n",
        "    model_3.apply(init_weights)\n",
        "    acc_train_all, loss_train_all, acc_test_all, loss_test_all = train(model_3, 25, batch_size, i,\n",
        "                                                                       x_train_flat, y_train, x_test_flat, y_test)\n",
        "    voc_loss_train[i] = loss_train_all"
      ],
      "execution_count": null,
      "outputs": [
        {
          "output_type": "stream",
          "text": [
            "/usr/local/lib/python3.6/dist-packages/ipykernel_launcher.py:3: UserWarning: nn.init.xavier_uniform is now deprecated in favor of nn.init.xavier_uniform_.\n",
            "  This is separate from the ipykernel package so we can avoid doing imports until\n",
            "100%|██████████| 12/12 [00:00<00:00, 22.42it/s]\n",
            " 25%|██▌       | 3/12 [00:00<00:00, 24.62it/s]"
          ],
          "name": "stderr"
        },
        {
          "output_type": "stream",
          "text": [
            "Epoch 0: \n",
            " Accuracy - train: 0.1 | test: 0.1 \n",
            " Loss - train: 2.3615291118621826 | test: 2.3609778881073\n"
          ],
          "name": "stdout"
        },
        {
          "output_type": "stream",
          "text": [
            "100%|██████████| 12/12 [00:00<00:00, 25.12it/s]\n",
            " 25%|██▌       | 3/12 [00:00<00:00, 25.14it/s]"
          ],
          "name": "stderr"
        },
        {
          "output_type": "stream",
          "text": [
            "Epoch 1: \n",
            " Accuracy - train: 0.1 | test: 0.1 \n",
            " Loss - train: 2.3615291118621826 | test: 2.3609778881073\n"
          ],
          "name": "stdout"
        },
        {
          "output_type": "stream",
          "text": [
            "100%|██████████| 12/12 [00:00<00:00, 24.74it/s]\n",
            " 25%|██▌       | 3/12 [00:00<00:00, 25.36it/s]"
          ],
          "name": "stderr"
        },
        {
          "output_type": "stream",
          "text": [
            "Epoch 2: \n",
            " Accuracy - train: 0.1 | test: 0.1 \n",
            " Loss - train: 2.3615291118621826 | test: 2.3609778881073\n"
          ],
          "name": "stdout"
        },
        {
          "output_type": "stream",
          "text": [
            "100%|██████████| 12/12 [00:00<00:00, 25.30it/s]\n",
            " 25%|██▌       | 3/12 [00:00<00:00, 25.42it/s]"
          ],
          "name": "stderr"
        },
        {
          "output_type": "stream",
          "text": [
            "Epoch 3: \n",
            " Accuracy - train: 0.1 | test: 0.1 \n",
            " Loss - train: 2.3615291118621826 | test: 2.3609778881073\n"
          ],
          "name": "stdout"
        },
        {
          "output_type": "stream",
          "text": [
            "100%|██████████| 12/12 [00:00<00:00, 25.32it/s]\n",
            " 25%|██▌       | 3/12 [00:00<00:00, 24.76it/s]"
          ],
          "name": "stderr"
        },
        {
          "output_type": "stream",
          "text": [
            "Epoch 4: \n",
            " Accuracy - train: 0.1 | test: 0.1 \n",
            " Loss - train: 2.3615291118621826 | test: 2.3609778881073\n"
          ],
          "name": "stdout"
        },
        {
          "output_type": "stream",
          "text": [
            "100%|██████████| 12/12 [00:00<00:00, 24.74it/s]\n",
            " 25%|██▌       | 3/12 [00:00<00:00, 25.35it/s]"
          ],
          "name": "stderr"
        },
        {
          "output_type": "stream",
          "text": [
            "Epoch 5: \n",
            " Accuracy - train: 0.1 | test: 0.1 \n",
            " Loss - train: 2.3615291118621826 | test: 2.3609778881073\n"
          ],
          "name": "stdout"
        },
        {
          "output_type": "stream",
          "text": [
            "100%|██████████| 12/12 [00:00<00:00, 24.73it/s]\n",
            " 25%|██▌       | 3/12 [00:00<00:00, 25.53it/s]"
          ],
          "name": "stderr"
        },
        {
          "output_type": "stream",
          "text": [
            "Epoch 6: \n",
            " Accuracy - train: 0.1 | test: 0.1 \n",
            " Loss - train: 2.3615291118621826 | test: 2.3609778881073\n"
          ],
          "name": "stdout"
        },
        {
          "output_type": "stream",
          "text": [
            "100%|██████████| 12/12 [00:00<00:00, 25.30it/s]\n",
            " 25%|██▌       | 3/12 [00:00<00:00, 25.19it/s]"
          ],
          "name": "stderr"
        },
        {
          "output_type": "stream",
          "text": [
            "Epoch 7: \n",
            " Accuracy - train: 0.1 | test: 0.1 \n",
            " Loss - train: 2.3615291118621826 | test: 2.3609778881073\n"
          ],
          "name": "stdout"
        },
        {
          "output_type": "stream",
          "text": [
            "100%|██████████| 12/12 [00:00<00:00, 25.18it/s]\n",
            " 25%|██▌       | 3/12 [00:00<00:00, 25.48it/s]"
          ],
          "name": "stderr"
        },
        {
          "output_type": "stream",
          "text": [
            "Epoch 8: \n",
            " Accuracy - train: 0.1 | test: 0.1 \n",
            " Loss - train: 2.3615291118621826 | test: 2.3609778881073\n"
          ],
          "name": "stdout"
        },
        {
          "output_type": "stream",
          "text": [
            "100%|██████████| 12/12 [00:00<00:00, 24.54it/s]\n",
            " 25%|██▌       | 3/12 [00:00<00:00, 25.32it/s]"
          ],
          "name": "stderr"
        },
        {
          "output_type": "stream",
          "text": [
            "Epoch 9: \n",
            " Accuracy - train: 0.1 | test: 0.1 \n",
            " Loss - train: 2.3615291118621826 | test: 2.3609778881073\n"
          ],
          "name": "stdout"
        },
        {
          "output_type": "stream",
          "text": [
            "100%|██████████| 12/12 [00:00<00:00, 24.77it/s]\n",
            " 25%|██▌       | 3/12 [00:00<00:00, 24.68it/s]"
          ],
          "name": "stderr"
        },
        {
          "output_type": "stream",
          "text": [
            "Epoch 10: \n",
            " Accuracy - train: 0.1 | test: 0.1 \n",
            " Loss - train: 2.3615291118621826 | test: 2.3609778881073\n"
          ],
          "name": "stdout"
        },
        {
          "output_type": "stream",
          "text": [
            "100%|██████████| 12/12 [00:00<00:00, 25.19it/s]\n",
            " 25%|██▌       | 3/12 [00:00<00:00, 25.06it/s]"
          ],
          "name": "stderr"
        },
        {
          "output_type": "stream",
          "text": [
            "Epoch 11: \n",
            " Accuracy - train: 0.1 | test: 0.1 \n",
            " Loss - train: 2.3615291118621826 | test: 2.3609778881073\n"
          ],
          "name": "stdout"
        },
        {
          "output_type": "stream",
          "text": [
            "100%|██████████| 12/12 [00:00<00:00, 25.24it/s]\n",
            " 25%|██▌       | 3/12 [00:00<00:00, 25.09it/s]"
          ],
          "name": "stderr"
        },
        {
          "output_type": "stream",
          "text": [
            "Epoch 12: \n",
            " Accuracy - train: 0.1 | test: 0.1 \n",
            " Loss - train: 2.3615291118621826 | test: 2.3609778881073\n"
          ],
          "name": "stdout"
        },
        {
          "output_type": "stream",
          "text": [
            "100%|██████████| 12/12 [00:00<00:00, 24.58it/s]\n",
            " 25%|██▌       | 3/12 [00:00<00:00, 24.47it/s]"
          ],
          "name": "stderr"
        },
        {
          "output_type": "stream",
          "text": [
            "Epoch 13: \n",
            " Accuracy - train: 0.1 | test: 0.1 \n",
            " Loss - train: 2.3615291118621826 | test: 2.3609778881073\n"
          ],
          "name": "stdout"
        },
        {
          "output_type": "stream",
          "text": [
            "100%|██████████| 12/12 [00:00<00:00, 24.22it/s]\n",
            " 25%|██▌       | 3/12 [00:00<00:00, 24.54it/s]"
          ],
          "name": "stderr"
        },
        {
          "output_type": "stream",
          "text": [
            "Epoch 14: \n",
            " Accuracy - train: 0.1 | test: 0.1 \n",
            " Loss - train: 2.3615291118621826 | test: 2.3609778881073\n"
          ],
          "name": "stdout"
        },
        {
          "output_type": "stream",
          "text": [
            "100%|██████████| 12/12 [00:00<00:00, 24.37it/s]\n",
            " 25%|██▌       | 3/12 [00:00<00:00, 25.15it/s]"
          ],
          "name": "stderr"
        },
        {
          "output_type": "stream",
          "text": [
            "Epoch 15: \n",
            " Accuracy - train: 0.1 | test: 0.1 \n",
            " Loss - train: 2.3615291118621826 | test: 2.3609778881073\n"
          ],
          "name": "stdout"
        },
        {
          "output_type": "stream",
          "text": [
            "100%|██████████| 12/12 [00:00<00:00, 24.67it/s]\n",
            " 25%|██▌       | 3/12 [00:00<00:00, 25.59it/s]"
          ],
          "name": "stderr"
        },
        {
          "output_type": "stream",
          "text": [
            "Epoch 16: \n",
            " Accuracy - train: 0.1 | test: 0.1 \n",
            " Loss - train: 2.3615291118621826 | test: 2.3609778881073\n"
          ],
          "name": "stdout"
        },
        {
          "output_type": "stream",
          "text": [
            "100%|██████████| 12/12 [00:00<00:00, 25.23it/s]\n",
            " 25%|██▌       | 3/12 [00:00<00:00, 25.14it/s]"
          ],
          "name": "stderr"
        },
        {
          "output_type": "stream",
          "text": [
            "Epoch 17: \n",
            " Accuracy - train: 0.1 | test: 0.1 \n",
            " Loss - train: 2.3615291118621826 | test: 2.3609778881073\n"
          ],
          "name": "stdout"
        },
        {
          "output_type": "stream",
          "text": [
            "100%|██████████| 12/12 [00:00<00:00, 24.83it/s]\n",
            " 25%|██▌       | 3/12 [00:00<00:00, 25.18it/s]"
          ],
          "name": "stderr"
        },
        {
          "output_type": "stream",
          "text": [
            "Epoch 18: \n",
            " Accuracy - train: 0.1 | test: 0.1 \n",
            " Loss - train: 2.3615291118621826 | test: 2.3609778881073\n"
          ],
          "name": "stdout"
        },
        {
          "output_type": "stream",
          "text": [
            "100%|██████████| 12/12 [00:00<00:00, 25.46it/s]\n",
            " 25%|██▌       | 3/12 [00:00<00:00, 25.84it/s]"
          ],
          "name": "stderr"
        },
        {
          "output_type": "stream",
          "text": [
            "Epoch 19: \n",
            " Accuracy - train: 0.1 | test: 0.1 \n",
            " Loss - train: 2.3615291118621826 | test: 2.3609778881073\n"
          ],
          "name": "stdout"
        },
        {
          "output_type": "stream",
          "text": [
            "100%|██████████| 12/12 [00:00<00:00, 25.28it/s]\n",
            " 25%|██▌       | 3/12 [00:00<00:00, 24.53it/s]"
          ],
          "name": "stderr"
        },
        {
          "output_type": "stream",
          "text": [
            "Epoch 20: \n",
            " Accuracy - train: 0.1 | test: 0.1 \n",
            " Loss - train: 2.3615291118621826 | test: 2.3609778881073\n"
          ],
          "name": "stdout"
        },
        {
          "output_type": "stream",
          "text": [
            "100%|██████████| 12/12 [00:00<00:00, 25.08it/s]\n",
            " 25%|██▌       | 3/12 [00:00<00:00, 25.83it/s]"
          ],
          "name": "stderr"
        },
        {
          "output_type": "stream",
          "text": [
            "Epoch 21: \n",
            " Accuracy - train: 0.1 | test: 0.1 \n",
            " Loss - train: 2.3615291118621826 | test: 2.3609778881073\n"
          ],
          "name": "stdout"
        },
        {
          "output_type": "stream",
          "text": [
            "100%|██████████| 12/12 [00:00<00:00, 24.90it/s]\n",
            " 25%|██▌       | 3/12 [00:00<00:00, 25.92it/s]"
          ],
          "name": "stderr"
        },
        {
          "output_type": "stream",
          "text": [
            "Epoch 22: \n",
            " Accuracy - train: 0.1 | test: 0.1 \n",
            " Loss - train: 2.3615291118621826 | test: 2.3609778881073\n"
          ],
          "name": "stdout"
        },
        {
          "output_type": "stream",
          "text": [
            "100%|██████████| 12/12 [00:00<00:00, 25.47it/s]\n",
            " 25%|██▌       | 3/12 [00:00<00:00, 25.47it/s]"
          ],
          "name": "stderr"
        },
        {
          "output_type": "stream",
          "text": [
            "Epoch 23: \n",
            " Accuracy - train: 0.1 | test: 0.1 \n",
            " Loss - train: 2.3615291118621826 | test: 2.3609778881073\n"
          ],
          "name": "stdout"
        },
        {
          "output_type": "stream",
          "text": [
            "100%|██████████| 12/12 [00:00<00:00, 24.97it/s]\n",
            " 17%|█▋        | 2/12 [00:00<00:00, 12.17it/s]"
          ],
          "name": "stderr"
        },
        {
          "output_type": "stream",
          "text": [
            "Epoch 24: \n",
            " Accuracy - train: 0.1 | test: 0.1 \n",
            " Loss - train: 2.3615291118621826 | test: 2.3609778881073\n"
          ],
          "name": "stdout"
        },
        {
          "output_type": "stream",
          "text": [
            "100%|██████████| 12/12 [00:00<00:00, 12.76it/s]\n",
            " 17%|█▋        | 2/12 [00:00<00:00, 11.47it/s]"
          ],
          "name": "stderr"
        },
        {
          "output_type": "stream",
          "text": [
            "Epoch 0: \n",
            " Accuracy - train: 0.21993333333333334 | test: 0.2225 \n",
            " Loss - train: 2.2390122413635254 | test: 2.2364962100982666\n"
          ],
          "name": "stdout"
        },
        {
          "output_type": "stream",
          "text": [
            "100%|██████████| 12/12 [00:01<00:00, 10.98it/s]\n",
            " 17%|█▋        | 2/12 [00:00<00:00, 12.44it/s]"
          ],
          "name": "stderr"
        },
        {
          "output_type": "stream",
          "text": [
            "Epoch 1: \n",
            " Accuracy - train: 0.2839 | test: 0.2851 \n",
            " Loss - train: 2.1750123500823975 | test: 2.1742045879364014\n"
          ],
          "name": "stdout"
        },
        {
          "output_type": "stream",
          "text": [
            "100%|██████████| 12/12 [00:01<00:00, 10.61it/s]\n",
            "  8%|▊         | 1/12 [00:00<00:01,  8.56it/s]"
          ],
          "name": "stderr"
        },
        {
          "output_type": "stream",
          "text": [
            "Epoch 2: \n",
            " Accuracy - train: 0.3390666666666667 | test: 0.3386 \n",
            " Loss - train: 2.1203222274780273 | test: 2.1208202838897705\n"
          ],
          "name": "stdout"
        },
        {
          "output_type": "stream",
          "text": [
            "100%|██████████| 12/12 [00:01<00:00,  8.40it/s]\n",
            "  8%|▊         | 1/12 [00:00<00:01,  7.80it/s]"
          ],
          "name": "stderr"
        },
        {
          "output_type": "stream",
          "text": [
            "Epoch 3: \n",
            " Accuracy - train: 0.3647166666666667 | test: 0.3613 \n",
            " Loss - train: 2.095201253890991 | test: 2.0983784198760986\n"
          ],
          "name": "stdout"
        },
        {
          "output_type": "stream",
          "text": [
            "100%|██████████| 12/12 [00:01<00:00,  7.65it/s]\n",
            "  8%|▊         | 1/12 [00:00<00:01,  7.72it/s]"
          ],
          "name": "stderr"
        },
        {
          "output_type": "stream",
          "text": [
            "Epoch 4: \n",
            " Accuracy - train: 0.3784166666666667 | test: 0.3741 \n",
            " Loss - train: 2.0815610885620117 | test: 2.085062026977539\n"
          ],
          "name": "stdout"
        },
        {
          "output_type": "stream",
          "text": [
            "100%|██████████| 12/12 [00:01<00:00,  7.31it/s]\n",
            "  8%|▊         | 1/12 [00:00<00:01,  7.17it/s]"
          ],
          "name": "stderr"
        },
        {
          "output_type": "stream",
          "text": [
            "Epoch 5: \n",
            " Accuracy - train: 0.38953333333333334 | test: 0.3879 \n",
            " Loss - train: 2.0705208778381348 | test: 2.072230100631714\n"
          ],
          "name": "stdout"
        },
        {
          "output_type": "stream",
          "text": [
            "100%|██████████| 12/12 [00:01<00:00,  6.98it/s]\n",
            "  8%|▊         | 1/12 [00:00<00:01,  7.39it/s]"
          ],
          "name": "stderr"
        },
        {
          "output_type": "stream",
          "text": [
            "Epoch 6: \n",
            " Accuracy - train: 0.3967833333333333 | test: 0.3944 \n",
            " Loss - train: 2.0633296966552734 | test: 2.0656254291534424\n"
          ],
          "name": "stdout"
        },
        {
          "output_type": "stream",
          "text": [
            "100%|██████████| 12/12 [00:01<00:00,  6.77it/s]\n",
            "  8%|▊         | 1/12 [00:00<00:01,  6.83it/s]"
          ],
          "name": "stderr"
        },
        {
          "output_type": "stream",
          "text": [
            "Epoch 7: \n",
            " Accuracy - train: 0.4000666666666667 | test: 0.399 \n",
            " Loss - train: 2.060227394104004 | test: 2.060960292816162\n"
          ],
          "name": "stdout"
        },
        {
          "output_type": "stream",
          "text": [
            "100%|██████████| 12/12 [00:01<00:00,  6.80it/s]\n",
            "  8%|▊         | 1/12 [00:00<00:01,  6.89it/s]"
          ],
          "name": "stderr"
        },
        {
          "output_type": "stream",
          "text": [
            "Epoch 8: \n",
            " Accuracy - train: 0.40436666666666665 | test: 0.3999 \n",
            " Loss - train: 2.055795431137085 | test: 2.0597054958343506\n"
          ],
          "name": "stdout"
        },
        {
          "output_type": "stream",
          "text": [
            "100%|██████████| 12/12 [00:01<00:00,  6.66it/s]\n",
            "  8%|▊         | 1/12 [00:00<00:01,  6.66it/s]"
          ],
          "name": "stderr"
        },
        {
          "output_type": "stream",
          "text": [
            "Epoch 9: \n",
            " Accuracy - train: 0.40763333333333335 | test: 0.4037 \n",
            " Loss - train: 2.0526885986328125 | test: 2.0564370155334473\n"
          ],
          "name": "stdout"
        },
        {
          "output_type": "stream",
          "text": [
            "100%|██████████| 12/12 [00:01<00:00,  6.67it/s]\n",
            "  8%|▊         | 1/12 [00:00<00:01,  6.87it/s]"
          ],
          "name": "stderr"
        },
        {
          "output_type": "stream",
          "text": [
            "Epoch 10: \n",
            " Accuracy - train: 0.40973333333333334 | test: 0.4053 \n",
            " Loss - train: 2.050400972366333 | test: 2.0550639629364014\n"
          ],
          "name": "stdout"
        },
        {
          "output_type": "stream",
          "text": [
            "100%|██████████| 12/12 [00:01<00:00,  6.68it/s]\n",
            "  8%|▊         | 1/12 [00:00<00:01,  6.66it/s]"
          ],
          "name": "stderr"
        },
        {
          "output_type": "stream",
          "text": [
            "Epoch 11: \n",
            " Accuracy - train: 0.41341666666666665 | test: 0.4087 \n",
            " Loss - train: 2.046868324279785 | test: 2.051759719848633\n"
          ],
          "name": "stdout"
        },
        {
          "output_type": "stream",
          "text": [
            "100%|██████████| 12/12 [00:01<00:00,  6.20it/s]\n",
            "  8%|▊         | 1/12 [00:00<00:01,  6.73it/s]"
          ],
          "name": "stderr"
        },
        {
          "output_type": "stream",
          "text": [
            "Epoch 12: \n",
            " Accuracy - train: 0.4157 | test: 0.4108 \n",
            " Loss - train: 2.0447561740875244 | test: 2.049281597137451\n"
          ],
          "name": "stdout"
        },
        {
          "output_type": "stream",
          "text": [
            "100%|██████████| 12/12 [00:01<00:00,  6.34it/s]\n",
            "  8%|▊         | 1/12 [00:00<00:01,  6.26it/s]"
          ],
          "name": "stderr"
        },
        {
          "output_type": "stream",
          "text": [
            "Epoch 13: \n",
            " Accuracy - train: 0.41728333333333334 | test: 0.4128 \n",
            " Loss - train: 2.0431313514709473 | test: 2.0476443767547607\n"
          ],
          "name": "stdout"
        },
        {
          "output_type": "stream",
          "text": [
            "100%|██████████| 12/12 [00:01<00:00,  6.25it/s]\n",
            "  8%|▊         | 1/12 [00:00<00:01,  6.24it/s]"
          ],
          "name": "stderr"
        },
        {
          "output_type": "stream",
          "text": [
            "Epoch 14: \n",
            " Accuracy - train: 0.41863333333333336 | test: 0.4151 \n",
            " Loss - train: 2.0419390201568604 | test: 2.045337438583374\n"
          ],
          "name": "stdout"
        },
        {
          "output_type": "stream",
          "text": [
            "100%|██████████| 12/12 [00:01<00:00,  6.32it/s]\n",
            "  8%|▊         | 1/12 [00:00<00:01,  6.18it/s]"
          ],
          "name": "stderr"
        },
        {
          "output_type": "stream",
          "text": [
            "Epoch 15: \n",
            " Accuracy - train: 0.4196 | test: 0.4144 \n",
            " Loss - train: 2.040863513946533 | test: 2.0458483695983887\n"
          ],
          "name": "stdout"
        },
        {
          "output_type": "stream",
          "text": [
            "100%|██████████| 12/12 [00:01<00:00,  6.26it/s]\n",
            "  8%|▊         | 1/12 [00:00<00:01,  6.17it/s]"
          ],
          "name": "stderr"
        },
        {
          "output_type": "stream",
          "text": [
            "Epoch 16: \n",
            " Accuracy - train: 0.4214333333333333 | test: 0.4168 \n",
            " Loss - train: 2.0391130447387695 | test: 2.043689012527466\n"
          ],
          "name": "stdout"
        },
        {
          "output_type": "stream",
          "text": [
            "100%|██████████| 12/12 [00:01<00:00,  6.32it/s]\n",
            "  8%|▊         | 1/12 [00:00<00:01,  6.70it/s]"
          ],
          "name": "stderr"
        },
        {
          "output_type": "stream",
          "text": [
            "Epoch 17: \n",
            " Accuracy - train: 0.42236666666666667 | test: 0.4171 \n",
            " Loss - train: 2.0381829738616943 | test: 2.043259859085083\n"
          ],
          "name": "stdout"
        },
        {
          "output_type": "stream",
          "text": [
            "100%|██████████| 12/12 [00:01<00:00,  6.31it/s]\n",
            "  8%|▊         | 1/12 [00:00<00:01,  6.25it/s]"
          ],
          "name": "stderr"
        },
        {
          "output_type": "stream",
          "text": [
            "Epoch 18: \n",
            " Accuracy - train: 0.4227666666666667 | test: 0.4194 \n",
            " Loss - train: 2.0376150608062744 | test: 2.0411112308502197\n"
          ],
          "name": "stdout"
        },
        {
          "output_type": "stream",
          "text": [
            "100%|██████████| 12/12 [00:01<00:00,  6.25it/s]\n",
            "  8%|▊         | 1/12 [00:00<00:01,  6.11it/s]"
          ],
          "name": "stderr"
        },
        {
          "output_type": "stream",
          "text": [
            "Epoch 19: \n",
            " Accuracy - train: 0.4242666666666667 | test: 0.42 \n",
            " Loss - train: 2.036120653152466 | test: 2.0404889583587646\n"
          ],
          "name": "stdout"
        },
        {
          "output_type": "stream",
          "text": [
            "100%|██████████| 12/12 [00:01<00:00,  6.25it/s]\n",
            "  8%|▊         | 1/12 [00:00<00:01,  6.22it/s]"
          ],
          "name": "stderr"
        },
        {
          "output_type": "stream",
          "text": [
            "Epoch 20: \n",
            " Accuracy - train: 0.42488333333333334 | test: 0.4208 \n",
            " Loss - train: 2.035658836364746 | test: 2.0400595664978027\n"
          ],
          "name": "stdout"
        },
        {
          "output_type": "stream",
          "text": [
            "100%|██████████| 12/12 [00:01<00:00,  6.29it/s]\n",
            "  8%|▊         | 1/12 [00:00<00:01,  5.91it/s]"
          ],
          "name": "stderr"
        },
        {
          "output_type": "stream",
          "text": [
            "Epoch 21: \n",
            " Accuracy - train: 0.42655 | test: 0.4217 \n",
            " Loss - train: 2.0339226722717285 | test: 2.0388498306274414\n"
          ],
          "name": "stdout"
        },
        {
          "output_type": "stream",
          "text": [
            "100%|██████████| 12/12 [00:01<00:00,  6.24it/s]\n",
            "  8%|▊         | 1/12 [00:00<00:01,  6.45it/s]"
          ],
          "name": "stderr"
        },
        {
          "output_type": "stream",
          "text": [
            "Epoch 22: \n",
            " Accuracy - train: 0.42811666666666665 | test: 0.4228 \n",
            " Loss - train: 2.0322890281677246 | test: 2.037881851196289\n"
          ],
          "name": "stdout"
        },
        {
          "output_type": "stream",
          "text": [
            "100%|██████████| 12/12 [00:01<00:00,  6.25it/s]\n",
            "  8%|▊         | 1/12 [00:00<00:01,  6.17it/s]"
          ],
          "name": "stderr"
        },
        {
          "output_type": "stream",
          "text": [
            "Epoch 23: \n",
            " Accuracy - train: 0.42995 | test: 0.4239 \n",
            " Loss - train: 2.030688762664795 | test: 2.036587953567505\n"
          ],
          "name": "stdout"
        },
        {
          "output_type": "stream",
          "text": [
            "100%|██████████| 12/12 [00:01<00:00,  6.26it/s]\n",
            "  8%|▊         | 1/12 [00:00<00:01,  9.66it/s]"
          ],
          "name": "stderr"
        },
        {
          "output_type": "stream",
          "text": [
            "Epoch 24: \n",
            " Accuracy - train: 0.43261666666666665 | test: 0.4264 \n",
            " Loss - train: 2.0281550884246826 | test: 2.034034013748169\n"
          ],
          "name": "stdout"
        },
        {
          "output_type": "stream",
          "text": [
            "100%|██████████| 12/12 [00:01<00:00,  8.93it/s]\n",
            "  8%|▊         | 1/12 [00:00<00:01,  9.47it/s]"
          ],
          "name": "stderr"
        },
        {
          "output_type": "stream",
          "text": [
            "Epoch 0: \n",
            " Accuracy - train: 0.1653 | test: 0.1685 \n",
            " Loss - train: 2.2945921421051025 | test: 2.2913434505462646\n"
          ],
          "name": "stdout"
        },
        {
          "output_type": "stream",
          "text": [
            "100%|██████████| 12/12 [00:01<00:00,  8.94it/s]\n",
            "  8%|▊         | 1/12 [00:00<00:01,  9.68it/s]"
          ],
          "name": "stderr"
        },
        {
          "output_type": "stream",
          "text": [
            "Epoch 1: \n",
            " Accuracy - train: 0.1977 | test: 0.1989 \n",
            " Loss - train: 2.2620630264282227 | test: 2.2611804008483887\n"
          ],
          "name": "stdout"
        },
        {
          "output_type": "stream",
          "text": [
            "100%|██████████| 12/12 [00:01<00:00,  8.79it/s]\n",
            "  8%|▊         | 1/12 [00:00<00:01,  8.88it/s]"
          ],
          "name": "stderr"
        },
        {
          "output_type": "stream",
          "text": [
            "Epoch 2: \n",
            " Accuracy - train: 0.21398333333333333 | test: 0.2121 \n",
            " Loss - train: 2.245999336242676 | test: 2.2474935054779053\n"
          ],
          "name": "stdout"
        },
        {
          "output_type": "stream",
          "text": [
            "100%|██████████| 12/12 [00:01<00:00,  8.85it/s]\n",
            "  8%|▊         | 1/12 [00:00<00:01,  8.65it/s]"
          ],
          "name": "stderr"
        },
        {
          "output_type": "stream",
          "text": [
            "Epoch 3: \n",
            " Accuracy - train: 0.22368333333333335 | test: 0.2213 \n",
            " Loss - train: 2.2362029552459717 | test: 2.238158941268921\n"
          ],
          "name": "stdout"
        },
        {
          "output_type": "stream",
          "text": [
            "100%|██████████| 12/12 [00:01<00:00,  8.67it/s]\n",
            "  8%|▊         | 1/12 [00:00<00:01,  8.88it/s]"
          ],
          "name": "stderr"
        },
        {
          "output_type": "stream",
          "text": [
            "Epoch 4: \n",
            " Accuracy - train: 0.23221666666666665 | test: 0.2286 \n",
            " Loss - train: 2.2277791500091553 | test: 2.2310030460357666\n"
          ],
          "name": "stdout"
        },
        {
          "output_type": "stream",
          "text": [
            "100%|██████████| 12/12 [00:01<00:00,  8.58it/s]\n",
            "  8%|▊         | 1/12 [00:00<00:01,  8.84it/s]"
          ],
          "name": "stderr"
        },
        {
          "output_type": "stream",
          "text": [
            "Epoch 5: \n",
            " Accuracy - train: 0.23836666666666667 | test: 0.2361 \n",
            " Loss - train: 2.221578359603882 | test: 2.22383975982666\n"
          ],
          "name": "stdout"
        },
        {
          "output_type": "stream",
          "text": [
            "100%|██████████| 12/12 [00:01<00:00,  8.63it/s]\n",
            "  8%|▊         | 1/12 [00:00<00:01,  8.79it/s]"
          ],
          "name": "stderr"
        },
        {
          "output_type": "stream",
          "text": [
            "Epoch 6: \n",
            " Accuracy - train: 0.2439 | test: 0.2404 \n",
            " Loss - train: 2.2161872386932373 | test: 2.219146966934204\n"
          ],
          "name": "stdout"
        },
        {
          "output_type": "stream",
          "text": [
            "100%|██████████| 12/12 [00:01<00:00,  8.40it/s]\n",
            "  8%|▊         | 1/12 [00:00<00:01,  8.30it/s]"
          ],
          "name": "stderr"
        },
        {
          "output_type": "stream",
          "text": [
            "Epoch 7: \n",
            " Accuracy - train: 0.24783333333333332 | test: 0.245 \n",
            " Loss - train: 2.21224045753479 | test: 2.215017080307007\n"
          ],
          "name": "stdout"
        },
        {
          "output_type": "stream",
          "text": [
            "100%|██████████| 12/12 [00:01<00:00,  8.36it/s]\n",
            "  8%|▊         | 1/12 [00:00<00:01,  7.99it/s]"
          ],
          "name": "stderr"
        },
        {
          "output_type": "stream",
          "text": [
            "Epoch 8: \n",
            " Accuracy - train: 0.2507333333333333 | test: 0.2479 \n",
            " Loss - train: 2.209052562713623 | test: 2.2119505405426025\n"
          ],
          "name": "stdout"
        },
        {
          "output_type": "stream",
          "text": [
            "100%|██████████| 12/12 [00:01<00:00,  8.43it/s]\n",
            "  8%|▊         | 1/12 [00:00<00:01,  7.86it/s]"
          ],
          "name": "stderr"
        },
        {
          "output_type": "stream",
          "text": [
            "Epoch 9: \n",
            " Accuracy - train: 0.2541833333333333 | test: 0.2505 \n",
            " Loss - train: 2.2057666778564453 | test: 2.2089598178863525\n"
          ],
          "name": "stdout"
        },
        {
          "output_type": "stream",
          "text": [
            "100%|██████████| 12/12 [00:01<00:00,  8.06it/s]\n",
            "  8%|▊         | 1/12 [00:00<00:01,  8.62it/s]"
          ],
          "name": "stderr"
        },
        {
          "output_type": "stream",
          "text": [
            "Epoch 10: \n",
            " Accuracy - train: 0.25811666666666666 | test: 0.2545 \n",
            " Loss - train: 2.2018072605133057 | test: 2.205138921737671\n"
          ],
          "name": "stdout"
        },
        {
          "output_type": "stream",
          "text": [
            "100%|██████████| 12/12 [00:01<00:00,  8.43it/s]\n",
            "  8%|▊         | 1/12 [00:00<00:01,  8.22it/s]"
          ],
          "name": "stderr"
        },
        {
          "output_type": "stream",
          "text": [
            "Epoch 11: \n",
            " Accuracy - train: 0.2609166666666667 | test: 0.2577 \n",
            " Loss - train: 2.199115037918091 | test: 2.201903820037842\n"
          ],
          "name": "stdout"
        },
        {
          "output_type": "stream",
          "text": [
            "100%|██████████| 12/12 [00:01<00:00,  8.29it/s]\n",
            "  8%|▊         | 1/12 [00:00<00:01,  8.37it/s]"
          ],
          "name": "stderr"
        },
        {
          "output_type": "stream",
          "text": [
            "Epoch 12: \n",
            " Accuracy - train: 0.2639 | test: 0.262 \n",
            " Loss - train: 2.1960906982421875 | test: 2.1982545852661133\n"
          ],
          "name": "stdout"
        },
        {
          "output_type": "stream",
          "text": [
            "100%|██████████| 12/12 [00:01<00:00,  8.23it/s]\n",
            "  8%|▊         | 1/12 [00:00<00:01,  7.94it/s]"
          ],
          "name": "stderr"
        },
        {
          "output_type": "stream",
          "text": [
            "Epoch 13: \n",
            " Accuracy - train: 0.2668833333333333 | test: 0.2645 \n",
            " Loss - train: 2.193103075027466 | test: 2.1951422691345215\n"
          ],
          "name": "stdout"
        },
        {
          "output_type": "stream",
          "text": [
            "100%|██████████| 12/12 [00:01<00:00,  8.03it/s]\n",
            "  8%|▊         | 1/12 [00:00<00:01,  7.98it/s]"
          ],
          "name": "stderr"
        },
        {
          "output_type": "stream",
          "text": [
            "Epoch 14: \n",
            " Accuracy - train: 0.269 | test: 0.2674 \n",
            " Loss - train: 2.1909830570220947 | test: 2.1927528381347656\n"
          ],
          "name": "stdout"
        },
        {
          "output_type": "stream",
          "text": [
            "100%|██████████| 12/12 [00:01<00:00,  7.95it/s]\n",
            "  8%|▊         | 1/12 [00:00<00:01,  7.91it/s]"
          ],
          "name": "stderr"
        },
        {
          "output_type": "stream",
          "text": [
            "Epoch 15: \n",
            " Accuracy - train: 0.2709 | test: 0.2694 \n",
            " Loss - train: 2.188960075378418 | test: 2.190600872039795\n"
          ],
          "name": "stdout"
        },
        {
          "output_type": "stream",
          "text": [
            "100%|██████████| 12/12 [00:01<00:00,  7.94it/s]\n",
            "  8%|▊         | 1/12 [00:00<00:01,  7.57it/s]"
          ],
          "name": "stderr"
        },
        {
          "output_type": "stream",
          "text": [
            "Epoch 16: \n",
            " Accuracy - train: 0.27366666666666667 | test: 0.2705 \n",
            " Loss - train: 2.186487913131714 | test: 2.188987970352173\n"
          ],
          "name": "stdout"
        },
        {
          "output_type": "stream",
          "text": [
            "100%|██████████| 12/12 [00:01<00:00,  7.82it/s]\n",
            "  8%|▊         | 1/12 [00:00<00:01,  7.48it/s]"
          ],
          "name": "stderr"
        },
        {
          "output_type": "stream",
          "text": [
            "Epoch 17: \n",
            " Accuracy - train: 0.27615 | test: 0.2732 \n",
            " Loss - train: 2.1837925910949707 | test: 2.186619758605957\n"
          ],
          "name": "stdout"
        },
        {
          "output_type": "stream",
          "text": [
            "100%|██████████| 12/12 [00:01<00:00,  7.75it/s]\n",
            "  8%|▊         | 1/12 [00:00<00:01,  7.39it/s]"
          ],
          "name": "stderr"
        },
        {
          "output_type": "stream",
          "text": [
            "Epoch 18: \n",
            " Accuracy - train: 0.28005 | test: 0.276 \n",
            " Loss - train: 2.1798410415649414 | test: 2.183746099472046\n"
          ],
          "name": "stdout"
        },
        {
          "output_type": "stream",
          "text": [
            "100%|██████████| 12/12 [00:01<00:00,  7.88it/s]\n",
            "  8%|▊         | 1/12 [00:00<00:01,  7.91it/s]"
          ],
          "name": "stderr"
        },
        {
          "output_type": "stream",
          "text": [
            "Epoch 19: \n",
            " Accuracy - train: 0.28641666666666665 | test: 0.2833 \n",
            " Loss - train: 2.1734232902526855 | test: 2.1766979694366455\n"
          ],
          "name": "stdout"
        },
        {
          "output_type": "stream",
          "text": [
            "100%|██████████| 12/12 [00:01<00:00,  8.07it/s]\n",
            "  8%|▊         | 1/12 [00:00<00:01,  8.04it/s]"
          ],
          "name": "stderr"
        },
        {
          "output_type": "stream",
          "text": [
            "Epoch 20: \n",
            " Accuracy - train: 0.3023666666666667 | test: 0.2983 \n",
            " Loss - train: 2.1573493480682373 | test: 2.1613056659698486\n"
          ],
          "name": "stdout"
        },
        {
          "output_type": "stream",
          "text": [
            "100%|██████████| 12/12 [00:01<00:00,  8.67it/s]\n",
            "  8%|▊         | 1/12 [00:00<00:01,  8.41it/s]"
          ],
          "name": "stderr"
        },
        {
          "output_type": "stream",
          "text": [
            "Epoch 21: \n",
            " Accuracy - train: 0.31603333333333333 | test: 0.3115 \n",
            " Loss - train: 2.1436924934387207 | test: 2.1484878063201904\n"
          ],
          "name": "stdout"
        },
        {
          "output_type": "stream",
          "text": [
            "100%|██████████| 12/12 [00:01<00:00,  8.49it/s]\n",
            "  8%|▊         | 1/12 [00:00<00:01,  8.68it/s]"
          ],
          "name": "stderr"
        },
        {
          "output_type": "stream",
          "text": [
            "Epoch 22: \n",
            " Accuracy - train: 0.32531666666666664 | test: 0.32 \n",
            " Loss - train: 2.1349070072174072 | test: 2.1399519443511963\n"
          ],
          "name": "stdout"
        },
        {
          "output_type": "stream",
          "text": [
            "100%|██████████| 12/12 [00:01<00:00,  8.07it/s]\n",
            "  8%|▊         | 1/12 [00:00<00:01,  8.14it/s]"
          ],
          "name": "stderr"
        },
        {
          "output_type": "stream",
          "text": [
            "Epoch 23: \n",
            " Accuracy - train: 0.32898333333333335 | test: 0.3233 \n",
            " Loss - train: 2.130964517593384 | test: 2.1366968154907227\n"
          ],
          "name": "stdout"
        },
        {
          "output_type": "stream",
          "text": [
            "100%|██████████| 12/12 [00:01<00:00,  7.62it/s]\n",
            "  8%|▊         | 1/12 [00:00<00:01,  6.96it/s]"
          ],
          "name": "stderr"
        },
        {
          "output_type": "stream",
          "text": [
            "Epoch 24: \n",
            " Accuracy - train: 0.3315 | test: 0.3258 \n",
            " Loss - train: 2.1285347938537598 | test: 2.134582757949829\n"
          ],
          "name": "stdout"
        },
        {
          "output_type": "stream",
          "text": [
            "100%|██████████| 12/12 [00:01<00:00,  6.80it/s]\n",
            "  8%|▊         | 1/12 [00:00<00:01,  6.96it/s]"
          ],
          "name": "stderr"
        },
        {
          "output_type": "stream",
          "text": [
            "Epoch 0: \n",
            " Accuracy - train: 0.10111666666666666 | test: 0.1014 \n",
            " Loss - train: 2.3599956035614014 | test: 2.3592798709869385\n"
          ],
          "name": "stdout"
        },
        {
          "output_type": "stream",
          "text": [
            "100%|██████████| 12/12 [00:01<00:00,  6.78it/s]\n",
            "  8%|▊         | 1/12 [00:00<00:01,  7.01it/s]"
          ],
          "name": "stderr"
        },
        {
          "output_type": "stream",
          "text": [
            "Epoch 1: \n",
            " Accuracy - train: 0.10111666666666666 | test: 0.1014 \n",
            " Loss - train: 2.3599905967712402 | test: 2.3592753410339355\n"
          ],
          "name": "stdout"
        },
        {
          "output_type": "stream",
          "text": [
            "100%|██████████| 12/12 [00:01<00:00,  6.81it/s]\n",
            "  8%|▊         | 1/12 [00:00<00:01,  7.25it/s]"
          ],
          "name": "stderr"
        },
        {
          "output_type": "stream",
          "text": [
            "Epoch 2: \n",
            " Accuracy - train: 0.10111666666666666 | test: 0.1013 \n",
            " Loss - train: 2.359982967376709 | test: 2.3592710494995117\n"
          ],
          "name": "stdout"
        },
        {
          "output_type": "stream",
          "text": [
            "100%|██████████| 12/12 [00:01<00:00,  6.79it/s]\n",
            "  8%|▊         | 1/12 [00:00<00:01,  6.52it/s]"
          ],
          "name": "stderr"
        },
        {
          "output_type": "stream",
          "text": [
            "Epoch 3: \n",
            " Accuracy - train: 0.10113333333333334 | test: 0.1013 \n",
            " Loss - train: 2.359976291656494 | test: 2.3592660427093506\n"
          ],
          "name": "stdout"
        },
        {
          "output_type": "stream",
          "text": [
            "100%|██████████| 12/12 [00:01<00:00,  6.82it/s]\n",
            "  8%|▊         | 1/12 [00:00<00:01,  6.71it/s]"
          ],
          "name": "stderr"
        },
        {
          "output_type": "stream",
          "text": [
            "Epoch 4: \n",
            " Accuracy - train: 0.10115 | test: 0.1013 \n",
            " Loss - train: 2.3599696159362793 | test: 2.3592610359191895\n"
          ],
          "name": "stdout"
        },
        {
          "output_type": "stream",
          "text": [
            "100%|██████████| 12/12 [00:01<00:00,  6.72it/s]\n",
            "  8%|▊         | 1/12 [00:00<00:01,  6.73it/s]"
          ],
          "name": "stderr"
        },
        {
          "output_type": "stream",
          "text": [
            "Epoch 5: \n",
            " Accuracy - train: 0.10115 | test: 0.1013 \n",
            " Loss - train: 2.359961986541748 | test: 2.3592562675476074\n"
          ],
          "name": "stdout"
        },
        {
          "output_type": "stream",
          "text": [
            "100%|██████████| 12/12 [00:01<00:00,  6.81it/s]\n",
            "  8%|▊         | 1/12 [00:00<00:01,  7.09it/s]"
          ],
          "name": "stderr"
        },
        {
          "output_type": "stream",
          "text": [
            "Epoch 6: \n",
            " Accuracy - train: 0.10116666666666667 | test: 0.1013 \n",
            " Loss - train: 2.359954595565796 | test: 2.3592514991760254\n"
          ],
          "name": "stdout"
        },
        {
          "output_type": "stream",
          "text": [
            "100%|██████████| 12/12 [00:01<00:00,  6.78it/s]\n",
            "  8%|▊         | 1/12 [00:00<00:01,  6.69it/s]"
          ],
          "name": "stderr"
        },
        {
          "output_type": "stream",
          "text": [
            "Epoch 7: \n",
            " Accuracy - train: 0.10116666666666667 | test: 0.1013 \n",
            " Loss - train: 2.3599467277526855 | test: 2.3592469692230225\n"
          ],
          "name": "stdout"
        },
        {
          "output_type": "stream",
          "text": [
            "100%|██████████| 12/12 [00:01<00:00,  6.75it/s]\n",
            "  8%|▊         | 1/12 [00:00<00:01,  6.86it/s]"
          ],
          "name": "stderr"
        },
        {
          "output_type": "stream",
          "text": [
            "Epoch 8: \n",
            " Accuracy - train: 0.10118333333333333 | test: 0.1013 \n",
            " Loss - train: 2.359938621520996 | test: 2.3592419624328613\n"
          ],
          "name": "stdout"
        },
        {
          "output_type": "stream",
          "text": [
            "100%|██████████| 12/12 [00:01<00:00,  6.80it/s]\n",
            "  8%|▊         | 1/12 [00:00<00:01,  7.13it/s]"
          ],
          "name": "stderr"
        },
        {
          "output_type": "stream",
          "text": [
            "Epoch 9: \n",
            " Accuracy - train: 0.1012 | test: 0.1013 \n",
            " Loss - train: 2.359930992126465 | test: 2.3592371940612793\n"
          ],
          "name": "stdout"
        },
        {
          "output_type": "stream",
          "text": [
            "100%|██████████| 12/12 [00:01<00:00,  6.77it/s]\n",
            "  8%|▊         | 1/12 [00:00<00:01,  7.08it/s]"
          ],
          "name": "stderr"
        },
        {
          "output_type": "stream",
          "text": [
            "Epoch 10: \n",
            " Accuracy - train: 0.1012 | test: 0.1013 \n",
            " Loss - train: 2.3599236011505127 | test: 2.359232187271118\n"
          ],
          "name": "stdout"
        },
        {
          "output_type": "stream",
          "text": [
            "100%|██████████| 12/12 [00:01<00:00,  6.72it/s]\n",
            "  8%|▊         | 1/12 [00:00<00:01,  6.83it/s]"
          ],
          "name": "stderr"
        },
        {
          "output_type": "stream",
          "text": [
            "Epoch 11: \n",
            " Accuracy - train: 0.10121666666666666 | test: 0.1013 \n",
            " Loss - train: 2.359915018081665 | test: 2.359226703643799\n"
          ],
          "name": "stdout"
        },
        {
          "output_type": "stream",
          "text": [
            "100%|██████████| 12/12 [00:01<00:00,  6.77it/s]\n",
            "  8%|▊         | 1/12 [00:00<00:01,  6.47it/s]"
          ],
          "name": "stderr"
        },
        {
          "output_type": "stream",
          "text": [
            "Epoch 12: \n",
            " Accuracy - train: 0.10121666666666666 | test: 0.1013 \n",
            " Loss - train: 2.35990571975708 | test: 2.359222173690796\n"
          ],
          "name": "stdout"
        },
        {
          "output_type": "stream",
          "text": [
            "100%|██████████| 12/12 [00:01<00:00,  6.80it/s]\n",
            "  8%|▊         | 1/12 [00:00<00:01,  7.15it/s]"
          ],
          "name": "stderr"
        },
        {
          "output_type": "stream",
          "text": [
            "Epoch 13: \n",
            " Accuracy - train: 0.10121666666666666 | test: 0.1013 \n",
            " Loss - train: 2.359898090362549 | test: 2.3592166900634766\n"
          ],
          "name": "stdout"
        },
        {
          "output_type": "stream",
          "text": [
            "100%|██████████| 12/12 [00:01<00:00,  6.79it/s]\n",
            "  8%|▊         | 1/12 [00:00<00:01,  6.90it/s]"
          ],
          "name": "stderr"
        },
        {
          "output_type": "stream",
          "text": [
            "Epoch 14: \n",
            " Accuracy - train: 0.10121666666666666 | test: 0.1013 \n",
            " Loss - train: 2.3598883152008057 | test: 2.3592123985290527\n"
          ],
          "name": "stdout"
        },
        {
          "output_type": "stream",
          "text": [
            "100%|██████████| 12/12 [00:01<00:00,  6.77it/s]\n",
            "  8%|▊         | 1/12 [00:00<00:01,  6.53it/s]"
          ],
          "name": "stderr"
        },
        {
          "output_type": "stream",
          "text": [
            "Epoch 15: \n",
            " Accuracy - train: 0.10121666666666666 | test: 0.1013 \n",
            " Loss - train: 2.359879970550537 | test: 2.359206438064575\n"
          ],
          "name": "stdout"
        },
        {
          "output_type": "stream",
          "text": [
            "100%|██████████| 12/12 [00:01<00:00,  6.75it/s]\n",
            "  8%|▊         | 1/12 [00:00<00:01,  6.92it/s]"
          ],
          "name": "stderr"
        },
        {
          "output_type": "stream",
          "text": [
            "Epoch 16: \n",
            " Accuracy - train: 0.10121666666666666 | test: 0.1013 \n",
            " Loss - train: 2.359870195388794 | test: 2.3592007160186768\n"
          ],
          "name": "stdout"
        },
        {
          "output_type": "stream",
          "text": [
            "100%|██████████| 12/12 [00:01<00:00,  6.78it/s]\n",
            "  8%|▊         | 1/12 [00:00<00:01,  6.78it/s]"
          ],
          "name": "stderr"
        },
        {
          "output_type": "stream",
          "text": [
            "Epoch 17: \n",
            " Accuracy - train: 0.10121666666666666 | test: 0.1013 \n",
            " Loss - train: 2.3598623275756836 | test: 2.3591949939727783\n"
          ],
          "name": "stdout"
        },
        {
          "output_type": "stream",
          "text": [
            "100%|██████████| 12/12 [00:01<00:00,  6.65it/s]\n",
            "  8%|▊         | 1/12 [00:00<00:01,  6.68it/s]"
          ],
          "name": "stderr"
        },
        {
          "output_type": "stream",
          "text": [
            "Epoch 18: \n",
            " Accuracy - train: 0.10121666666666666 | test: 0.1013 \n",
            " Loss - train: 2.3598525524139404 | test: 2.3591902256011963\n"
          ],
          "name": "stdout"
        },
        {
          "output_type": "stream",
          "text": [
            "100%|██████████| 12/12 [00:01<00:00,  6.60it/s]\n",
            "  8%|▊         | 1/12 [00:00<00:01,  6.74it/s]"
          ],
          "name": "stderr"
        },
        {
          "output_type": "stream",
          "text": [
            "Epoch 19: \n",
            " Accuracy - train: 0.10121666666666666 | test: 0.1013 \n",
            " Loss - train: 2.3598434925079346 | test: 2.3591837882995605\n"
          ],
          "name": "stdout"
        },
        {
          "output_type": "stream",
          "text": [
            "100%|██████████| 12/12 [00:01<00:00,  6.70it/s]\n",
            "  8%|▊         | 1/12 [00:00<00:01,  6.92it/s]"
          ],
          "name": "stderr"
        },
        {
          "output_type": "stream",
          "text": [
            "Epoch 20: \n",
            " Accuracy - train: 0.10123333333333333 | test: 0.1014 \n",
            " Loss - train: 2.3598339557647705 | test: 2.359177827835083\n"
          ],
          "name": "stdout"
        },
        {
          "output_type": "stream",
          "text": [
            "100%|██████████| 12/12 [00:01<00:00,  6.60it/s]\n",
            "  8%|▊         | 1/12 [00:00<00:01,  6.44it/s]"
          ],
          "name": "stderr"
        },
        {
          "output_type": "stream",
          "text": [
            "Epoch 21: \n",
            " Accuracy - train: 0.10125 | test: 0.1014 \n",
            " Loss - train: 2.3598244190216064 | test: 2.3591713905334473\n"
          ],
          "name": "stdout"
        },
        {
          "output_type": "stream",
          "text": [
            "100%|██████████| 12/12 [00:01<00:00,  6.62it/s]\n",
            "  8%|▊         | 1/12 [00:00<00:01,  7.03it/s]"
          ],
          "name": "stderr"
        },
        {
          "output_type": "stream",
          "text": [
            "Epoch 22: \n",
            " Accuracy - train: 0.10126666666666667 | test: 0.1014 \n",
            " Loss - train: 2.3598146438598633 | test: 2.3591644763946533\n"
          ],
          "name": "stdout"
        },
        {
          "output_type": "stream",
          "text": [
            "100%|██████████| 12/12 [00:01<00:00,  6.81it/s]\n",
            "  8%|▊         | 1/12 [00:00<00:01,  6.74it/s]"
          ],
          "name": "stderr"
        },
        {
          "output_type": "stream",
          "text": [
            "Epoch 23: \n",
            " Accuracy - train: 0.10126666666666667 | test: 0.1014 \n",
            " Loss - train: 2.3598029613494873 | test: 2.3591582775115967\n"
          ],
          "name": "stdout"
        },
        {
          "output_type": "stream",
          "text": [
            "100%|██████████| 12/12 [00:01<00:00,  6.79it/s]\n",
            "  8%|▊         | 1/12 [00:00<00:01,  7.95it/s]"
          ],
          "name": "stderr"
        },
        {
          "output_type": "stream",
          "text": [
            "Epoch 24: \n",
            " Accuracy - train: 0.10126666666666667 | test: 0.1014 \n",
            " Loss - train: 2.3597922325134277 | test: 2.3591508865356445\n"
          ],
          "name": "stdout"
        },
        {
          "output_type": "stream",
          "text": [
            "100%|██████████| 12/12 [00:01<00:00,  7.65it/s]\n",
            "  8%|▊         | 1/12 [00:00<00:01,  7.95it/s]"
          ],
          "name": "stderr"
        },
        {
          "output_type": "stream",
          "text": [
            "Epoch 0: \n",
            " Accuracy - train: 0.03791666666666667 | test: 0.0395 \n",
            " Loss - train: 2.4232192039489746 | test: 2.42071533203125\n"
          ],
          "name": "stdout"
        },
        {
          "output_type": "stream",
          "text": [
            "100%|██████████| 12/12 [00:01<00:00,  7.68it/s]\n",
            "  8%|▊         | 1/12 [00:00<00:01,  8.32it/s]"
          ],
          "name": "stderr"
        },
        {
          "output_type": "stream",
          "text": [
            "Epoch 1: \n",
            " Accuracy - train: 0.03791666666666667 | test: 0.0395 \n",
            " Loss - train: 2.4232192039489746 | test: 2.42071533203125\n"
          ],
          "name": "stdout"
        },
        {
          "output_type": "stream",
          "text": [
            "100%|██████████| 12/12 [00:01<00:00,  7.63it/s]\n",
            "  8%|▊         | 1/12 [00:00<00:01,  7.46it/s]"
          ],
          "name": "stderr"
        },
        {
          "output_type": "stream",
          "text": [
            "Epoch 2: \n",
            " Accuracy - train: 0.03791666666666667 | test: 0.0395 \n",
            " Loss - train: 2.4232192039489746 | test: 2.42071533203125\n"
          ],
          "name": "stdout"
        },
        {
          "output_type": "stream",
          "text": [
            "100%|██████████| 12/12 [00:01<00:00,  7.59it/s]\n",
            "  8%|▊         | 1/12 [00:00<00:01,  7.41it/s]"
          ],
          "name": "stderr"
        },
        {
          "output_type": "stream",
          "text": [
            "Epoch 3: \n",
            " Accuracy - train: 0.03791666666666667 | test: 0.0395 \n",
            " Loss - train: 2.4232192039489746 | test: 2.42071533203125\n"
          ],
          "name": "stdout"
        },
        {
          "output_type": "stream",
          "text": [
            "100%|██████████| 12/12 [00:01<00:00,  7.64it/s]\n",
            "  8%|▊         | 1/12 [00:00<00:01,  7.57it/s]"
          ],
          "name": "stderr"
        },
        {
          "output_type": "stream",
          "text": [
            "Epoch 4: \n",
            " Accuracy - train: 0.03791666666666667 | test: 0.0395 \n",
            " Loss - train: 2.4232192039489746 | test: 2.42071533203125\n"
          ],
          "name": "stdout"
        },
        {
          "output_type": "stream",
          "text": [
            "100%|██████████| 12/12 [00:01<00:00,  7.56it/s]\n",
            "  8%|▊         | 1/12 [00:00<00:01,  7.13it/s]"
          ],
          "name": "stderr"
        },
        {
          "output_type": "stream",
          "text": [
            "Epoch 5: \n",
            " Accuracy - train: 0.03791666666666667 | test: 0.0395 \n",
            " Loss - train: 2.4232192039489746 | test: 2.42071533203125\n"
          ],
          "name": "stdout"
        },
        {
          "output_type": "stream",
          "text": [
            "100%|██████████| 12/12 [00:01<00:00,  7.52it/s]\n",
            "  8%|▊         | 1/12 [00:00<00:01,  7.64it/s]"
          ],
          "name": "stderr"
        },
        {
          "output_type": "stream",
          "text": [
            "Epoch 6: \n",
            " Accuracy - train: 0.03791666666666667 | test: 0.0395 \n",
            " Loss - train: 2.4232192039489746 | test: 2.42071533203125\n"
          ],
          "name": "stdout"
        },
        {
          "output_type": "stream",
          "text": [
            "100%|██████████| 12/12 [00:01<00:00,  7.56it/s]\n",
            "  8%|▊         | 1/12 [00:00<00:01,  7.77it/s]"
          ],
          "name": "stderr"
        },
        {
          "output_type": "stream",
          "text": [
            "Epoch 7: \n",
            " Accuracy - train: 0.03791666666666667 | test: 0.0395 \n",
            " Loss - train: 2.4232192039489746 | test: 2.42071533203125\n"
          ],
          "name": "stdout"
        },
        {
          "output_type": "stream",
          "text": [
            "100%|██████████| 12/12 [00:01<00:00,  7.59it/s]\n",
            "  8%|▊         | 1/12 [00:00<00:01,  7.84it/s]"
          ],
          "name": "stderr"
        },
        {
          "output_type": "stream",
          "text": [
            "Epoch 8: \n",
            " Accuracy - train: 0.03791666666666667 | test: 0.0395 \n",
            " Loss - train: 2.4232192039489746 | test: 2.42071533203125\n"
          ],
          "name": "stdout"
        },
        {
          "output_type": "stream",
          "text": [
            "100%|██████████| 12/12 [00:01<00:00,  7.59it/s]\n",
            "  8%|▊         | 1/12 [00:00<00:01,  7.45it/s]"
          ],
          "name": "stderr"
        },
        {
          "output_type": "stream",
          "text": [
            "Epoch 9: \n",
            " Accuracy - train: 0.03791666666666667 | test: 0.0395 \n",
            " Loss - train: 2.4232192039489746 | test: 2.42071533203125\n"
          ],
          "name": "stdout"
        },
        {
          "output_type": "stream",
          "text": [
            "100%|██████████| 12/12 [00:01<00:00,  7.57it/s]\n",
            "  8%|▊         | 1/12 [00:00<00:01,  7.57it/s]"
          ],
          "name": "stderr"
        },
        {
          "output_type": "stream",
          "text": [
            "Epoch 10: \n",
            " Accuracy - train: 0.03791666666666667 | test: 0.0395 \n",
            " Loss - train: 2.4232192039489746 | test: 2.42071533203125\n"
          ],
          "name": "stdout"
        },
        {
          "output_type": "stream",
          "text": [
            "100%|██████████| 12/12 [00:01<00:00,  7.52it/s]\n",
            "  8%|▊         | 1/12 [00:00<00:01,  7.39it/s]"
          ],
          "name": "stderr"
        },
        {
          "output_type": "stream",
          "text": [
            "Epoch 11: \n",
            " Accuracy - train: 0.03791666666666667 | test: 0.0395 \n",
            " Loss - train: 2.4232192039489746 | test: 2.42071533203125\n"
          ],
          "name": "stdout"
        },
        {
          "output_type": "stream",
          "text": [
            "100%|██████████| 12/12 [00:01<00:00,  7.53it/s]\n",
            "  8%|▊         | 1/12 [00:00<00:01,  7.59it/s]"
          ],
          "name": "stderr"
        },
        {
          "output_type": "stream",
          "text": [
            "Epoch 12: \n",
            " Accuracy - train: 0.03791666666666667 | test: 0.0395 \n",
            " Loss - train: 2.4232192039489746 | test: 2.42071533203125\n"
          ],
          "name": "stdout"
        },
        {
          "output_type": "stream",
          "text": [
            "100%|██████████| 12/12 [00:01<00:00,  7.53it/s]\n",
            "  8%|▊         | 1/12 [00:00<00:01,  7.51it/s]"
          ],
          "name": "stderr"
        },
        {
          "output_type": "stream",
          "text": [
            "Epoch 13: \n",
            " Accuracy - train: 0.03791666666666667 | test: 0.0395 \n",
            " Loss - train: 2.4232192039489746 | test: 2.42071533203125\n"
          ],
          "name": "stdout"
        },
        {
          "output_type": "stream",
          "text": [
            "100%|██████████| 12/12 [00:01<00:00,  7.55it/s]\n",
            "  8%|▊         | 1/12 [00:00<00:01,  7.93it/s]"
          ],
          "name": "stderr"
        },
        {
          "output_type": "stream",
          "text": [
            "Epoch 14: \n",
            " Accuracy - train: 0.03791666666666667 | test: 0.0395 \n",
            " Loss - train: 2.4232192039489746 | test: 2.42071533203125\n"
          ],
          "name": "stdout"
        },
        {
          "output_type": "stream",
          "text": [
            "100%|██████████| 12/12 [00:01<00:00,  7.57it/s]\n",
            "  8%|▊         | 1/12 [00:00<00:01,  7.64it/s]"
          ],
          "name": "stderr"
        },
        {
          "output_type": "stream",
          "text": [
            "Epoch 15: \n",
            " Accuracy - train: 0.03791666666666667 | test: 0.0395 \n",
            " Loss - train: 2.4232192039489746 | test: 2.42071533203125\n"
          ],
          "name": "stdout"
        },
        {
          "output_type": "stream",
          "text": [
            "100%|██████████| 12/12 [00:01<00:00,  7.63it/s]\n",
            "  8%|▊         | 1/12 [00:00<00:01,  7.36it/s]"
          ],
          "name": "stderr"
        },
        {
          "output_type": "stream",
          "text": [
            "Epoch 16: \n",
            " Accuracy - train: 0.03791666666666667 | test: 0.0395 \n",
            " Loss - train: 2.4232192039489746 | test: 2.42071533203125\n"
          ],
          "name": "stdout"
        },
        {
          "output_type": "stream",
          "text": [
            "100%|██████████| 12/12 [00:01<00:00,  7.58it/s]\n",
            "  8%|▊         | 1/12 [00:00<00:01,  7.69it/s]"
          ],
          "name": "stderr"
        },
        {
          "output_type": "stream",
          "text": [
            "Epoch 17: \n",
            " Accuracy - train: 0.03791666666666667 | test: 0.0395 \n",
            " Loss - train: 2.4232192039489746 | test: 2.42071533203125\n"
          ],
          "name": "stdout"
        },
        {
          "output_type": "stream",
          "text": [
            "100%|██████████| 12/12 [00:01<00:00,  7.56it/s]\n",
            "  8%|▊         | 1/12 [00:00<00:01,  7.54it/s]"
          ],
          "name": "stderr"
        },
        {
          "output_type": "stream",
          "text": [
            "Epoch 18: \n",
            " Accuracy - train: 0.03791666666666667 | test: 0.0395 \n",
            " Loss - train: 2.4232192039489746 | test: 2.42071533203125\n"
          ],
          "name": "stdout"
        },
        {
          "output_type": "stream",
          "text": [
            "100%|██████████| 12/12 [00:01<00:00,  7.54it/s]\n",
            "  8%|▊         | 1/12 [00:00<00:01,  7.71it/s]"
          ],
          "name": "stderr"
        },
        {
          "output_type": "stream",
          "text": [
            "Epoch 19: \n",
            " Accuracy - train: 0.03791666666666667 | test: 0.0395 \n",
            " Loss - train: 2.4232192039489746 | test: 2.42071533203125\n"
          ],
          "name": "stdout"
        },
        {
          "output_type": "stream",
          "text": [
            "100%|██████████| 12/12 [00:01<00:00,  7.60it/s]\n",
            "  8%|▊         | 1/12 [00:00<00:01,  7.80it/s]"
          ],
          "name": "stderr"
        },
        {
          "output_type": "stream",
          "text": [
            "Epoch 20: \n",
            " Accuracy - train: 0.03791666666666667 | test: 0.0395 \n",
            " Loss - train: 2.4232192039489746 | test: 2.42071533203125\n"
          ],
          "name": "stdout"
        },
        {
          "output_type": "stream",
          "text": [
            "100%|██████████| 12/12 [00:01<00:00,  7.59it/s]\n",
            "  8%|▊         | 1/12 [00:00<00:01,  7.23it/s]"
          ],
          "name": "stderr"
        },
        {
          "output_type": "stream",
          "text": [
            "Epoch 21: \n",
            " Accuracy - train: 0.03791666666666667 | test: 0.0395 \n",
            " Loss - train: 2.4232192039489746 | test: 2.42071533203125\n"
          ],
          "name": "stdout"
        },
        {
          "output_type": "stream",
          "text": [
            "100%|██████████| 12/12 [00:01<00:00,  7.60it/s]\n",
            "  8%|▊         | 1/12 [00:00<00:01,  8.20it/s]"
          ],
          "name": "stderr"
        },
        {
          "output_type": "stream",
          "text": [
            "Epoch 22: \n",
            " Accuracy - train: 0.03791666666666667 | test: 0.0395 \n",
            " Loss - train: 2.4232192039489746 | test: 2.42071533203125\n"
          ],
          "name": "stdout"
        },
        {
          "output_type": "stream",
          "text": [
            "100%|██████████| 12/12 [00:01<00:00,  7.59it/s]\n",
            "  8%|▊         | 1/12 [00:00<00:01,  7.40it/s]"
          ],
          "name": "stderr"
        },
        {
          "output_type": "stream",
          "text": [
            "Epoch 23: \n",
            " Accuracy - train: 0.03791666666666667 | test: 0.0395 \n",
            " Loss - train: 2.4232192039489746 | test: 2.42071533203125\n"
          ],
          "name": "stdout"
        },
        {
          "output_type": "stream",
          "text": [
            "100%|██████████| 12/12 [00:01<00:00,  7.48it/s]\n"
          ],
          "name": "stderr"
        },
        {
          "output_type": "stream",
          "text": [
            "Epoch 24: \n",
            " Accuracy - train: 0.03791666666666667 | test: 0.0395 \n",
            " Loss - train: 2.4232192039489746 | test: 2.42071533203125\n"
          ],
          "name": "stdout"
        }
      ]
    },
    {
      "cell_type": "code",
      "metadata": {
        "id": "_uw84G_DouPb",
        "colab": {
          "base_uri": "https://localhost:8080/",
          "height": 265
        },
        "outputId": "df56e69f-49c4-4123-a8a8-72dfb3ecbfd8"
      },
      "source": [
        "fig = plt.figure(figsize=(16, 4))\n",
        "\n",
        "for i in voc_loss_train.keys():\n",
        "    plt.plot(voc_loss_train[i], label=f'{i}')\n",
        "\n",
        "\n",
        "plt.legend()\n",
        "plt.show()"
      ],
      "execution_count": null,
      "outputs": [
        {
          "output_type": "display_data",
          "data": {
            "image/png": "[encoded data removed]",
            "text/plain": [
              "<Figure size 1152x288 with 1 Axes>"
            ]
          },
          "metadata": {
            "tags": [],
            "needs_background": "light"
          }
        }
      ]
    },
    {
      "cell_type": "markdown",
      "metadata": {
        "id": "rUS8D8PdouPe"
      },
      "source": [
        "## Влияние метода оптимизации градиентного спуска"
      ]
    },
    {
      "cell_type": "markdown",
      "metadata": {
        "id": "MSPLQfCrouPe"
      },
      "source": [
        "![picture](https://drive.google.com/uc?export=view&id=1wYGptX72S3sB4K21ktZzbqojHjssZ0xP)\n",
        "\n",
        "#### Momentum\n",
        "Вместо того, чтобы использовать только градиент текущего шага, мы будем накапливать импульс градиента прошлых шагов для определения направления движения. \n",
        "В связи со стохастической природой, обновления градиента происходят \"зигзагообразно\", с помощью момента мы усиливаем движение вдоль основного направления. На практике коэффициент у момента инициализируется на уровне 0,5 и постепенно увеличивается до 0,9 в течение нескольких эпох. \n",
        "  \n",
        "#### RMSProp (Root Mean Square Propogation)   \n",
        "Мы обновляяем меньше веса, которые слишком часто обновляются, и будем использовать усреднённый по истории квадрат градиента.\n",
        "\n",
        "#### Adam (Adaptive moment estimation)\n",
        "Cочетает в себе и идею накопления движения и идею более слабого обновления весов для типичных признаков"
      ]
    },
    {
      "cell_type": "code",
      "metadata": {
        "id": "kiNYQh0fouPe"
      },
      "source": [
        "optimizer = torch.optim.SGD(model_3.parameters(), lr=0.001)"
      ],
      "execution_count": null,
      "outputs": []
    },
    {
      "cell_type": "code",
      "metadata": {
        "id": "x-1WqtKJouPh"
      },
      "source": [
        "def batch_train(model, x, y):\n",
        "    y_pred = model(x)\n",
        "    loss = loss_fn(y_pred, y)\n",
        "    model.zero_grad()\n",
        "    loss.backward()\n",
        "    #    with torch.no_grad():\n",
        "    #    for param in model.parameters():\n",
        "    #        param -= learning_rate * param.grad\n",
        "    optimizer.step()\n",
        "    return(loss.item())"
      ],
      "execution_count": null,
      "outputs": []
    },
    {
      "cell_type": "code",
      "metadata": {
        "scrolled": true,
        "id": "l1nZ_qEQouPj",
        "colab": {
          "base_uri": "https://localhost:8080/"
        },
        "outputId": "14181d7c-e367-40cc-a4ca-f2c2a197dacb"
      },
      "source": [
        "n_epochs = 10\n",
        "batch_size = 1000\n",
        "\n",
        "\n",
        "model_2.apply(init_weights)\n",
        "loss_train_sgd = []\n",
        "\n",
        "optimizer = torch.optim.SGD(model_2.parameters(), lr=0.001, momentum=0.0)\n",
        "\n",
        "for epoch in range(n_epochs):\n",
        "\n",
        "    permutation = torch.randperm(x_train_norm.size()[0])\n",
        "\n",
        "    for i in tqdm(range(0,x_train_norm.float().size()[0], batch_size)):\n",
        "        indices = permutation[i:i+batch_size]\n",
        "        batch_x, batch_y = x_train_norm[indices], y_train[indices]\n",
        "        batch_train(model_2, batch_x, batch_y)\n",
        "\n",
        "    y_test_pred = model_2(x_test_norm)\n",
        "    loss_train = loss_fn(y_test_pred, y_test).detach().numpy()\n",
        "    print(f'Epoch: {epoch} loss {loss_train}')\n",
        "    loss_train_sgd = np.append(loss_train_sgd, loss_train)\n",
        "\n",
        "    \n",
        "model_2.apply(init_weights)\n",
        "loss_train_sgd_moment = []\n",
        "\n",
        "optimizer = torch.optim.SGD(model_2.parameters(), lr=0.001, momentum=0.9)\n",
        "\n",
        "for epoch in range(n_epochs):\n",
        "\n",
        "    permutation = torch.randperm(x_train_norm.size()[0])\n",
        "\n",
        "    for i in tqdm(range(0,x_train_norm.float().size()[0], batch_size)):\n",
        "        indices = permutation[i:i+batch_size]\n",
        "        batch_x, batch_y = x_train_norm[indices], y_train[indices]\n",
        "        batch_train(model_2, batch_x, batch_y)\n",
        "\n",
        "    y_test_pred = model_2(x_test_norm)\n",
        "    loss_train = loss_fn(y_test_pred, y_test).detach().numpy()\n",
        "    print(f'Epoch: {epoch} loss {loss_train}')\n",
        "    loss_train_sgd_moment = np.append(loss_train_sgd_moment, loss_train)\n",
        "    \n",
        "    \n",
        "\n",
        "model_2.apply(init_weights)\n",
        "optimizer = torch.optim.Adam(model_2.parameters(), lr=0.001)\n",
        "loss_train_adam = []\n",
        "\n",
        "\n",
        "for epoch in range(n_epochs):\n",
        "\n",
        "    permutation = torch.randperm(x_train_norm.size()[0])\n",
        "\n",
        "    for i in tqdm(range(0,x_train_norm.float().size()[0], batch_size)):\n",
        "        indices = permutation[i:i+batch_size]\n",
        "        batch_x, batch_y = x_train_norm[indices], y_train[indices]\n",
        "        batch_train(model_2, batch_x, batch_y)\n",
        "\n",
        "    y_test_pred = model_2(x_test_norm)\n",
        "    loss_train = loss_fn(y_test_pred, y_test).detach().numpy()\n",
        "    print(f'Epoch: {epoch} loss {loss_train}')\n",
        "    loss_train_adam = np.append(loss_train_all, loss_train)"
      ],
      "execution_count": null,
      "outputs": [
        {
          "output_type": "stream",
          "text": [
            "/usr/local/lib/python3.6/dist-packages/ipykernel_launcher.py:3: UserWarning: nn.init.xavier_uniform is now deprecated in favor of nn.init.xavier_uniform_.\n",
            "  This is separate from the ipykernel package so we can avoid doing imports until\n",
            "100%|██████████| 60/60 [00:00<00:00, 121.55it/s]\n",
            " 22%|██▏       | 13/60 [00:00<00:00, 120.80it/s]"
          ],
          "name": "stderr"
        },
        {
          "output_type": "stream",
          "text": [
            "Epoch: 0 loss 2.3039016723632812\n"
          ],
          "name": "stdout"
        },
        {
          "output_type": "stream",
          "text": [
            "100%|██████████| 60/60 [00:00<00:00, 120.38it/s]\n",
            " 22%|██▏       | 13/60 [00:00<00:00, 121.02it/s]"
          ],
          "name": "stderr"
        },
        {
          "output_type": "stream",
          "text": [
            "Epoch: 1 loss 2.303736925125122\n"
          ],
          "name": "stdout"
        },
        {
          "output_type": "stream",
          "text": [
            "100%|██████████| 60/60 [00:00<00:00, 119.30it/s]\n",
            " 20%|██        | 12/60 [00:00<00:00, 118.19it/s]"
          ],
          "name": "stderr"
        },
        {
          "output_type": "stream",
          "text": [
            "Epoch: 2 loss 2.303563356399536\n"
          ],
          "name": "stdout"
        },
        {
          "output_type": "stream",
          "text": [
            "100%|██████████| 60/60 [00:00<00:00, 117.80it/s]\n",
            " 20%|██        | 12/60 [00:00<00:00, 110.44it/s]"
          ],
          "name": "stderr"
        },
        {
          "output_type": "stream",
          "text": [
            "Epoch: 3 loss 2.303394079208374\n"
          ],
          "name": "stdout"
        },
        {
          "output_type": "stream",
          "text": [
            "100%|██████████| 60/60 [00:00<00:00, 108.59it/s]\n",
            " 20%|██        | 12/60 [00:00<00:00, 114.35it/s]"
          ],
          "name": "stderr"
        },
        {
          "output_type": "stream",
          "text": [
            "Epoch: 4 loss 2.303218126296997\n"
          ],
          "name": "stdout"
        },
        {
          "output_type": "stream",
          "text": [
            "100%|██████████| 60/60 [00:00<00:00, 117.77it/s]\n",
            " 20%|██        | 12/60 [00:00<00:00, 118.08it/s]"
          ],
          "name": "stderr"
        },
        {
          "output_type": "stream",
          "text": [
            "Epoch: 5 loss 2.3030521869659424\n"
          ],
          "name": "stdout"
        },
        {
          "output_type": "stream",
          "text": [
            "100%|██████████| 60/60 [00:00<00:00, 121.75it/s]\n",
            " 22%|██▏       | 13/60 [00:00<00:00, 122.12it/s]"
          ],
          "name": "stderr"
        },
        {
          "output_type": "stream",
          "text": [
            "Epoch: 6 loss 2.3028812408447266\n"
          ],
          "name": "stdout"
        },
        {
          "output_type": "stream",
          "text": [
            "100%|██████████| 60/60 [00:00<00:00, 120.77it/s]\n",
            " 22%|██▏       | 13/60 [00:00<00:00, 122.53it/s]"
          ],
          "name": "stderr"
        },
        {
          "output_type": "stream",
          "text": [
            "Epoch: 7 loss 2.302708864212036\n"
          ],
          "name": "stdout"
        },
        {
          "output_type": "stream",
          "text": [
            "100%|██████████| 60/60 [00:00<00:00, 116.76it/s]\n",
            " 20%|██        | 12/60 [00:00<00:00, 116.97it/s]"
          ],
          "name": "stderr"
        },
        {
          "output_type": "stream",
          "text": [
            "Epoch: 8 loss 2.3025355339050293\n"
          ],
          "name": "stdout"
        },
        {
          "output_type": "stream",
          "text": [
            "100%|██████████| 60/60 [00:00<00:00, 116.81it/s]\n",
            " 20%|██        | 12/60 [00:00<00:00, 112.51it/s]"
          ],
          "name": "stderr"
        },
        {
          "output_type": "stream",
          "text": [
            "Epoch: 9 loss 2.3023579120635986\n"
          ],
          "name": "stdout"
        },
        {
          "output_type": "stream",
          "text": [
            "100%|██████████| 60/60 [00:00<00:00, 116.27it/s]\n",
            " 22%|██▏       | 13/60 [00:00<00:00, 120.80it/s]"
          ],
          "name": "stderr"
        },
        {
          "output_type": "stream",
          "text": [
            "Epoch: 0 loss 2.3060481548309326\n"
          ],
          "name": "stdout"
        },
        {
          "output_type": "stream",
          "text": [
            "100%|██████████| 60/60 [00:00<00:00, 117.90it/s]\n",
            " 20%|██        | 12/60 [00:00<00:00, 113.57it/s]"
          ],
          "name": "stderr"
        },
        {
          "output_type": "stream",
          "text": [
            "Epoch: 1 loss 2.303842782974243\n"
          ],
          "name": "stdout"
        },
        {
          "output_type": "stream",
          "text": [
            "100%|██████████| 60/60 [00:00<00:00, 115.76it/s]\n",
            " 20%|██        | 12/60 [00:00<00:00, 118.05it/s]"
          ],
          "name": "stderr"
        },
        {
          "output_type": "stream",
          "text": [
            "Epoch: 2 loss 2.301632881164551\n"
          ],
          "name": "stdout"
        },
        {
          "output_type": "stream",
          "text": [
            "100%|██████████| 60/60 [00:00<00:00, 119.89it/s]\n",
            " 20%|██        | 12/60 [00:00<00:00, 116.23it/s]"
          ],
          "name": "stderr"
        },
        {
          "output_type": "stream",
          "text": [
            "Epoch: 3 loss 2.2994818687438965\n"
          ],
          "name": "stdout"
        },
        {
          "output_type": "stream",
          "text": [
            "100%|██████████| 60/60 [00:00<00:00, 117.92it/s]\n",
            " 20%|██        | 12/60 [00:00<00:00, 118.39it/s]"
          ],
          "name": "stderr"
        },
        {
          "output_type": "stream",
          "text": [
            "Epoch: 4 loss 2.2974321842193604\n"
          ],
          "name": "stdout"
        },
        {
          "output_type": "stream",
          "text": [
            "100%|██████████| 60/60 [00:00<00:00, 120.65it/s]\n",
            " 22%|██▏       | 13/60 [00:00<00:00, 120.77it/s]"
          ],
          "name": "stderr"
        },
        {
          "output_type": "stream",
          "text": [
            "Epoch: 5 loss 2.2954587936401367\n"
          ],
          "name": "stdout"
        },
        {
          "output_type": "stream",
          "text": [
            "100%|██████████| 60/60 [00:00<00:00, 120.91it/s]\n",
            " 22%|██▏       | 13/60 [00:00<00:00, 122.20it/s]"
          ],
          "name": "stderr"
        },
        {
          "output_type": "stream",
          "text": [
            "Epoch: 6 loss 2.2935292720794678\n"
          ],
          "name": "stdout"
        },
        {
          "output_type": "stream",
          "text": [
            "100%|██████████| 60/60 [00:00<00:00, 120.74it/s]\n",
            " 20%|██        | 12/60 [00:00<00:00, 115.40it/s]"
          ],
          "name": "stderr"
        },
        {
          "output_type": "stream",
          "text": [
            "Epoch: 7 loss 2.291651725769043\n"
          ],
          "name": "stdout"
        },
        {
          "output_type": "stream",
          "text": [
            "100%|██████████| 60/60 [00:00<00:00, 120.05it/s]\n",
            " 20%|██        | 12/60 [00:00<00:00, 118.70it/s]"
          ],
          "name": "stderr"
        },
        {
          "output_type": "stream",
          "text": [
            "Epoch: 8 loss 2.2898142337799072\n"
          ],
          "name": "stdout"
        },
        {
          "output_type": "stream",
          "text": [
            "100%|██████████| 60/60 [00:00<00:00, 119.98it/s]\n",
            " 18%|█▊        | 11/60 [00:00<00:00, 106.44it/s]"
          ],
          "name": "stderr"
        },
        {
          "output_type": "stream",
          "text": [
            "Epoch: 9 loss 2.2880096435546875\n"
          ],
          "name": "stdout"
        },
        {
          "output_type": "stream",
          "text": [
            "100%|██████████| 60/60 [00:00<00:00, 99.35it/s]\n",
            " 17%|█▋        | 10/60 [00:00<00:00, 93.68it/s]"
          ],
          "name": "stderr"
        },
        {
          "output_type": "stream",
          "text": [
            "Epoch: 0 loss 2.148003101348877\n"
          ],
          "name": "stdout"
        },
        {
          "output_type": "stream",
          "text": [
            "100%|██████████| 60/60 [00:00<00:00, 92.74it/s]\n",
            " 17%|█▋        | 10/60 [00:00<00:00, 92.78it/s]"
          ],
          "name": "stderr"
        },
        {
          "output_type": "stream",
          "text": [
            "Epoch: 1 loss 2.0741004943847656\n"
          ],
          "name": "stdout"
        },
        {
          "output_type": "stream",
          "text": [
            "100%|██████████| 60/60 [00:00<00:00, 91.83it/s]\n",
            " 15%|█▌        | 9/60 [00:00<00:00, 89.93it/s]"
          ],
          "name": "stderr"
        },
        {
          "output_type": "stream",
          "text": [
            "Epoch: 2 loss 2.0084147453308105\n"
          ],
          "name": "stdout"
        },
        {
          "output_type": "stream",
          "text": [
            "100%|██████████| 60/60 [00:00<00:00, 88.27it/s]\n",
            " 15%|█▌        | 9/60 [00:00<00:00, 83.55it/s]"
          ],
          "name": "stderr"
        },
        {
          "output_type": "stream",
          "text": [
            "Epoch: 3 loss 1.9518235921859741\n"
          ],
          "name": "stdout"
        },
        {
          "output_type": "stream",
          "text": [
            "100%|██████████| 60/60 [00:00<00:00, 83.24it/s]\n",
            " 15%|█▌        | 9/60 [00:00<00:00, 81.69it/s]"
          ],
          "name": "stderr"
        },
        {
          "output_type": "stream",
          "text": [
            "Epoch: 4 loss 1.9041955471038818\n"
          ],
          "name": "stdout"
        },
        {
          "output_type": "stream",
          "text": [
            "100%|██████████| 60/60 [00:00<00:00, 80.22it/s]\n",
            " 13%|█▎        | 8/60 [00:00<00:00, 74.71it/s]"
          ],
          "name": "stderr"
        },
        {
          "output_type": "stream",
          "text": [
            "Epoch: 5 loss 1.8642607927322388\n"
          ],
          "name": "stdout"
        },
        {
          "output_type": "stream",
          "text": [
            "100%|██████████| 60/60 [00:00<00:00, 74.47it/s]\n",
            " 13%|█▎        | 8/60 [00:00<00:00, 74.03it/s]"
          ],
          "name": "stderr"
        },
        {
          "output_type": "stream",
          "text": [
            "Epoch: 6 loss 1.8296164274215698\n"
          ],
          "name": "stdout"
        },
        {
          "output_type": "stream",
          "text": [
            "100%|██████████| 60/60 [00:00<00:00, 72.07it/s]\n",
            " 12%|█▏        | 7/60 [00:00<00:00, 67.06it/s]"
          ],
          "name": "stderr"
        },
        {
          "output_type": "stream",
          "text": [
            "Epoch: 7 loss 1.7974636554718018\n"
          ],
          "name": "stdout"
        },
        {
          "output_type": "stream",
          "text": [
            "100%|██████████| 60/60 [00:00<00:00, 69.21it/s]\n",
            " 12%|█▏        | 7/60 [00:00<00:00, 64.94it/s]"
          ],
          "name": "stderr"
        },
        {
          "output_type": "stream",
          "text": [
            "Epoch: 8 loss 1.7666634321212769\n"
          ],
          "name": "stdout"
        },
        {
          "output_type": "stream",
          "text": [
            "100%|██████████| 60/60 [00:00<00:00, 65.13it/s]\n"
          ],
          "name": "stderr"
        },
        {
          "output_type": "stream",
          "text": [
            "Epoch: 9 loss 1.7418442964553833\n"
          ],
          "name": "stdout"
        }
      ]
    },
    {
      "cell_type": "code",
      "metadata": {
        "id": "CN6ZsupyouPm",
        "colab": {
          "base_uri": "https://localhost:8080/",
          "height": 265
        },
        "outputId": "19c3ee50-d325-4f77-ba71-22ee1b789c1b"
      },
      "source": [
        "fig = plt.figure(figsize=(16, 4))\n",
        "\n",
        "plt.plot(loss_train_sgd, label='SGD')\n",
        "plt.plot(loss_train_sgd_moment, label='SGD with momentum')\n",
        "plt.plot(loss_train_adam, label='Adam')\n",
        "\n",
        "plt.legend()\n",
        "plt.show()"
      ],
      "execution_count": null,
      "outputs": [
        {
          "output_type": "display_data",
          "data": {
            "image/png": "[encoded data removed]",
            "text/plain": [
              "<Figure size 1152x288 with 1 Axes>"
            ]
          },
          "metadata": {
            "tags": [],
            "needs_background": "light"
          }
        }
      ]
    },
    {
      "cell_type": "markdown",
      "metadata": {
        "id": "iKGry9LYouPo"
      },
      "source": [
        "# Ссылки\n",
        "- [Курс \"Deep learning на пальцах\", лекция 4](https://youtu.be/tnrbx7V9RbA)\n",
        "- [Статья: Оптимизация градиентного спуска](http://ruder.io/optimizing-gradient-descent/)\n",
        "- [Статья: Методы оптимизации нейронных сетей](https://habr.com/ru/post/318970/)"
      ]
    }
  ]
}